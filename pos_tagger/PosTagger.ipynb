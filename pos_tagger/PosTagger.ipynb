{
 "cells": [
  {
   "cell_type": "markdown",
   "metadata": {
    "id": "knc2rAmIS_qw"
   },
   "source": [
    "# **P1: Part-of-Speech (Pos) Tagging**"
   ]
  },
  {
   "cell_type": "markdown",
   "metadata": {},
   "source": [
    "Sara Micol Ferraina, Adrian Orozco Rivera, Francisco Laport Lopez"
   ]
  },
  {
   "cell_type": "code",
   "execution_count": 1,
   "metadata": {
    "colab": {
     "base_uri": "https://localhost:8080/"
    },
    "collapsed": true,
    "id": "eavk8H3KsSjA",
    "outputId": "399921ab-abb4-42a8-c4db-11c5396c75e7"
   },
   "outputs": [
    {
     "name": "stdout",
     "output_type": "stream",
     "text": [
      "Found existing installation: tensorflow 2.17.0\n",
      "Uninstalling tensorflow-2.17.0:\n",
      "  Would remove:\n",
      "    /usr/local/bin/import_pb_to_tensorboard\n",
      "    /usr/local/bin/saved_model_cli\n",
      "    /usr/local/bin/tensorboard\n",
      "    /usr/local/bin/tf_upgrade_v2\n",
      "    /usr/local/bin/tflite_convert\n",
      "    /usr/local/bin/toco\n",
      "    /usr/local/bin/toco_from_protos\n",
      "    /usr/local/lib/python3.10/dist-packages/tensorflow-2.17.0.dist-info/*\n",
      "    /usr/local/lib/python3.10/dist-packages/tensorflow/*\n",
      "Proceed (Y/n)? Y\n",
      "  Successfully uninstalled tensorflow-2.17.0\n",
      "Collecting tensorflow==2.15.0\n",
      "  Downloading tensorflow-2.15.0-cp310-cp310-manylinux_2_17_x86_64.manylinux2014_x86_64.whl.metadata (4.4 kB)\n",
      "Requirement already satisfied: absl-py>=1.0.0 in /usr/local/lib/python3.10/dist-packages (from tensorflow==2.15.0) (1.4.0)\n",
      "Requirement already satisfied: astunparse>=1.6.0 in /usr/local/lib/python3.10/dist-packages (from tensorflow==2.15.0) (1.6.3)\n",
      "Requirement already satisfied: flatbuffers>=23.5.26 in /usr/local/lib/python3.10/dist-packages (from tensorflow==2.15.0) (24.3.25)\n",
      "Requirement already satisfied: gast!=0.5.0,!=0.5.1,!=0.5.2,>=0.2.1 in /usr/local/lib/python3.10/dist-packages (from tensorflow==2.15.0) (0.6.0)\n",
      "Requirement already satisfied: google-pasta>=0.1.1 in /usr/local/lib/python3.10/dist-packages (from tensorflow==2.15.0) (0.2.0)\n",
      "Requirement already satisfied: h5py>=2.9.0 in /usr/local/lib/python3.10/dist-packages (from tensorflow==2.15.0) (3.12.1)\n",
      "Requirement already satisfied: libclang>=13.0.0 in /usr/local/lib/python3.10/dist-packages (from tensorflow==2.15.0) (18.1.1)\n",
      "Collecting ml-dtypes~=0.2.0 (from tensorflow==2.15.0)\n",
      "  Downloading ml_dtypes-0.2.0-cp310-cp310-manylinux_2_17_x86_64.manylinux2014_x86_64.whl.metadata (20 kB)\n",
      "Requirement already satisfied: numpy<2.0.0,>=1.23.5 in /usr/local/lib/python3.10/dist-packages (from tensorflow==2.15.0) (1.26.4)\n",
      "Requirement already satisfied: opt-einsum>=2.3.2 in /usr/local/lib/python3.10/dist-packages (from tensorflow==2.15.0) (3.4.0)\n",
      "Requirement already satisfied: packaging in /usr/local/lib/python3.10/dist-packages (from tensorflow==2.15.0) (24.1)\n",
      "Requirement already satisfied: protobuf!=4.21.0,!=4.21.1,!=4.21.2,!=4.21.3,!=4.21.4,!=4.21.5,<5.0.0dev,>=3.20.3 in /usr/local/lib/python3.10/dist-packages (from tensorflow==2.15.0) (3.20.3)\n",
      "Requirement already satisfied: setuptools in /usr/local/lib/python3.10/dist-packages (from tensorflow==2.15.0) (75.1.0)\n",
      "Requirement already satisfied: six>=1.12.0 in /usr/local/lib/python3.10/dist-packages (from tensorflow==2.15.0) (1.16.0)\n",
      "Requirement already satisfied: termcolor>=1.1.0 in /usr/local/lib/python3.10/dist-packages (from tensorflow==2.15.0) (2.5.0)\n",
      "Requirement already satisfied: typing-extensions>=3.6.6 in /usr/local/lib/python3.10/dist-packages (from tensorflow==2.15.0) (4.12.2)\n",
      "Collecting wrapt<1.15,>=1.11.0 (from tensorflow==2.15.0)\n",
      "  Downloading wrapt-1.14.1-cp310-cp310-manylinux_2_5_x86_64.manylinux1_x86_64.manylinux_2_17_x86_64.manylinux2014_x86_64.whl.metadata (6.7 kB)\n",
      "Requirement already satisfied: tensorflow-io-gcs-filesystem>=0.23.1 in /usr/local/lib/python3.10/dist-packages (from tensorflow==2.15.0) (0.37.1)\n",
      "Requirement already satisfied: grpcio<2.0,>=1.24.3 in /usr/local/lib/python3.10/dist-packages (from tensorflow==2.15.0) (1.64.1)\n",
      "Collecting tensorboard<2.16,>=2.15 (from tensorflow==2.15.0)\n",
      "  Downloading tensorboard-2.15.2-py3-none-any.whl.metadata (1.7 kB)\n",
      "Collecting tensorflow-estimator<2.16,>=2.15.0 (from tensorflow==2.15.0)\n",
      "  Downloading tensorflow_estimator-2.15.0-py2.py3-none-any.whl.metadata (1.3 kB)\n",
      "Collecting keras<2.16,>=2.15.0 (from tensorflow==2.15.0)\n",
      "  Downloading keras-2.15.0-py3-none-any.whl.metadata (2.4 kB)\n",
      "Requirement already satisfied: wheel<1.0,>=0.23.0 in /usr/local/lib/python3.10/dist-packages (from astunparse>=1.6.0->tensorflow==2.15.0) (0.44.0)\n",
      "Requirement already satisfied: google-auth<3,>=1.6.3 in /usr/local/lib/python3.10/dist-packages (from tensorboard<2.16,>=2.15->tensorflow==2.15.0) (2.27.0)\n",
      "Requirement already satisfied: google-auth-oauthlib<2,>=0.5 in /usr/local/lib/python3.10/dist-packages (from tensorboard<2.16,>=2.15->tensorflow==2.15.0) (1.2.1)\n",
      "Requirement already satisfied: markdown>=2.6.8 in /usr/local/lib/python3.10/dist-packages (from tensorboard<2.16,>=2.15->tensorflow==2.15.0) (3.7)\n",
      "Requirement already satisfied: requests<3,>=2.21.0 in /usr/local/lib/python3.10/dist-packages (from tensorboard<2.16,>=2.15->tensorflow==2.15.0) (2.32.3)\n",
      "Requirement already satisfied: tensorboard-data-server<0.8.0,>=0.7.0 in /usr/local/lib/python3.10/dist-packages (from tensorboard<2.16,>=2.15->tensorflow==2.15.0) (0.7.2)\n",
      "Requirement already satisfied: werkzeug>=1.0.1 in /usr/local/lib/python3.10/dist-packages (from tensorboard<2.16,>=2.15->tensorflow==2.15.0) (3.0.6)\n",
      "Requirement already satisfied: cachetools<6.0,>=2.0.0 in /usr/local/lib/python3.10/dist-packages (from google-auth<3,>=1.6.3->tensorboard<2.16,>=2.15->tensorflow==2.15.0) (5.5.0)\n",
      "Requirement already satisfied: pyasn1-modules>=0.2.1 in /usr/local/lib/python3.10/dist-packages (from google-auth<3,>=1.6.3->tensorboard<2.16,>=2.15->tensorflow==2.15.0) (0.4.1)\n",
      "Requirement already satisfied: rsa<5,>=3.1.4 in /usr/local/lib/python3.10/dist-packages (from google-auth<3,>=1.6.3->tensorboard<2.16,>=2.15->tensorflow==2.15.0) (4.9)\n",
      "Requirement already satisfied: requests-oauthlib>=0.7.0 in /usr/local/lib/python3.10/dist-packages (from google-auth-oauthlib<2,>=0.5->tensorboard<2.16,>=2.15->tensorflow==2.15.0) (1.3.1)\n",
      "Requirement already satisfied: charset-normalizer<4,>=2 in /usr/local/lib/python3.10/dist-packages (from requests<3,>=2.21.0->tensorboard<2.16,>=2.15->tensorflow==2.15.0) (3.4.0)\n",
      "Requirement already satisfied: idna<4,>=2.5 in /usr/local/lib/python3.10/dist-packages (from requests<3,>=2.21.0->tensorboard<2.16,>=2.15->tensorflow==2.15.0) (3.10)\n",
      "Requirement already satisfied: urllib3<3,>=1.21.1 in /usr/local/lib/python3.10/dist-packages (from requests<3,>=2.21.0->tensorboard<2.16,>=2.15->tensorflow==2.15.0) (2.2.3)\n",
      "Requirement already satisfied: certifi>=2017.4.17 in /usr/local/lib/python3.10/dist-packages (from requests<3,>=2.21.0->tensorboard<2.16,>=2.15->tensorflow==2.15.0) (2024.8.30)\n",
      "Requirement already satisfied: MarkupSafe>=2.1.1 in /usr/local/lib/python3.10/dist-packages (from werkzeug>=1.0.1->tensorboard<2.16,>=2.15->tensorflow==2.15.0) (3.0.2)\n",
      "Requirement already satisfied: pyasn1<0.7.0,>=0.4.6 in /usr/local/lib/python3.10/dist-packages (from pyasn1-modules>=0.2.1->google-auth<3,>=1.6.3->tensorboard<2.16,>=2.15->tensorflow==2.15.0) (0.6.1)\n",
      "Requirement already satisfied: oauthlib>=3.0.0 in /usr/local/lib/python3.10/dist-packages (from requests-oauthlib>=0.7.0->google-auth-oauthlib<2,>=0.5->tensorboard<2.16,>=2.15->tensorflow==2.15.0) (3.2.2)\n",
      "Downloading tensorflow-2.15.0-cp310-cp310-manylinux_2_17_x86_64.manylinux2014_x86_64.whl (475.2 MB)\n",
      "\u001b[2K   \u001b[90m━━━━━━━━━━━━━━━━━━━━━━━━━━━━━━━━━━━━━━━━\u001b[0m \u001b[32m475.2/475.2 MB\u001b[0m \u001b[31m3.4 MB/s\u001b[0m eta \u001b[36m0:00:00\u001b[0m\n",
      "\u001b[?25hDownloading keras-2.15.0-py3-none-any.whl (1.7 MB)\n",
      "\u001b[2K   \u001b[90m━━━━━━━━━━━━━━━━━━━━━━━━━━━━━━━━━━━━━━━━\u001b[0m \u001b[32m1.7/1.7 MB\u001b[0m \u001b[31m29.5 MB/s\u001b[0m eta \u001b[36m0:00:00\u001b[0m\n",
      "\u001b[?25hDownloading ml_dtypes-0.2.0-cp310-cp310-manylinux_2_17_x86_64.manylinux2014_x86_64.whl (1.0 MB)\n",
      "\u001b[2K   \u001b[90m━━━━━━━━━━━━━━━━━━━━━━━━━━━━━━━━━━━━━━━━\u001b[0m \u001b[32m1.0/1.0 MB\u001b[0m \u001b[31m10.3 MB/s\u001b[0m eta \u001b[36m0:00:00\u001b[0m\n",
      "\u001b[?25hDownloading tensorboard-2.15.2-py3-none-any.whl (5.5 MB)\n",
      "\u001b[2K   \u001b[90m━━━━━━━━━━━━━━━━━━━━━━━━━━━━━━━━━━━━━━━━\u001b[0m \u001b[32m5.5/5.5 MB\u001b[0m \u001b[31m48.7 MB/s\u001b[0m eta \u001b[36m0:00:00\u001b[0m\n",
      "\u001b[?25hDownloading tensorflow_estimator-2.15.0-py2.py3-none-any.whl (441 kB)\n",
      "\u001b[2K   \u001b[90m━━━━━━━━━━━━━━━━━━━━━━━━━━━━━━━━━━━━━━━━\u001b[0m \u001b[32m442.0/442.0 kB\u001b[0m \u001b[31m21.4 MB/s\u001b[0m eta \u001b[36m0:00:00\u001b[0m\n",
      "\u001b[?25hDownloading wrapt-1.14.1-cp310-cp310-manylinux_2_5_x86_64.manylinux1_x86_64.manylinux_2_17_x86_64.manylinux2014_x86_64.whl (77 kB)\n",
      "\u001b[2K   \u001b[90m━━━━━━━━━━━━━━━━━━━━━━━━━━━━━━━━━━━━━━━━\u001b[0m \u001b[32m77.9/77.9 kB\u001b[0m \u001b[31m3.8 MB/s\u001b[0m eta \u001b[36m0:00:00\u001b[0m\n",
      "\u001b[?25hInstalling collected packages: wrapt, tensorflow-estimator, ml-dtypes, keras, tensorboard, tensorflow\n",
      "  Attempting uninstall: wrapt\n",
      "    Found existing installation: wrapt 1.16.0\n",
      "    Uninstalling wrapt-1.16.0:\n",
      "      Successfully uninstalled wrapt-1.16.0\n",
      "  Attempting uninstall: ml-dtypes\n",
      "    Found existing installation: ml-dtypes 0.4.1\n",
      "    Uninstalling ml-dtypes-0.4.1:\n",
      "      Successfully uninstalled ml-dtypes-0.4.1\n",
      "  Attempting uninstall: keras\n",
      "    Found existing installation: keras 3.4.1\n",
      "    Uninstalling keras-3.4.1:\n",
      "      Successfully uninstalled keras-3.4.1\n",
      "  Attempting uninstall: tensorboard\n",
      "    Found existing installation: tensorboard 2.17.0\n",
      "    Uninstalling tensorboard-2.17.0:\n",
      "      Successfully uninstalled tensorboard-2.17.0\n",
      "\u001b[31mERROR: pip's dependency resolver does not currently take into account all the packages that are installed. This behaviour is the source of the following dependency conflicts.\n",
      "tensorstore 0.1.67 requires ml-dtypes>=0.3.1, but you have ml-dtypes 0.2.0 which is incompatible.\n",
      "tf-keras 2.17.0 requires tensorflow<2.18,>=2.17, but you have tensorflow 2.15.0 which is incompatible.\u001b[0m\u001b[31m\n",
      "\u001b[0mSuccessfully installed keras-2.15.0 ml-dtypes-0.2.0 tensorboard-2.15.2 tensorflow-2.15.0 tensorflow-estimator-2.15.0 wrapt-1.14.1\n"
     ]
    }
   ],
   "source": [
    "!pip uninstall tensorflow\n",
    "!pip install tensorflow==2.15.0\n"
   ]
  },
  {
   "cell_type": "code",
   "execution_count": 4,
   "metadata": {
    "colab": {
     "base_uri": "https://localhost:8080/"
    },
    "id": "LsBnAEcXTMq1",
    "outputId": "545eb185-834f-460a-ba25-b865d1904752"
   },
   "outputs": [
    {
     "name": "stdout",
     "output_type": "stream",
     "text": [
      "Mounted at /content/drive\n"
     ]
    }
   ],
   "source": [
    "from google.colab import drive\n",
    "drive.mount('/content/drive')"
   ]
  },
  {
   "cell_type": "markdown",
   "metadata": {
    "id": "i6ebW65929kq"
   },
   "source": [
    "**STEP 0: VARIABLE CONFIGURATION BEFORE RUNNING THE CODE**\n",
    "\n",
    "As we are running a Google Colab notebook, we need to define the project folder where we want to work and download the datasets.\n",
    "\n",
    "**Please define that folder int the following cell using the variable `working_folder`**"
   ]
  },
  {
   "cell_type": "code",
   "execution_count": 5,
   "metadata": {
    "id": "e72hXTYQ3cpZ"
   },
   "outputs": [],
   "source": [
    "working_folder = '/content/drive/MyDrive/Projects'"
   ]
  },
  {
   "cell_type": "markdown",
   "metadata": {
    "id": "43yrnaQ9AMWD"
   },
   "source": [
    "**STEP 1: Download and parse the datasets**\n"
   ]
  },
  {
   "cell_type": "code",
   "execution_count": 16,
   "metadata": {
    "colab": {
     "base_uri": "https://localhost:8080/"
    },
    "id": "61qCWyoQtLmx",
    "outputId": "c8de0c06-1362-4996-a3a9-eaa16dc5b536"
   },
   "outputs": [
    {
     "name": "stdout",
     "output_type": "stream",
     "text": [
      "File downloaded successfully and saved to /content/drive/MyDrive/Projects/dataset\n",
      "File downloaded successfully and saved to /content/drive/MyDrive/Projects/valdata\n",
      "File downloaded successfully and saved to /content/drive/MyDrive/Projects/testdata\n"
     ]
    }
   ],
   "source": [
    "import sys\n",
    "import numpy as np\n",
    "sys.path.append(working_folder)\n",
    "from Tokenino import Token\n",
    "from Tokenino import MyTagger\n",
    "import utils_v2 as utils\n",
    "\n",
    "\n",
    "# URLs from the English datasets\n",
    "url_train = 'https://raw.githubusercontent.com/UniversalDependencies/UD_English-EWT/refs/heads/master/en_ewt-ud-train.conllu'\n",
    "url_val ='https://raw.githubusercontent.com/UniversalDependencies/UD_English-EWT/refs/heads/master/en_ewt-ud-dev.conllu'\n",
    "url_test = 'https://raw.githubusercontent.com/UniversalDependencies/UD_English-EWT/refs/heads/master/en_ewt-ud-test.conllu'\n",
    "'''''\n",
    "\n",
    "# URLs from the Galician datasets\n",
    "url_train = 'https://raw.githubusercontent.com/UniversalDependencies/UD_Galician-TreeGal/refs/heads/master/gl_treegal-ud-train.conllu'\n",
    "url_test ='https://raw.githubusercontent.com/UniversalDependencies/UD_Galician-TreeGal/refs/heads/master/gl_treegal-ud-test.conllu'\n",
    "'''\n",
    "from google.colab import files\n",
    "# Paths to save the datasets.\n",
    "file_path_train = working_folder + '/dataset'  # Train set\n",
    "file_path_val = working_folder + '/valdata'  # Validation set\n",
    "file_path_test = working_folder + '/testdata'  # Test set\n",
    "\n",
    "# Download and save the datasets.\n",
    "utils.download_file(url_train, file_path_train)\n",
    "utils.download_file(url_val, file_path_val)\n",
    "utils.download_file(url_test, file_path_test)\n",
    "\n",
    "# Parse the datasets\n",
    "train_sentences = utils.parse_conllu(file_path_train)\n",
    "val_sentences = utils.parse_conllu(file_path_val)\n",
    "test_sentences = utils.parse_conllu(file_path_test)\n",
    "\n"
   ]
  },
  {
   "cell_type": "markdown",
   "metadata": {
    "id": "vNu6DsEpAeTL"
   },
   "source": [
    "**STEP 2: Prepare the data for the network**"
   ]
  },
  {
   "cell_type": "code",
   "execution_count": 19,
   "metadata": {
    "colab": {
     "base_uri": "https://localhost:8080/"
    },
    "collapsed": true,
    "id": "Rnm7oaAL6gto",
    "outputId": "6a48210c-b6b1-46a7-bc8a-4d92bf80db1c"
   },
   "outputs": [
    {
     "name": "stdout",
     "output_type": "stream",
     "text": [
      "max_lenght:  159\n"
     ]
    }
   ],
   "source": [
    "# Prepare the data for the network.\n",
    "max_length = max(len(sentence) for sentence in train_sentences)\n",
    "print('max_lenght: ', max_length)\n",
    "\n",
    "# Create word vectorizer\n",
    "text_vectorizer = utils.build_word_vectorizer(train_sentences, max_length)\n",
    "\n",
    "train_input, train_output = utils.prepare_data(train_sentences, text_vectorizer, max_length)\n",
    "val_input, val_output = utils.prepare_data(val_sentences, text_vectorizer, max_length)\n",
    "test_input, test_output = utils.prepare_data(test_sentences, text_vectorizer, max_length)"
   ]
  },
  {
   "cell_type": "markdown",
   "metadata": {
    "id": "tarOwLd4AnAr"
   },
   "source": [
    "**STEP 3: Build the network, train it and evaluate it**"
   ]
  },
  {
   "cell_type": "code",
   "execution_count": 20,
   "metadata": {
    "colab": {
     "base_uri": "https://localhost:8080/",
     "height": 1000
    },
    "id": "kEsNMCzEUJOM",
    "outputId": "511e5a2b-4fbb-4bab-c0e0-e52550e376cb"
   },
   "outputs": [
    {
     "name": "stdout",
     "output_type": "stream",
     "text": [
      "num pos tags 17\n",
      "train shape (12544, 159, 17)\n",
      "Model: \"sequential_3\"\n",
      "_________________________________________________________________\n",
      " Layer (type)                Output Shape              Param #   \n",
      "=================================================================\n",
      " masking_3 (Masking)         (None, 159)               0         \n",
      "                                                                 \n",
      " embedding_3 (Embedding)     (None, 159, 100)          1967600   \n",
      "                                                                 \n",
      " bidirectional_3 (Bidirecti  (None, 159, 128)          84480     \n",
      " onal)                                                           \n",
      "                                                                 \n",
      " time_distributed_3 (TimeDi  (None, 159, 17)           2193      \n",
      " stributed)                                                      \n",
      "                                                                 \n",
      "=================================================================\n",
      "Total params: 2054273 (7.84 MB)\n",
      "Trainable params: 2054273 (7.84 MB)\n",
      "Non-trainable params: 0 (0.00 Byte)\n",
      "_________________________________________________________________\n",
      "Epoch 1/10\n",
      "79/79 [==============================] - 57s 678ms/step - loss: 0.6503 - accuracy: 0.8938 - val_loss: 0.2853 - val_accuracy: 0.9044\n",
      "Epoch 2/10\n",
      "79/79 [==============================] - 51s 648ms/step - loss: 0.2639 - accuracy: 0.9128 - val_loss: 0.2614 - val_accuracy: 0.9119\n",
      "Epoch 3/10\n",
      "79/79 [==============================] - 51s 645ms/step - loss: 0.2418 - accuracy: 0.9188 - val_loss: 0.2324 - val_accuracy: 0.9313\n",
      "Epoch 4/10\n",
      "79/79 [==============================] - 52s 657ms/step - loss: 0.1975 - accuracy: 0.9498 - val_loss: 0.1705 - val_accuracy: 0.9582\n",
      "Epoch 5/10\n",
      "79/79 [==============================] - 51s 642ms/step - loss: 0.1332 - accuracy: 0.9657 - val_loss: 0.1087 - val_accuracy: 0.9724\n",
      "Epoch 6/10\n",
      "79/79 [==============================] - 52s 653ms/step - loss: 0.0829 - accuracy: 0.9795 - val_loss: 0.0705 - val_accuracy: 0.9839\n",
      "Epoch 7/10\n",
      "79/79 [==============================] - 51s 651ms/step - loss: 0.0518 - accuracy: 0.9902 - val_loss: 0.0512 - val_accuracy: 0.9874\n",
      "Epoch 8/10\n",
      "79/79 [==============================] - 52s 652ms/step - loss: 0.0351 - accuracy: 0.9933 - val_loss: 0.0425 - val_accuracy: 0.9886\n",
      "Epoch 9/10\n",
      "79/79 [==============================] - 51s 646ms/step - loss: 0.0265 - accuracy: 0.9943 - val_loss: 0.0381 - val_accuracy: 0.9892\n",
      "Epoch 10/10\n",
      "79/79 [==============================] - 52s 655ms/step - loss: 0.0216 - accuracy: 0.9950 - val_loss: 0.0357 - val_accuracy: 0.9896\n"
     ]
    },
    {
     "data": {
      "image/png": "[encoded data removed]",
      "text/plain": [
       "<Figure size 640x480 with 1 Axes>"
      ]
     },
     "metadata": {},
     "output_type": "display_data"
    },
    {
     "name": "stdout",
     "output_type": "stream",
     "text": [
      "17/17 [==============================] - 5s 279ms/step - loss: 0.0290 - accuracy: 0.9917\n",
      "Test Loss: 0.0290\n",
      "Test Accuracy: 0.9917\n"
     ]
    }
   ],
   "source": [
    "# Build the network and train it.\n",
    "vocab_size = text_vectorizer.vocabulary_size()  # Vocabulary size built with TextVectorization --- This should be the size of all the tokens = text_vectorizer.vocabulary_size()\n",
    "embedding_dim = 100  # Dimension of word embeddings\n",
    "lstm_units = 64  # Number of LSTM units\n",
    "num_pos_tags = np.shape(train_output)[2]  # Number of POS tags\n",
    "\n",
    "print('num pos tags', num_pos_tags)\n",
    "print('train shape', train_output.shape)\n",
    "# Create the model\n",
    "tagger = MyTagger()\n",
    "tagger.build_model(max_length, vocab_size, embedding_dim, lstm_units, num_pos_tags)\n",
    "\n",
    "tagger.train_model(train_input, train_output, val_inputs=None, val_outputs=None, epochs=10, batch_size=128)\n",
    "tagger.plot_history() # plot model trainig and validation\n",
    "\n",
    "loss, accuracy = tagger.model_evaluate(test_input, test_output, batch_size=128)\n",
    "print(f\"Test Loss: {loss:.4f}\")\n",
    "print(f\"Test Accuracy: {accuracy:.4f}\")\n"
   ]
  },
  {
   "cell_type": "markdown",
   "metadata": {
    "id": "oXeuRTwvY6_4"
   },
   "source": [
    "**STEP 4: Do the Predictions:**"
   ]
  },
  {
   "cell_type": "code",
   "execution_count": 21,
   "metadata": {
    "colab": {
     "base_uri": "https://localhost:8080/"
    },
    "id": "QxLlJU0Wblvc",
    "outputId": "8e9ac7ae-4a3f-4bc5-9b8a-44b270afde5f"
   },
   "outputs": [
    {
     "name": "stdout",
     "output_type": "stream",
     "text": [
      "65/65 [==============================] - 4s 46ms/step\n",
      "Sentence: What if Google expanded on its search - engine ( and now e-mail ) wares into a full - fledged operating system ?\n",
      "Predicted classes (IDs): [10 13 11 15  1 10  7 12  7 12  4  2  7 12  7  1  5  0 12  0  7  7 12  0\n",
      "  0  0  0  0  0  0  0  0  0  0  0  0  0  0  0  0  0  0  0  0  0  0  0  0\n",
      "  0  0  0  0  0  0  0  0  0  0  0  0  0  0  0  0  0  0  0  0  0  0  0  0\n",
      "  0  0  0  0  0  0  0  0  0  0  0  0  0  0  0  0  0  0  0  0  0  0  0  0\n",
      "  0  0  0  0  0  0  0  0  0  0  0  0  0  0  0  0  0  0  0  0  0  0  0  0\n",
      "  0  0  0  0  0  0  0  0  0  0  0  0  0  0  0  0  0  0  0  0  0  0  0  0\n",
      "  0  0  0  0  0  0  0  0  0  0  0  0  0  0  0]\n",
      "----------------------------------------\n"
     ]
    }
   ],
   "source": [
    "# Prediction\n",
    "predictions = tagger.predict(test_input)\n",
    "\n",
    "# Obtain the predicted classes\n",
    "predicted_classes = np.argmax(predictions, axis=-1)\n",
    "\n",
    "# Stamp the results only for the first sentence\n",
    "if test_sentences: #ensure that there are sentences\n",
    "    print(f\"Sentence: {' '.join([token.form for token in test_sentences[1]])}\")\n",
    "    print(f\"Predicted classes (IDs): {predicted_classes[1]}\")\n",
    "    print(\"-\" * 40)  # Divider for better readability\n",
    "else:\n",
    "    print(\"No sentences found in the test set.\")\n",
    "\n"
   ]
  },
  {
   "cell_type": "code",
   "execution_count": null,
   "metadata": {
    "id": "0WvJV3Cb3f4Z"
   },
   "outputs": [],
   "source": []
  }
 ],
 "metadata": {
  "accelerator": "GPU",
  "colab": {
   "gpuType": "T4",
   "provenance": []
  },
  "kernelspec": {
   "display_name": "Python 3",
   "name": "python3"
  },
  "language_info": {
   "name": "python"
  }
 },
 "nbformat": 4,
 "nbformat_minor": 0
}
