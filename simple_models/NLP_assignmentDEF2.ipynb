{
  "cells": [
    {
      "cell_type": "markdown",
      "metadata": {
        "id": "AwPJIVVXNfQM"
      },
      "source": [
        "# **P0:SIMPLE MODEL WITH KERAS**"
      ]
    },
    {
      "cell_type": "markdown",
      "metadata": {
        "id": "1fbPciKrNrIk"
      },
      "source": [
        "BY SARA MICOL FERRAINA, ALEXANDRE DE NYS, SZYMON BARTANOWICZ"
      ]
    },
    {
      "cell_type": "markdown",
      "metadata": {
        "id": "ZwsbfBCGdIyt"
      },
      "source": [
        "**POINT ONE**"
      ]
    },
    {
      "cell_type": "code",
      "execution_count": 1,
      "metadata": {
        "colab": {
          "base_uri": "https://localhost:8080/",
          "height": 0
        },
        "collapsed": true,
        "id": "j86B20uuiF1g",
        "outputId": "17d353b1-5726-41a1-8506-b5cdaa379cfc"
      },
      "outputs": [
        {
          "name": "stdout",
          "output_type": "stream",
          "text": [
            "Found existing installation: tensorflow 2.15.0\n",
            "Uninstalling tensorflow-2.15.0:\n",
            "  Would remove:\n",
            "    /usr/local/bin/estimator_ckpt_converter\n",
            "    /usr/local/bin/import_pb_to_tensorboard\n",
            "    /usr/local/bin/saved_model_cli\n",
            "    /usr/local/bin/tensorboard\n",
            "    /usr/local/bin/tf_upgrade_v2\n",
            "    /usr/local/bin/tflite_convert\n",
            "    /usr/local/bin/toco\n",
            "    /usr/local/bin/toco_from_protos\n",
            "    /usr/local/lib/python3.10/dist-packages/tensorflow-2.15.0.dist-info/*\n",
            "    /usr/local/lib/python3.10/dist-packages/tensorflow/*\n",
            "Proceed (Y/n)? Y\n",
            "  Successfully uninstalled tensorflow-2.15.0\n",
            "Collecting tensorflow==2.15.0\n",
            "  Using cached tensorflow-2.15.0-cp310-cp310-manylinux_2_17_x86_64.manylinux2014_x86_64.whl.metadata (4.4 kB)\n",
            "Requirement already satisfied: absl-py>=1.0.0 in /usr/local/lib/python3.10/dist-packages (from tensorflow==2.15.0) (1.4.0)\n",
            "Requirement already satisfied: astunparse>=1.6.0 in /usr/local/lib/python3.10/dist-packages (from tensorflow==2.15.0) (1.6.3)\n",
            "Requirement already satisfied: flatbuffers>=23.5.26 in /usr/local/lib/python3.10/dist-packages (from tensorflow==2.15.0) (24.3.25)\n",
            "Requirement already satisfied: gast!=0.5.0,!=0.5.1,!=0.5.2,>=0.2.1 in /usr/local/lib/python3.10/dist-packages (from tensorflow==2.15.0) (0.6.0)\n",
            "Requirement already satisfied: google-pasta>=0.1.1 in /usr/local/lib/python3.10/dist-packages (from tensorflow==2.15.0) (0.2.0)\n",
            "Requirement already satisfied: h5py>=2.9.0 in /usr/local/lib/python3.10/dist-packages (from tensorflow==2.15.0) (3.11.0)\n",
            "Requirement already satisfied: libclang>=13.0.0 in /usr/local/lib/python3.10/dist-packages (from tensorflow==2.15.0) (18.1.1)\n",
            "Requirement already satisfied: ml-dtypes~=0.2.0 in /usr/local/lib/python3.10/dist-packages (from tensorflow==2.15.0) (0.2.0)\n",
            "Requirement already satisfied: numpy<2.0.0,>=1.23.5 in /usr/local/lib/python3.10/dist-packages (from tensorflow==2.15.0) (1.26.4)\n",
            "Requirement already satisfied: opt-einsum>=2.3.2 in /usr/local/lib/python3.10/dist-packages (from tensorflow==2.15.0) (3.3.0)\n",
            "Requirement already satisfied: packaging in /usr/local/lib/python3.10/dist-packages (from tensorflow==2.15.0) (24.1)\n",
            "Requirement already satisfied: protobuf!=4.21.0,!=4.21.1,!=4.21.2,!=4.21.3,!=4.21.4,!=4.21.5,<5.0.0dev,>=3.20.3 in /usr/local/lib/python3.10/dist-packages (from tensorflow==2.15.0) (3.20.3)\n",
            "Requirement already satisfied: setuptools in /usr/local/lib/python3.10/dist-packages (from tensorflow==2.15.0) (71.0.4)\n",
            "Requirement already satisfied: six>=1.12.0 in /usr/local/lib/python3.10/dist-packages (from tensorflow==2.15.0) (1.16.0)\n",
            "Requirement already satisfied: termcolor>=1.1.0 in /usr/local/lib/python3.10/dist-packages (from tensorflow==2.15.0) (2.4.0)\n",
            "Requirement already satisfied: typing-extensions>=3.6.6 in /usr/local/lib/python3.10/dist-packages (from tensorflow==2.15.0) (4.12.2)\n",
            "Requirement already satisfied: wrapt<1.15,>=1.11.0 in /usr/local/lib/python3.10/dist-packages (from tensorflow==2.15.0) (1.14.1)\n",
            "Requirement already satisfied: tensorflow-io-gcs-filesystem>=0.23.1 in /usr/local/lib/python3.10/dist-packages (from tensorflow==2.15.0) (0.37.1)\n",
            "Requirement already satisfied: grpcio<2.0,>=1.24.3 in /usr/local/lib/python3.10/dist-packages (from tensorflow==2.15.0) (1.64.1)\n",
            "Requirement already satisfied: tensorboard<2.16,>=2.15 in /usr/local/lib/python3.10/dist-packages (from tensorflow==2.15.0) (2.15.2)\n",
            "Requirement already satisfied: tensorflow-estimator<2.16,>=2.15.0 in /usr/local/lib/python3.10/dist-packages (from tensorflow==2.15.0) (2.15.0)\n",
            "Requirement already satisfied: keras<2.16,>=2.15.0 in /usr/local/lib/python3.10/dist-packages (from tensorflow==2.15.0) (2.15.0)\n",
            "Requirement already satisfied: wheel<1.0,>=0.23.0 in /usr/local/lib/python3.10/dist-packages (from astunparse>=1.6.0->tensorflow==2.15.0) (0.44.0)\n",
            "Requirement already satisfied: google-auth<3,>=1.6.3 in /usr/local/lib/python3.10/dist-packages (from tensorboard<2.16,>=2.15->tensorflow==2.15.0) (2.27.0)\n",
            "Requirement already satisfied: google-auth-oauthlib<2,>=0.5 in /usr/local/lib/python3.10/dist-packages (from tensorboard<2.16,>=2.15->tensorflow==2.15.0) (1.2.1)\n",
            "Requirement already satisfied: markdown>=2.6.8 in /usr/local/lib/python3.10/dist-packages (from tensorboard<2.16,>=2.15->tensorflow==2.15.0) (3.7)\n",
            "Requirement already satisfied: requests<3,>=2.21.0 in /usr/local/lib/python3.10/dist-packages (from tensorboard<2.16,>=2.15->tensorflow==2.15.0) (2.32.3)\n",
            "Requirement already satisfied: tensorboard-data-server<0.8.0,>=0.7.0 in /usr/local/lib/python3.10/dist-packages (from tensorboard<2.16,>=2.15->tensorflow==2.15.0) (0.7.2)\n",
            "Requirement already satisfied: werkzeug>=1.0.1 in /usr/local/lib/python3.10/dist-packages (from tensorboard<2.16,>=2.15->tensorflow==2.15.0) (3.0.4)\n",
            "Requirement already satisfied: cachetools<6.0,>=2.0.0 in /usr/local/lib/python3.10/dist-packages (from google-auth<3,>=1.6.3->tensorboard<2.16,>=2.15->tensorflow==2.15.0) (5.5.0)\n",
            "Requirement already satisfied: pyasn1-modules>=0.2.1 in /usr/local/lib/python3.10/dist-packages (from google-auth<3,>=1.6.3->tensorboard<2.16,>=2.15->tensorflow==2.15.0) (0.4.1)\n",
            "Requirement already satisfied: rsa<5,>=3.1.4 in /usr/local/lib/python3.10/dist-packages (from google-auth<3,>=1.6.3->tensorboard<2.16,>=2.15->tensorflow==2.15.0) (4.9)\n",
            "Requirement already satisfied: requests-oauthlib>=0.7.0 in /usr/local/lib/python3.10/dist-packages (from google-auth-oauthlib<2,>=0.5->tensorboard<2.16,>=2.15->tensorflow==2.15.0) (1.3.1)\n",
            "Requirement already satisfied: charset-normalizer<4,>=2 in /usr/local/lib/python3.10/dist-packages (from requests<3,>=2.21.0->tensorboard<2.16,>=2.15->tensorflow==2.15.0) (3.3.2)\n",
            "Requirement already satisfied: idna<4,>=2.5 in /usr/local/lib/python3.10/dist-packages (from requests<3,>=2.21.0->tensorboard<2.16,>=2.15->tensorflow==2.15.0) (3.10)\n",
            "Requirement already satisfied: urllib3<3,>=1.21.1 in /usr/local/lib/python3.10/dist-packages (from requests<3,>=2.21.0->tensorboard<2.16,>=2.15->tensorflow==2.15.0) (2.2.3)\n",
            "Requirement already satisfied: certifi>=2017.4.17 in /usr/local/lib/python3.10/dist-packages (from requests<3,>=2.21.0->tensorboard<2.16,>=2.15->tensorflow==2.15.0) (2024.8.30)\n",
            "Requirement already satisfied: MarkupSafe>=2.1.1 in /usr/local/lib/python3.10/dist-packages (from werkzeug>=1.0.1->tensorboard<2.16,>=2.15->tensorflow==2.15.0) (2.1.5)\n",
            "Requirement already satisfied: pyasn1<0.7.0,>=0.4.6 in /usr/local/lib/python3.10/dist-packages (from pyasn1-modules>=0.2.1->google-auth<3,>=1.6.3->tensorboard<2.16,>=2.15->tensorflow==2.15.0) (0.6.1)\n",
            "Requirement already satisfied: oauthlib>=3.0.0 in /usr/local/lib/python3.10/dist-packages (from requests-oauthlib>=0.7.0->google-auth-oauthlib<2,>=0.5->tensorboard<2.16,>=2.15->tensorflow==2.15.0) (3.2.2)\n",
            "Using cached tensorflow-2.15.0-cp310-cp310-manylinux_2_17_x86_64.manylinux2014_x86_64.whl (475.2 MB)\n",
            "Installing collected packages: tensorflow\n",
            "\u001b[31mERROR: pip's dependency resolver does not currently take into account all the packages that are installed. This behaviour is the source of the following dependency conflicts.\n",
            "tf-keras 2.17.0 requires tensorflow<2.18,>=2.17, but you have tensorflow 2.15.0 which is incompatible.\u001b[0m\u001b[31m\n",
            "\u001b[0mSuccessfully installed tensorflow-2.15.0\n"
          ]
        }
      ],
      "source": [
        "!pip uninstall tensorflow\n",
        "!pip install tensorflow==2.15.0\n",
        "\n"
      ]
    },
    {
      "cell_type": "markdown",
      "metadata": {
        "id": "fcSh2-NjxClS"
      },
      "source": [
        "**LOAD LIBRARIES**"
      ]
    },
    {
      "cell_type": "code",
      "execution_count": 2,
      "metadata": {
        "id": "jYu1f6lc3uEa"
      },
      "outputs": [],
      "source": [
        "import csv\n",
        "import tensorflow as tf\n",
        "from tensorflow.keras.utils import get_file\n",
        "import numpy as np\n",
        "from tensorflow.keras.preprocessing.text import Tokenizer\n",
        "from tensorflow.keras.utils import to_categorical\n",
        "from tensorflow.keras.models import Sequential\n",
        "from tensorflow.keras.layers import Dense\n",
        "from tensorflow.keras.layers import TextVectorization\n",
        "from tensorflow.keras.optimizers import Adam\n",
        "from tensorflow.keras.layers import Input, Embedding, Conv1D, GlobalMaxPooling1D, Dense\n",
        "from tensorflow.keras.models import Model"
      ]
    },
    {
      "cell_type": "markdown",
      "metadata": {
        "id": "Pu4_5BAs6ZDC"
      },
      "source": [
        "**DATA LOADING**"
      ]
    },
    {
      "cell_type": "code",
      "execution_count": 36,
      "metadata": {
        "id": "RWzpZZTWxkdA"
      },
      "outputs": [],
      "source": [
        "\n",
        "path =\"/content/Womens Clothing E-Commerce Reviews.csv\"\n",
        "\n",
        "with open(path, newline='') as f:  # Usa stringa vuota per newline\n",
        "    reader = csv.reader(f)\n",
        "    data = list(reader)\n"
      ]
    },
    {
      "cell_type": "markdown",
      "metadata": {
        "id": "NRdbbT1k6ic3"
      },
      "source": [
        "**DATA PREPARATION**"
      ]
    },
    {
      "cell_type": "code",
      "execution_count": 37,
      "metadata": {
        "colab": {
          "base_uri": "https://localhost:8080/"
        },
        "id": "4ccyHFQm_Q2q",
        "outputId": "fc183c3a-a8ab-48ed-a6f6-62a9a0a17ac2"
      },
      "outputs": [
        {
          "name": "stdout",
          "output_type": "stream",
          "text": [
            " Absolutely wonderful - silky and sexy and comfortable - Positive\n",
            "X_train: Some major design flaws I had such high hopes for this dress and really wanted it to work for me. i initially ordered the petite small (my usual size) but i found this to be outrageously small. so small in fact that i could not zip it up! i reordered it in petite medium, which was just ok. overall, the top half was comfortable and fit nicely, but the bottom half had a very tight under layer and several somewhat cheap (net) over layers. imo, a major design flaw was the net over layer sewn directly into the zipper - it c\n",
            "y_train: Neutral\n",
            "X_test: Unique These culottes are fun. i bought the neutral color with the black stripes in xs. in my opinion, they run big. i am usually a small (4-6), 31\" waist, 38\" hips. pleats at the hip and low waist area are not always my friend, but with a longer tank or shirt, they looked fine. the fabric moves in a graceful way and these culottes can be dressed up or down. so far, wrinkling isn't a huge problem but we'll see. i am 5' 9\" tall and these fall about the same place on the model--mid calf. they looked grea\n",
            "y_test: Positive\n"
          ]
        }
      ],
      "source": [
        "import csv\n",
        "\n",
        "path = \"/content/Womens Clothing E-Commerce Reviews.csv\"\n",
        "\n",
        "# Classification function\n",
        "def classify(value):\n",
        "    if value in ['1', '2']:\n",
        "        return \"Negative\"\n",
        "    elif value == '3':\n",
        "        return \"Neutral\"\n",
        "    elif value in ['4', '5']:\n",
        "        return \"Positive\"\n",
        "    return \"Unknown\"\n",
        "\n",
        "# Open the file and process the content\n",
        "with open(path, newline='', encoding='utf-8') as f:\n",
        "    reader = csv.reader(f)\n",
        "\n",
        "    # Skip the first row\n",
        "    next(reader)\n",
        "\n",
        "    # Extract only columns 3 and 4 and concatenate if the third column is not empty\n",
        "    concatenated_data = []\n",
        "    classifications = []\n",
        "\n",
        "    for row in reader:\n",
        "        if row[0].strip():  # Check if the first column is not empty\n",
        "            concatenated_entry = f\"{row[3]} {row[4]}\"\n",
        "            concatenated_data.append(concatenated_entry)\n",
        "            classification = classify(row[5].strip())  # Classify the value in the fifth column\n",
        "            classifications.append(classification)\n",
        "\n",
        "# Display filtered data\n",
        "# This was done just to check if it was correct\n",
        "if concatenated_data:  # Check if there is data\n",
        "    print(f\"{concatenated_data[0]} - {classifications[0]}\")  # Print only the first row\n",
        "\n",
        "# DATA SPLITTING\n",
        "\n",
        "# Convert to NumPy arrays\n",
        "X = np.array(concatenated_data)\n",
        "y = np.array(classifications)\n",
        "\n",
        "# Manual dataset splitting\n",
        "# test also corresponds to training\n",
        "split_index = int(18000)  # 80% for training\n",
        "X_train = X[:split_index]\n",
        "y_train = y[:split_index]\n",
        "X_test = X[split_index:]\n",
        "y_test = y[split_index:]\n",
        "\n",
        "# Display the results, only the first row of each\n",
        "print(\"X_train:\", X_train[2])\n",
        "print(\"y_train:\", y_train[2])\n",
        "print(\"X_test:\", X_test[0])\n",
        "print(\"y_test:\", y_test[0])\n",
        "\n"
      ]
    },
    {
      "cell_type": "markdown",
      "metadata": {
        "id": "oEHPOIoecRrk"
      },
      "source": [
        "**POINT 2**"
      ]
    },
    {
      "cell_type": "markdown",
      "metadata": {
        "id": "iuP2evuAcTp9"
      },
      "source": [
        "**PERCEPTRON WITH** **TOKENIZER**"
      ]
    },
    {
      "cell_type": "markdown",
      "metadata": {
        "id": "MvHjqQ0-ftHJ"
      },
      "source": [
        "**CONVERTING X**"
      ]
    },
    {
      "cell_type": "code",
      "execution_count": 38,
      "metadata": {
        "colab": {
          "base_uri": "https://localhost:8080/"
        },
        "collapsed": true,
        "id": "6MYjo_p3ca1n",
        "outputId": "cbc41298-aa17-4937-a1e1-536fa3c00e50"
      },
      "outputs": [
        {
          "name": "stdout",
          "output_type": "stream",
          "text": [
            "X_train_binary shape: (18000, 1000)\n",
            "X_test_binary shape: (5486, 1000)\n",
            "Example X_train_binary[0]: [0. 0. 0. 1. 0. 0. 0. 0. 0. 0. 0. 0. 0. 0. 0. 0. 0. 0. 0. 0. 0. 0. 0. 0.\n",
            " 0. 0. 0. 0. 0. 0. 0. 0. 0. 0. 0. 0. 0. 0. 0. 0. 0. 0. 0. 0. 0. 0. 0. 0.\n",
            " 0. 0. 0. 0. 0. 0. 0. 0. 0. 0. 0. 0. 0. 0. 1. 0. 0. 0. 0. 0. 0. 0. 0. 0.\n",
            " 0. 0. 0. 0. 0. 0. 0. 0. 0. 0. 0. 0. 0. 0. 0. 0. 0. 0. 0. 0. 0. 0. 0. 0.\n",
            " 0. 0. 0. 0. 0. 0. 0. 0. 0. 0. 0. 0. 0. 0. 0. 0. 0. 0. 0. 0. 0. 0. 0. 0.\n",
            " 0. 0. 0. 0. 0. 0. 0. 0. 0. 0. 0. 0. 0. 0. 0. 0. 0. 0. 0. 0. 0. 0. 0. 0.\n",
            " 0. 0. 0. 0. 0. 0. 0. 0. 0. 0. 0. 0. 0. 0. 0. 0. 0. 0. 0. 0. 0. 0. 0. 0.\n",
            " 0. 0. 0. 0. 0. 0. 0. 0. 0. 0. 0. 0. 0. 0. 0. 0. 0. 0. 0. 0. 0. 0. 0. 0.\n",
            " 0. 0. 0. 0. 0. 0. 0. 0. 0. 0. 0. 0. 0. 0. 0. 0. 0. 0. 0. 0. 0. 0. 0. 0.\n",
            " 0. 0. 0. 0. 0. 0. 0. 0. 0. 0. 0. 0. 0. 0. 0. 0. 0. 0. 0. 0. 0. 0. 0. 0.\n",
            " 0. 1. 0. 0. 0. 0. 0. 0. 0. 0. 0. 0. 0. 0. 0. 0. 0. 0. 0. 0. 0. 0. 0. 0.\n",
            " 0. 0. 0. 0. 0. 0. 0. 0. 0. 0. 0. 0. 0. 0. 0. 0. 0. 0. 0. 0. 0. 0. 0. 0.\n",
            " 0. 0. 0. 0. 0. 0. 0. 0. 0. 0. 0. 0. 0. 0. 0. 0. 0. 0. 0. 0. 0. 0. 0. 0.\n",
            " 0. 0. 0. 0. 0. 0. 0. 0. 0. 0. 0. 0. 0. 0. 0. 0. 0. 0. 0. 0. 0. 0. 0. 0.\n",
            " 0. 0. 0. 0. 0. 0. 0. 0. 0. 0. 0. 0. 0. 0. 0. 0. 0. 0. 0. 0. 0. 0. 0. 0.\n",
            " 0. 0. 0. 0. 0. 0. 0. 0. 0. 0. 0. 0. 0. 0. 0. 0. 0. 0. 0. 0. 0. 0. 0. 0.\n",
            " 0. 0. 0. 0. 0. 0. 0. 0. 0. 0. 0. 0. 0. 0. 0. 0. 0. 0. 0. 0. 0. 0. 0. 0.\n",
            " 0. 0. 0. 0. 0. 0. 0. 0. 0. 0. 0. 0. 0. 0. 0. 0. 0. 0. 0. 0. 0. 0. 0. 0.\n",
            " 0. 0. 0. 0. 0. 0. 0. 0. 0. 0. 0. 0. 0. 0. 0. 0. 0. 0. 0. 0. 0. 0. 0. 0.\n",
            " 0. 0. 0. 0. 0. 0. 0. 0. 0. 0. 0. 0. 0. 0. 0. 0. 0. 0. 0. 0. 0. 0. 0. 0.\n",
            " 0. 0. 0. 0. 0. 0. 0. 0. 0. 0. 0. 0. 0. 0. 0. 0. 0. 0. 1. 0. 0. 0. 0. 0.\n",
            " 0. 0. 0. 0. 0. 0. 0. 0. 0. 0. 0. 0. 0. 0. 0. 0. 0. 0. 0. 0. 0. 0. 0. 0.\n",
            " 0. 0. 0. 0. 0. 0. 0. 0. 0. 0. 0. 0. 0. 0. 0. 0. 0. 0. 0. 0. 0. 0. 0. 0.\n",
            " 0. 0. 0. 0. 0. 0. 0. 0. 0. 0. 0. 0. 0. 0. 0. 0. 0. 0. 0. 0. 0. 0. 0. 0.\n",
            " 0. 0. 0. 0. 0. 1. 0. 0. 0. 0. 0. 0. 0. 0. 0. 0. 0. 0. 0. 0. 0. 0. 0. 0.\n",
            " 0. 0. 0. 0. 0. 0. 0. 0. 0. 0. 0. 0. 0. 0. 0. 0. 0. 0. 0. 0. 0. 0. 0. 0.\n",
            " 0. 0. 0. 0. 0. 0. 0. 0. 0. 0. 0. 0. 0. 0. 0. 0. 0. 0. 0. 0. 0. 0. 0. 0.\n",
            " 0. 0. 0. 0. 0. 0. 0. 0. 0. 0. 0. 0. 0. 0. 0. 0. 0. 0. 0. 0. 0. 0. 0. 0.\n",
            " 0. 0. 0. 0. 0. 0. 0. 0. 0. 0. 0. 0. 0. 0. 0. 0. 0. 0. 0. 0. 0. 0. 0. 0.\n",
            " 0. 0. 0. 0. 0. 0. 0. 0. 0. 0. 0. 0. 0. 0. 0. 0. 0. 0. 0. 0. 0. 0. 0. 0.\n",
            " 0. 0. 0. 0. 0. 0. 0. 0. 0. 0. 0. 0. 0. 0. 0. 0. 0. 0. 0. 0. 0. 0. 0. 0.\n",
            " 0. 0. 0. 0. 0. 0. 0. 0. 0. 0. 0. 0. 0. 0. 0. 0. 0. 0. 0. 0. 0. 0. 0. 0.\n",
            " 0. 0. 0. 0. 0. 0. 0. 0. 0. 0. 0. 0. 0. 0. 0. 0. 0. 0. 0. 0. 0. 0. 0. 0.\n",
            " 0. 0. 0. 0. 0. 0. 0. 0. 0. 0. 0. 0. 0. 0. 0. 0. 0. 0. 0. 0. 0. 0. 0. 0.\n",
            " 0. 0. 0. 0. 0. 0. 0. 0. 0. 0. 0. 0. 0. 0. 0. 0. 0. 0. 0. 0. 0. 0. 0. 0.\n",
            " 0. 0. 0. 0. 0. 0. 0. 0. 0. 0. 0. 0. 0. 0. 0. 0. 0. 0. 0. 0. 0. 0. 0. 0.\n",
            " 0. 0. 0. 0. 0. 0. 0. 0. 0. 0. 0. 0. 0. 0. 0. 0. 0. 0. 0. 0. 0. 0. 0. 0.\n",
            " 0. 0. 0. 0. 0. 0. 0. 0. 0. 0. 0. 0. 0. 0. 0. 0. 0. 0. 0. 0. 0. 0. 0. 0.\n",
            " 0. 0. 0. 0. 0. 0. 0. 0. 1. 0. 0. 0. 0. 0. 0. 0. 0. 0. 0. 0. 0. 0. 0. 0.\n",
            " 0. 0. 0. 0. 0. 0. 0. 0. 0. 0. 0. 0. 0. 0. 0. 0. 0. 0. 0. 0. 0. 0. 0. 0.\n",
            " 0. 0. 0. 0. 0. 0. 0. 0. 0. 0. 0. 0. 0. 0. 0. 0. 0. 0. 0. 0. 0. 0. 0. 0.\n",
            " 0. 0. 0. 0. 0. 0. 0. 0. 0. 0. 0. 0. 0. 0. 0. 0.]\n",
            "Example X_test_binary[0]: [0. 1. 1. 1. 1. 0. 0. 0. 0. 1. 1. 1. 0. 0. 1. 1. 0. 0. 1. 1. 0. 0. 0. 0.\n",
            " 0. 0. 0. 0. 0. 1. 1. 0. 0. 0. 0. 0. 1. 0. 0. 1. 0. 0. 1. 1. 1. 1. 1. 1.\n",
            " 0. 0. 0. 0. 0. 0. 0. 0. 0. 0. 0. 1. 0. 0. 0. 0. 0. 0. 0. 0. 1. 0. 0. 1.\n",
            " 0. 0. 0. 0. 0. 1. 1. 0. 0. 0. 0. 0. 0. 0. 0. 0. 0. 0. 0. 0. 0. 0. 0. 0.\n",
            " 0. 1. 0. 0. 0. 1. 0. 0. 0. 0. 0. 0. 0. 0. 0. 1. 0. 0. 1. 0. 1. 0. 0. 0.\n",
            " 0. 1. 0. 0. 0. 0. 0. 1. 1. 0. 0. 0. 0. 0. 0. 0. 0. 0. 0. 0. 0. 0. 0. 0.\n",
            " 0. 0. 0. 0. 0. 0. 0. 0. 0. 1. 0. 0. 0. 0. 0. 0. 0. 0. 1. 0. 0. 0. 1. 0.\n",
            " 0. 0. 0. 1. 0. 0. 0. 0. 0. 0. 0. 0. 0. 0. 0. 0. 0. 0. 0. 0. 0. 0. 0. 0.\n",
            " 0. 0. 0. 1. 0. 0. 0. 0. 0. 0. 0. 1. 0. 0. 0. 0. 0. 0. 0. 0. 0. 0. 0. 1.\n",
            " 0. 0. 0. 0. 0. 0. 0. 0. 0. 1. 0. 0. 0. 0. 0. 0. 0. 0. 0. 0. 0. 1. 0. 0.\n",
            " 0. 0. 0. 0. 0. 0. 0. 0. 0. 0. 0. 0. 0. 0. 0. 0. 0. 0. 1. 0. 0. 0. 0. 0.\n",
            " 0. 0. 0. 0. 0. 0. 0. 0. 0. 0. 0. 0. 0. 0. 0. 0. 0. 0. 0. 0. 0. 0. 0. 0.\n",
            " 1. 0. 0. 0. 0. 0. 0. 0. 1. 0. 0. 0. 0. 0. 0. 0. 0. 0. 0. 0. 0. 0. 0. 0.\n",
            " 0. 0. 1. 1. 0. 0. 0. 1. 0. 0. 1. 0. 0. 0. 1. 0. 0. 0. 0. 0. 0. 0. 1. 0.\n",
            " 0. 0. 0. 0. 0. 0. 0. 0. 0. 0. 0. 0. 0. 0. 0. 0. 0. 0. 1. 0. 0. 0. 0. 0.\n",
            " 0. 0. 0. 0. 0. 0. 0. 0. 0. 0. 0. 0. 0. 0. 0. 1. 0. 0. 0. 0. 0. 0. 0. 0.\n",
            " 0. 0. 0. 0. 0. 0. 0. 0. 1. 0. 0. 0. 0. 0. 0. 0. 0. 0. 0. 0. 0. 0. 0. 0.\n",
            " 0. 0. 0. 0. 0. 0. 0. 0. 0. 0. 0. 0. 0. 0. 0. 0. 0. 0. 0. 0. 0. 0. 0. 0.\n",
            " 0. 0. 0. 0. 0. 0. 0. 0. 0. 0. 0. 0. 0. 0. 0. 0. 0. 0. 0. 0. 0. 0. 0. 0.\n",
            " 0. 0. 0. 0. 0. 0. 0. 0. 0. 0. 0. 0. 0. 0. 0. 0. 0. 0. 0. 0. 0. 0. 0. 0.\n",
            " 0. 0. 0. 0. 0. 0. 0. 0. 0. 0. 0. 0. 0. 0. 0. 0. 0. 0. 0. 0. 0. 0. 0. 0.\n",
            " 0. 0. 0. 0. 0. 0. 0. 0. 0. 0. 0. 0. 0. 0. 0. 0. 0. 0. 0. 0. 0. 0. 0. 0.\n",
            " 0. 0. 0. 0. 0. 0. 0. 0. 0. 1. 0. 0. 0. 0. 0. 0. 0. 0. 0. 0. 0. 0. 0. 0.\n",
            " 0. 0. 0. 0. 0. 0. 0. 0. 0. 0. 0. 0. 0. 0. 0. 0. 0. 0. 0. 1. 0. 0. 0. 0.\n",
            " 0. 0. 0. 0. 0. 0. 0. 0. 0. 0. 0. 0. 0. 0. 0. 0. 0. 0. 0. 0. 0. 0. 0. 0.\n",
            " 0. 0. 0. 0. 0. 0. 0. 0. 0. 0. 0. 0. 0. 0. 0. 0. 0. 0. 0. 0. 0. 0. 0. 0.\n",
            " 0. 0. 0. 0. 0. 0. 0. 0. 1. 0. 0. 0. 0. 0. 0. 0. 1. 0. 0. 0. 0. 0. 0. 0.\n",
            " 0. 0. 0. 0. 0. 1. 0. 0. 0. 0. 0. 0. 0. 0. 0. 0. 0. 0. 0. 0. 0. 0. 0. 0.\n",
            " 0. 0. 0. 0. 0. 0. 0. 0. 0. 0. 0. 0. 0. 0. 0. 0. 0. 1. 0. 0. 0. 0. 0. 0.\n",
            " 0. 0. 0. 0. 0. 0. 0. 0. 0. 0. 0. 0. 0. 0. 0. 0. 0. 0. 0. 0. 0. 0. 0. 0.\n",
            " 0. 0. 0. 0. 0. 0. 0. 0. 0. 0. 0. 0. 0. 0. 0. 0. 0. 0. 0. 0. 0. 0. 0. 0.\n",
            " 0. 0. 0. 0. 0. 0. 0. 0. 0. 0. 0. 0. 0. 0. 0. 0. 0. 0. 0. 0. 0. 0. 1. 0.\n",
            " 0. 0. 0. 0. 0. 0. 0. 0. 0. 0. 0. 0. 0. 0. 0. 0. 0. 0. 0. 0. 0. 0. 0. 0.\n",
            " 0. 0. 0. 0. 0. 0. 0. 0. 0. 0. 0. 0. 0. 0. 0. 0. 0. 0. 0. 0. 0. 0. 0. 0.\n",
            " 0. 0. 0. 0. 0. 1. 0. 0. 0. 0. 0. 0. 0. 0. 0. 0. 0. 0. 0. 0. 0. 0. 0. 0.\n",
            " 0. 0. 0. 0. 0. 0. 0. 0. 0. 0. 0. 0. 0. 0. 0. 0. 0. 0. 0. 0. 0. 0. 0. 0.\n",
            " 0. 0. 0. 0. 0. 0. 0. 0. 0. 0. 0. 0. 0. 0. 0. 0. 0. 0. 0. 0. 0. 0. 0. 0.\n",
            " 0. 0. 0. 0. 0. 0. 0. 0. 0. 0. 0. 0. 0. 0. 0. 0. 0. 0. 0. 0. 0. 0. 0. 0.\n",
            " 0. 0. 0. 0. 0. 0. 0. 0. 0. 0. 0. 0. 0. 0. 0. 0. 0. 0. 0. 0. 0. 0. 0. 0.\n",
            " 0. 0. 0. 0. 0. 0. 0. 0. 0. 0. 0. 0. 0. 0. 1. 0. 0. 0. 0. 1. 0. 0. 0. 0.\n",
            " 0. 0. 0. 0. 0. 0. 0. 0. 0. 0. 0. 0. 0. 0. 0. 0. 0. 0. 0. 0. 0. 0. 0. 0.\n",
            " 0. 0. 0. 0. 0. 0. 0. 0. 0. 0. 0. 0. 0. 0. 0. 0.]\n"
          ]
        }
      ],
      "source": [
        "# Set the maximum number of words in the vocabulary (you can adjust this if needed)\n",
        "vocab_size = 1000\n",
        "# You can change this value based on your data\n",
        "\n",
        "# Initialize the Tokenizer\n",
        "tokenizer = Tokenizer(num_words=vocab_size)\n",
        "\n",
        "# Fit the Tokenizer to the training data (X_train)\n",
        "tokenizer.fit_on_texts(X_train)\n",
        "\n",
        "# Transform the training reviews into a binary matrix\n",
        "X_train_binary = tokenizer.texts_to_matrix(X_train, mode='binary')\n",
        "\n",
        "# Transform the test reviews into a binary matrix\n",
        "X_test_binary = tokenizer.texts_to_matrix(X_test, mode='binary')\n",
        "\n",
        "# Display the dimensions of the resulting matrices and an example\n",
        "print(\"X_train_binary shape:\", X_train_binary.shape)\n",
        "print(\"X_test_binary shape:\", X_test_binary.shape)\n",
        "print(\"Example X_train_binary[0]:\", X_train_binary[0])\n",
        "print(\"Example X_test_binary[0]:\", X_test_binary[0])\n",
        "\n"
      ]
    },
    {
      "cell_type": "markdown",
      "metadata": {
        "id": "bml3VXBxkd3M"
      },
      "source": [
        "**CONVERTING Y**"
      ]
    },
    {
      "cell_type": "markdown",
      "metadata": {
        "id": "eHULgIpKfSds"
      },
      "source": [
        "    Label Mapping: We first map the string labels to integers: \"Negative\" → 0, \"Neutrale\" → 1, \"Positive\" → 2.\n",
        "    to_categorical: This function converts the mapped labels into one-hot encoded vectors where:\n",
        "        0 → [1, 0, 0]\n",
        "        1 → [0, 1, 0]\n",
        "        2 → [0, 0, 1]\n",
        "\n",
        "This will prepare the labels for training with categorical_crossentropy."
      ]
    },
    {
      "cell_type": "code",
      "execution_count": 39,
      "metadata": {
        "colab": {
          "base_uri": "https://localhost:8080/"
        },
        "id": "Q5NnOwu6gBQE",
        "outputId": "7a846991-0e44-4401-d0c2-32008a7f2281"
      },
      "outputs": [
        {
          "name": "stdout",
          "output_type": "stream",
          "text": [
            "y_train_categorical shape: (18000, 3)\n",
            "y_test_categorical shape: (5486, 3)\n",
            "Example y_train_categorical[0]: [0. 0. 1.]\n",
            "Example y_test_categorical[0]: [0. 0. 1.]\n"
          ]
        }
      ],
      "source": [
        "# Step 1: Create a mapping for the labels\n",
        "label_map = {\"Negative\": 0, \"Neutral\": 1, \"Positive\": 2}\n",
        "\n",
        "# Step 2: Map the string labels in y_train and y_test to integers\n",
        "y_train_mapped = np.array([label_map[label] for label in y_train])\n",
        "y_test_mapped = np.array([label_map[label] for label in y_test])\n",
        "\n",
        "# Step 3: Convert the integer labels to one-hot encoded vectors\n",
        "y_train_categorical = to_categorical(y_train_mapped, num_classes=3)\n",
        "y_test_categorical = to_categorical(y_test_mapped, num_classes=3)\n",
        "\n",
        "# Step 4: Verify the result\n",
        "print(\"y_train_categorical shape:\", y_train_categorical.shape)\n",
        "print(\"y_test_categorical shape:\", y_test_categorical.shape)\n",
        "print(\"Example y_train_categorical[0]:\", y_train_categorical[0])\n",
        "print(\"Example y_test_categorical[0]:\", y_test_categorical[0])"
      ]
    },
    {
      "cell_type": "markdown",
      "metadata": {
        "id": "oUfWRT1_hxAg"
      },
      "source": [
        "**FIRST MODEL ARCHITECTURE**"
      ]
    },
    {
      "cell_type": "markdown",
      "metadata": {
        "id": "XSPGIVBEjVmh"
      },
      "source": [
        "Following this table we know that since our problem is a multiclass, single-label classification we have to use a softmax for the last layer activation function and the categorical_crossentropy as loss function.\n",
        "\n",
        "![image.png](data:image/png;base64,iVBORw0KGgoAAAANSUhEUgAABAgAAAFtCAYAAACKmFhUAAAABHNCSVQICAgIfAhkiAAAIABJREFUeF7snQWU5DbWRjVhZmZmZmZmZtgwbDibbPInG2Zm5k02zMzMzMzJhJmxfl1lVFG7bZflgq6q/t45fWbKlgXXkiw9PT0NqFgxEhEQAREQAREQAREQAREQAREQAREQgX5NYLB+XXoVXgREQAREQAREQAREQAREQAREQAREwBGQgkAVQQREQAREQAREQAREQAREQAREQAREQAoC1QEREAEREAEREAEREAEREAEREAEREAFZEKgOiIAIiIAIiIAIiIAIiIAIiIAIiIAIWALaYqBqIAIiIAIiIAIiIAIiIAIiIAIiIAIiIAWB6oAIiIAIiIAIiIAIiIAIiIAIiIAIiIAsCFQHREAEREAEREAEREAEREAEREAEREAELAFtMVA1EAEREAEREAEREAEREAEREAEREAERkIJAdUAEREAEREAEREAEREAEREAEREAEREAWBKoDIiACIiACIiACIiACIiACIiACIiACloC2GKgaiIAIiIAIiIAIiIAIiIAIiIAIiIAISEGgOiACIiACIiACIiACIiACIiACIiACIiALAtUBERABERABERABERABERABERABERABS0BbDFQNREAEREAEREAEREAEREAEREAEREAEpCBQHRABERABERABERABERABERABERABEZAFgeqACIiACIiACIiACIiACIiACIiACIiAJaAtBqoGIiACIiACIiACIiACIiACIiACIiACUhCoDoiACIiACIiACIiACIiACIiACIiACMiCQHVABERABERABERABERABERABERABETAEtAWA1UDERABERABERABERABERABERABERABKQhUB0RABERABERABERABERABERABERABGRBoDogAiIgAiIgAiIgAiIgAiIgAiIgAiJgCWiLgaqBCIiACIiACIiACIiACIiACIiACIiAFASqAyIgAiIgAiIgAiIgAiIgAiIgAiIgArIgUB0QAREQAREQAREQAREQAREQAREQARGwBLTFQNVABERABERABERABERABERABERABERACgLVAREQAREQAREQAREQAREQAREQAREQAVkQqA6IgAiIgAiIgAiIgAiIgAiIgAiIgAhYAkM0m8KJJ55oXnrppULJHHfccWbooYcuFNYHOvjgg80HH3zgfm699dZm5plnznz+wAMPNAMHDnT3t912WzPjjDNmhm3Ujf333998/PHH1eh22WUXM+WUU0ZHTxkPOeQQU6lUzGKLLWbWXHPN6DjqfeCNN94wjz/+uPnoo4/MH3/8YcYZZxwz0UQTmfnnn98MMUTPqnTVVVeZn376ySW51FJLmTHHHLPe5Fvy/GmnnWY+++wzl9Y666xT6l01MqNw/uGHH8x3331nxh9//B5RtyPjRvArU648Tlnv48YbbzRff/21u73IIov04pv1XD3XY/PZF3msp3zt8Gwe40bUz5gytlNeYvLdirD33HOP+fDDD11Sc8wxh5l66qlzk+3UtvDbb7+ZW265xbz55puuH+f7z7elnaST6mkn8Gynd9tueYlt92n579S+IK0suiYC7Uqg6QqCm266yX0ci8hRRx0VrSC44oorzDPPPOOiX2aZZXIVBJdddpl54YUXXNgVVlih6QqC8847z+y33349il5m0vnyyy+b1VZbzbzyyisurmGGGaalCoI///zTXHPNNb3e4+uvv+7yc+edd5rNNtvMTDzxxNWyPvroo+arr75yv+eee+6OURB88skn1UHrzz//XC1PX/3n6KOPNihmkDPOOKNHNtqRcSP4lSlXHqesd/fEE09U3/VMM83UEgVBbD77Io9ZvDrleh7jRtTPGA7tlJeYfLciLN/i5557ziU13njj1VQQdGJb+OWXX8yRRx5p3nvvvSrSIYccshV4o9LolHraKTyj4PezwLHtPg1PJ/YFaeXQNRFoZwJyUtikt8OK/0477VRX7E8++aSzdJh11lmryoG6Iiz5MBPTUMkzYMAAM9hgf1cdLCRYmePjLalNAMXKRRddZM4///yagb/99tuaYTo9QAyPrLJ2CqdOyWcW50643k6M2ykvnfDuui2Pzz//fFU5MPjgg7sFjCmmmKLtitkp9bRTeLbdC1aGREAERCCSQNMtCDCx32677Vy2MGNbeeWVq1ncfvvtzdJLL139zcp4mmBWz6Q0Rso84+Ov51kfxxZbbGG++eYbs+SSS5qHHnrImYnHyLLLLttrxT7m+UaFxWrhqaeeqkbHSuumm25qGOw8+OCD5tJLL3XbHr744gtz8803m1VWWSU36aJsi4YjsZiwtcLz3jBhRMYaa6yGlwUTU7bS+DQ23njj3DTKDNyK8igaLjeDg276uIrwC9ON4ZGX3zKcipTLh8lLO4ynVrhm5rNW2jHlJWyZ+Mo8UzatrPLkMS5SP7PiTbteq7yNyEutNMrkK+2Z5LVmpFsmzmS+8n7Hxh8TPiasz6Pf0shvlANsg2yklMlTWvr11tOy+Yh9rijP2HhhUuaZNJZp15oZdzPyXjS/jQ4XsisadxpvXRMBEaifQNMVBHPNNVc1lygIQuGDufzyy/cqxTvvvGNOOOEEc/3115v333/fddzsdWff/Y477mjGHnvsXs9wAVP4XXfd1U1av/zyS7ev+KyzznLmi7Xk999/N4cddpiblD/99NNuf/18881n/v3vf5sZZpih1uM97pMm8Qw//PDOLLyMrwMYIMSB3wJM/NGet1quu+66apL4h9hoo43McMMN567hCwETUe9jAtOxNAXBr7/+6t4JW0FQlEw++eRm/fXXN2OMMUaP4jBpvuGGGwxbKtibOvLII7v3jrIk3L7AQzFhqT8oMx544AHng4L8jDLKKGbOOec0K664ohlqqKGq+aC8SR8EmIj67Qa77babYasKJm7Ut0knndRsuOGGvZQJrIrfd999zvKDSTDMqIekRd4XXHBB92yWHHPMMe65cJsDyjaEdjDddNP1eLQoY/KMIufFF190K1sw5n2gqEv6OMjK2wUXXGDeffddd3uTTTYxl19+uSsnio80foQry6NWuWI5ZZUpeR2FF1tnqN/0Jchoo41mZp99drP44oubkUYayV0rWreakc8ieWSvplfwTTDBBO59eWErx2233WZGHHHEqrVTTP3IqwfDDjtsNZ20/xTJu38Oxnfffbfrl/kekEfKgm+TWWaZpRp9EcbJ+kmcr776qosDSy22nnl57LHHzK233lrtg7leNN9l8hL6pinav5Xpm6oFTPynaNl4LDbdZ5991uBbhC0eKF7DhYGs/BS9XpQV8RVtr7Fh0/LKXuvQ/xLfFRhMM800hnvwRtZbbz3XByPnnHNOddsT2wqnn356dz2WdzPbjK+nMdxj8+8KnZA8nnwPY/IT23fF9qNkvWh+TjnllKi6EJt38sLYlvwgu+++uxvDMAbgGuyog2x94VvOOI7FLcYn6667bq/xc9FykVZsu4/5/rjCSERABJpGoOkKgticM/FiQvj555/3eJR92Iceeqihc2SimZxcEpgJFB2SFyZCDCKZGDIhzBImAAwMH3744WqQt956y/DHxPzCCy/sYfmQFQ/XmXShpEDI7ySTTJIXPPMenfU///lP85///McpRG6//fbMsM26wYcAx0peMI30EyN/jYENE3omBExmeSa5x5KPUaj558PEB+vwww93lggIKxhMML3DSa5RB/hjkrbBBhs4hU1sWMJfcsklboIRCu+cwT+KGBQw3kIlbY8yyooff/zRPU5dYOLghcnFEUcc4f78tgvqG+H42CFMZvjgvvbaa+43aVHH0+qwj5d8eB8O/pp36JXmG6EIY5QzOA2lXnth0MofEyX8SIQTrmqgxH8Iz0QNYRLN+/eSxq8eHrXKFcspq0zhdZQfxx9/vPn+++97BP/000+dcoV+Yp999jEjjDBC4brV6HwWzSODvGuvvdaVg/qz1lpruQkv8sgjj7j3uNBCC7nfsfUjrx64CDOkaN7hi4LopJNO6rXFiu8Bf/idYSKFFGGcrJ8oxe644w73POUPFQS855BPTL7L5MXjiukLY/umjFfiFH5F6zxxxKRLv3f66acblPAIW9LYXlVLiZSV1/B6DCuei/kWxIRNyyvtK+xrqUv88c2DgXdeHPbn9DG+b/XfHOKO4d3sNkN+YrnH5D+NJdfyePKNLTp+IK7YviumH43lE1sXYvNOfuDvt4DS9hhne0FRzGIE3wWcUHthbMM4DUfgKJFjyxXb7mO/P9WM6j8iIAJNIdB2Pgj23nvvqnKAiRuTDyZ3rHQidHRXXnllKgwms9xj9X7CCSd0YZiMnn322anh/UUcCXrlwBprrOHS4DkmxEwSWO323s7zIkJrzySLj+e8887rJvhlhYkXA+Msa4my8cY8x2CFMnlJW2FebrnlnP8BPs4HHXRQL+UAz/IBZBISTj5h5J0uEoZJjFcOYFlCXPDjdAQGlv/73/+q7yAmLO/NKwfYHoEzJpxhMrFA+IgVPWWD8PiFwDIlPC2DsvhVSHiRP68cQLHBZJI0cdaIEKaW407iT57IgcUDf6OOOqqLJ5QijLHI8QNWVsJRaqBUY0WPwQPtJByUJtNI+x0q1dLu18ujVrliOaXlMXkNpaBXDrBF6IADDnBKPz+hoU6xKh9Ttxqdz6J5nHbaaavKUeqkd+jKpMTX2dlmm80hqKd+1KoHIeOieecZFDK+n6AvoN2uvvrqVSsm2pF34lmGMVYD/gQWlIa+Dwr50OaQmHyXyYtnFNO/hVxr9U1h2OT/Y8qWfLZWuldffXVVOcBEjq2FWA76U26S8cX8jmEV015jwmbll0lVuG0SCzz67qytlFnxJK/X4t3sNkN+YrjH5j8Z3v/O41lPfor0XTH9aL18ssqfdr1I3pPPMaZedNFFe/jCYAzEN40TqcJxB/2gX9iILVdsu6/n+5Mso36LgAjUT6DtLAhWXXVVN5FCS4pZGquymORhzk6Hg3AvTZiM+dWkf/3rX247AnLxxRdXV/WTz3kHe/46E1NMwfljfzgr+Gg2zzzzTIN5eZ6wSsJqFAMBJluhI7+859LutcOxgEkrjrQVH28BkFYGfw0zfgaETFAwb/P7HdFaI/xmC4AX3iGTVv6Y1PPhYlUEKwpMU4uGxRTfm8L7dJgE8G6pZ5NNNpkz7fTa8bwy+HsoRCgPE1+UWb4uejN0LAX48zLVVFO5/2I1QHpo65EwTDVw8B9M/jBBDS1i2D+dJUUY33vvvdXH8QWCVQ1/KLMYYKEkuP/++6PMf3mnbJeYZ555Uge+9fKoVa5YTln8wutMGlkxon6iMOTdseWIfghLC4R7MXWr0fksmkfyzjYvthIg5J9BIGakKN5YNaJctMF66ketelCGL4NTn2+eR1lDu0XIO3UWQemBMrcMY7b+YMbt2xn/MolFQUwaWEz5NlyUOXkqkxeei+kLk0fd1uqbHKwMiSlbMoq8dJloh6voa6+9tjutgG139ONFFO/J9PzvWFYx7TUmbFb+UHCzpcArg+kjWWxAwm9Y1vNZ1/N4t6LNxHJPliMv/8mw4e8snuSHcYWXvPFDss3wTJG+q2g/Snz18sljkLxXJO/JZ+DDN5sxFYtw/IswtmKLKGObfffdt5eFS0y56Ktj2n29359kGfVbBESgfgJtpyDYaqutXKlYNcIUigEb5uk4+vOS5fDP79cjnN/Tx//9Slk1guA/mK/7vVmsJIUnD2Am6oWJU56C4O23367eZ8UYjXOnizdF9uXwq+Kx5fLvAoUJKyh8DBBvcsr7DeMOTe+xWvB7qDG9jAlLGqOPPno1u2wnwFyOjz1pMKkgPzEKAv9eiYNnvYLAf2SxdCFNv78UnwpMcvnNHkovtc78rgYs+J9ajFkZ9T5AeA/4hPDiFTX8ZjU2Zn8wSg98MGRJvTxqlSsr3Xque5N7lIf0O7BjIhNut0GZ0si6xd7jUKhfob+AZHmK5pHnmJj4iTYrRUwivCUBVj3Uh3rrR616EOa/aN4/+uijat/M85ME27WIg/aL0jK57SnJqtZvLAS8ggAuKDP97znmmKO6/ahovmull3c/tn8L46rVN+WlW0/Z8tLlG5plhUYfXI+CIJZVTHuNCZvHtRn38ni3os3Eck8yyMt/MmyR3/Xmp2jfVaQfJb/15qdImX2YonkP40TZjeAPiTGeH7v463x7WDjwW2B8+40pV2y7r/f7E8NMYUVABIoRaDsFAavWePoNtxGwpz10JJdVtND0OlyBx1w4bd828eA8zQsT1izTbz68eYJjQm+WjJ8ErBa8hGbbDPrplE8++eTq3t+8ePvyXtKLf3JPNnlDWYPfBVbiGKwz6EtaTngTXsJjXZEUP5nmOuaXoQ+DMDyT8ZiwxMdqINYnd911VzVZPnjExR/7GjF5LeqIMsxPWln4uO68887OOSYKCfwVhD4LyATm/QsvvHASQ12/azEOlV0oY1ghTZPYAXstbvXyqFWutDLUe416jg+J8PQOLGXCvJBGI+sW9TAU2lCegqBoHn0+ySuDMPo4JsFYECB+e0G99aNWPQjLVjTvYZ54HieRXlDqNUrJhkktfQ6KYlaO6WNQHCMoCLwUzXf1gRL/ie3fwiRq9U152amnbHnpht8M2g9+Jbx4Z7d5+cq7F8sqpr3GhM3LYzPu5fFuRZuJ5Z5kkJf/ZNgiv+vNT9G+izpRqx8lv/Xmp0iZfZiieQ/jDNtd+C7ChRK+20mJKVdsu6/3+5PMq36LgAjUT6CtFAQM0DB/9Xue2CfFii+DWLYPXHHFFbklDlehvck3DzBxzdr3F65W8//QeUuYWHJykMxImHaexQKWBki4apuMq11+szLHgM539qEyxecRXwmskiNwPvbYY3Ozn/bhCR1IUgeYwPtwISdWo2PC+oyss846zowaKxAm7WGcpMWezaIf2jD/aWUhTZwLopWnzuFYEX5M+JjgMBnJO70gF17Bm2n5Cgfm/H+vvfZKja3IlpHwwSLWF43ikVau1ELUcRErC5xn+gELk1DM2jlNg21D7P8NpVF1i600oeSVNTaPxMs2EjxUI+w3R2lJe/WrefXWjyL1gLRj8p6MMxx0kn8GrJSBvGf17yHTrP8zSIa/f7d8Z4gfhbO3YInJd1Y6Ra6X6d98vEX6prQ81Fu2vHRDxT7phE5sQ8uCtHzVulaGVUx7jQlbK69F7xfxy5DHuxVtpgz3sPx5+S/KKQxXb36SzPLyUKsf5dl68+PTL1IXYvLu4837tuSVPaZcse2+3u9PXr51TwREoByBtlIQMIELPb3jRdivYrNKXUtwLuglDB+apibjCCeGTGTCSSgmxRxzyMQOvwg4IMwSBpgMKJLCZJQjcrywmk2Z/NGLpOGdcDHY5X47yRJLLOEmFAgrkJhc+9MEGLCHeymZbCStB4qUxZu2EZZBJM4RvXPGUGsNs5iwxMeKKVYpTHy32247p3jA6gFlBz4jfHpF8lkkDGZ5OGwkXra8pNWJIvEQJvkhpyy1FFVZcYcOJv3k0K8kYEmBxQ6WLSgvFlhggaxoel2vpVBoJI9eiQ+60EhO1AuvHCDeLbfcsroFJVQ6knRs3crLJ3WzqMTk0ceJHwLeMYpMXw6UVb4+1Vs/atUDn4+YvI877rg9kND/+G1kKPU4hQShj+J0BiSPcY/IEj/YZuAVBP7fcHtBTL591GXyEtu/5ZWp6L0yZSsad2jVh0KAvt3XteQpLUXj9OFiWcW015iwsfkmfFg3/JZJlCf1MmlFm4nlXoZPzDP15qdo30WeavWjhInNTz11ISbvMUzTwsaUK7bd1/v9ScuvromACNRHoK0UBP4YForEYIL90EymGQwmzbTTin3GGWc4D9cIRzZ54SzXLGHAiVd69oczqUMJwASPgcwee+xRPQKL/Wd5Qhpp6aAACBUE+CcIzctZrSIdBEUGFgY8w8kKoXhP3VxjG0ToQBClQp45co+IIn8QN84B/SAGvxCcCsAEHsWG9yeAYoDz4csI+z2ZrPh9vzfddJOzGGFy6U19iZ+8xIQlL0yKsHJA8AXAu0ZbjdIHs2LeOWaDjRKUVMSJYMaPsx/qMCucrFSi8WcQh0Kp1qpn0gQXp2zsOSS+tBMl8sqAcoXVcKxbmCSyDYZJFQosHGn5owqJv5HSSB5Z+WokJ+8Xg7T8hIZ3hkm+t/7x+YitW43KZ0wefV5RfGJFE57YwVYXL62qHzF5p43izO7555932aQfxTKHviA8tjS0vijLmHRoj+FWNH96AWnH5NszLZOX2P6t+gLr+E+ZshVNjn4q9MmCspl+h3fqT4woGlcyXCyrmPYaEzaZryK/Q4e/OAelT2abUdZWyCJxEqYVbSaWe9G8lw3XyvzU6kcpQ2x+mlUXyvLMei6mXLHtvlXfn6yy6boIiEBvAm2lIEA7y2Dcm4B7R1SYhbOqyXnqSKhI8EUi7H333Vf1OO2v0/GwCpgnHNOH6RjaeyZL/IWCJ/NNN900L4qG3mPyzx7oLGFiHh4RyIS3WQoCBs3sqcdnAnyYNLFPN/TyTD4xw55yyimzslzzOozxesu75+geVvG88xweXnbZZasT+ZiwrC5ycgDWDhyjw5/fb0y8rKASd6MEKwpM8fxefnxXpPmvYPKwww47uAl/lsA+HFz7FVM8DccqCEgDD9qca4wFAfvrwz323GfCyBafRkojeWTlq5GcsKAIJ4qcpIJChjaJUzyvqGNSFVu3GpXPmDyGzFByegUByqrpppuuB9JW1I/YvOP1nn4BBSWTJ9pvKNRXFB9eyjKmT8Bho/cFwXaz0PIsNt/kp2xeYvq3HjBK/ihTtqJJsTqKR3OsARGUwPyh5IEv3/Z6JIZVTHuNCVsm/yi1vJd3LDj4ow7SJmOO3U1LuxVtJoZ7Wh4bfa2V+anVj1K2mPw0sy70JefYdt+K70+jeSg+EehmAoO1U+GYDF122WXViSArsSgDuMaKspfkoAIzKybUnHHPoAxh4ocpPEoFb66eVVZWVlntDc/XJizaePYjk35/FvZfs2edCWRo4s4gjwkuRwzFeL5PY8k74khJVvIYKHnlAJMzTrbgWD4vMWGpU3vuuaezUPDmeP7UCiZ8TNL9MWZp+Yq9Rt45QgiBVZYJIJN0f0xbXhoofpJmo3nh8+5hIrj//vs7nx7hHkG2FlD3aynS8uLOutdoHlnpNIoTLKhv3kSSlT3qC9dCKyK2vpSpW43IZ0weQ14cZeedUjEo5d2E0or6EZt32j9WON6RoM8v8TAID78L/l5ZxqHFQOickHhj811PXmL6tx4vsOSPsmUrmhyWXyhh/fYz+kWOgWxEvxvDKqa9xoQtyiEMh7UdCikvtEuOVW6ENVsr2kwM9zJ8Yp9pZX5q9aPkPSY/zawLsRxrhY8pV2y7b8X3p1b5dF8EROBvAgPsinCl3YCgGMCcl8l+7AeTc9dZ3ca5FAOfWGFC4FcJWVlJDqJj4+u28Ezc/R5mTorImgDXU27eAfvAMedLmukm440Ji7IJKwjqFxPAWnEn0yrym9ML2A7DIBjlEhYxrDYzyYQdq2feOgQFFCv6RQTmWEHgOBIuyf3NReIIw3jzea6xWtqM90jczeKRVd5GcaJeYTVA+w/3U2alG1u3GpHP2DySJko46uI222xjGOhmSbPrR2zeySfPsPWLyVSRd9IIxkk+ZfJNHGXzEtO/JfMa+7ts2YqmgxUI/S/9XjP63hhWMe01JmxRFj4cW/T441saepSPjScrfCvaTAz3rHw28nqz8xPTj1Kuovlpdl1oJOOYcpVp983+/jSaheITgW4k0JYKgm4ErTL1DwKsdvotBWuuuaYzo2VSz0STCT4WLfi7QNg2s9FGG3U1GPHo29fLlh18szD5QOnKbyZoBx10UGmHl31bIqUuAiIgAq0loH60tbyVmgiIQN8TaCsfBH2PQzkQgfoIYC548cUXOysFf6xcWoz42/Ce19Pud8s18ejbN0k9DI9dxVKEPcplT8Po29IodREQARFoPQH1o61nrhRFQAT6loAsCPqWv1LvQgLsT+f4x4EDBzpnhWwxwIIAs1r8OeCIqh6Hjp2GTDz67o1h3nneeee5bQX4smCffZ5jzL7LqVIWAREQgfYkoH60Pd+LciUCItA8AlIQNI+tYhYBERABERABERABERABERABERCBjiHQVqcYdAw1ZVQEREAEREAEREAEREAEREAEREAEuoyAFARd9kJVHBEQAREQAREQAREQAREQAREQAREoQ0AKgjLU9IwIiIAIiIAIiIAIiIAIiIAIiIAIdBkBKQi67IWqOCIgAiIgAiIgAiIgAiIgAiIgAiJQhoAUBGWo6RkREAEREAEREAEREAEREAEREAER6DICUhB02QtVcURABERABERABERABERABERABESgDAEpCMpQ0zMiIAIiIAIiIAIiIAIiIAIiIAIi0GUEpCDosheq4oiACIiACIiACIiACIiACIiACIhAGQJSEJShpmdEQAREQAREQAREQAREQAREQAREoMsISEHQZS9UxREBERABERABERABERABERABERCBMgSkIChDTc+IgAiIgAiIgAiIgAiIgAiIgAiIQJcRkIKgy16oiiMCIiACIiACIiACIiACIiACIiACZQhIQVCGmp4RAREQAREQAREQAREQAREQAREQgS4jIAVBl71QFUcEREAEREAEREAEREAEREAEREAEyhCQgqAMNT0jAiIgAiIgAiIgAiIgAiIgAiIgAl1GQAqCLnuhKo4IiIAIiIAIiIAIiIAIiIAIiIAIlCEgBUEZanpGBERABERABERABERABERABERABLqMwBDNLM/3339v7rnnnmYmobhFQAREQAS6gMBbb71lJptssi4oiYogAiKQReD33383H330kZlwwgmzgui6CIiACIhAgwjMN998ZrTRRouObUDFSvRTBR94+LEnzQLzzlUwtIKJgAianGAuAAAgAElEQVSIgAj0VwJ8igYMGNBfi69yi0C/IcCoU02937xuFVQERKAPCVx+zfVmtRWXi85BUy0Ixp9oYrPENgdGZ0oPiIAIiIAI9C8C7z18g5lo3hX6V6FVWhHoZwR++/lH8/krj5pxZ1m0n5VcxRUBERCB1hOYaroZSyUqHwSlsOkhERABERABERABERABERABERABEeguAlIQdNf7VGlEQAREQAREQAREQAREQAREQAREoBQBKQhKYdNDIiACIiACIiACIiACIiACIiACItBdBKQg6K73qdKIgAiIgAiIgAiIgAiIgAiIgAiIQCkCUhCUwqaHREAEREAEREAEREAEREAEREAERKC7CEhB0F3vU6URAREQAREQAREQAREQAREQAREQgVIEpCAohU0PiYAIiIAIiIAIiIAIiIAIiIAIiEB3EZCCoLvep0ojAiIgAiIgAiIgAiIgAiIgAiIgAqUISEFQCpseEgEREAEREAEREAEREAEREAEREIHuIiAFQXe9T5VGBERABERABERABERABERABERABEoRkIKgFDY9JAIiIAIiIAIiIAIiIAIiIAIiIALdRUAKgu56nyqNCIiACIiACIiACIiACIiACIiACJQiIAVBKWx6SAREQAREQAREQAREQAREQAREQAS6i4AUBN31PlUaERABERABERABERABERABERABEShFQAqCUtj0kAiIgAiIgAiIgAiIgAiIgAiIgAh0FwEpCLrrfao0IiACIiACIiACIiACIiACIiACIlCKwBClntJDIlCSwPILzGYmn2CsXk//8uvv5seffzFvffipefSF183vf/zZK0wjLqy79PxmzFFHdFHdcP9TLr0sWX/ZBczoI4/gbl9/31Pm7YHZYbPiaMX1IQYfzIw4/LBm5BGGM+8M/KwVSSoNEehYAmssPrcZb8xRXf5feWegue2R5/qkLLHttlP6oz6BmZFoHuP/bL6aGXeMv+rBKZffZl548/2MWBpzuZ3y0pgSKZb+QKBd+stGsB56yCHMmkvOa6abdAIzyojDuTZP228nUT/RTm+jf+dFCoL+/f5bXvo5ppvMzDfTVLnpfvjZl2a34y40X3zzfW64MjcXnHUaq6AY2z36+Etv5SoIFpp1WjPJeGO6sI+88EbbKggO32F9M8PkE7p8Lr3dIe5fiQiIQDqBeW3/49vLMEMP1WcKgth22yn9UTr1vrmax3iCsUav9u/DDTt00zPYTnlpemGVQNcQaJf+sl6gwww1pDl6l43MFIPGf8T362+/1xttw59XP9FwpIqwJAFtMSgJTo81j8D4Y45mDtp2HUOHLqlNYNSRhq8dSCFEQATaioDabfNfRzsxbqe8NJ+8UhCB9iIw1wxTVJUDWKg+8vzr5sW3PmivTNrcqJ9ou1fSbzMkC4J+++r7vuBPv/qOOfCsK82AAQPMiMMNazBlW2HB2VzGJht/LDPbNJOah557LTWjPFOpVHrds5ft9V6Xa14o+xwR1/NsWsZi4xt1xL5XEMTmOa3cuiYCnUCgaF3P6qN8GZvZbovmMYZ3bJy1yp+Vdmw6WfFwPY/xIedeY4YacnD3+MDPvsqLpvC9vLw3Ii958WdlsswzWXHpugjEEIite0X7jKLhwrxOMu5f1qBce9QqBw6wY89GSmxZs9JWP5FFRtdbTUAKglYTV3pVAn9YLe4PP/3ifn//48/mpMtuMWwBYC89ghkwCoKd1lvOTDXRuO7akf+93my12uJmlqkmMavvfox7fii7r4z9ubNNPakzGf3y2+/NG+9/bC657SHz+nsfu+fSZDDbo29p41p4tuncHv7nXn/XHHvRjYW2Ngw+2GBm7aXmNXNMN7nTSn/57Q/mpbc/MJfd/nAvPwDH7bqxyyOyyzEXmK1XX9I+N5kZcojBzVOvvG3LfavBBwPlmnP6yc1oI43g9kafbPfGvftRtk+Bw7Zfzw2Ahxvmb/PY0/9vC5fO6Vfd4eKGy/wzT+2u4W/hKMvPy2JzzuCUMt98/6PZ86SLza4brFDdfsHgeaWFZnfPUtZnXnvHnHblHebr736oPh/DoPqQ/iMCHUZg7NFHNqssPKeZZ8Yprf+SkZxC8NMvvzX3Pf2yuebux81Xg9oE15eeZ2azzHyzmInHHcNaQA1lPv/mO3PPky+ZC2+637bx31zJi7TbWERF8hjTF/j0i7bxWn10XnmK5N0/D+OVFprD9UtsFRtssAF269dn5oo7HumhTC7CeKPlF+zhg2CBWaY2M005sUvqwWdfNRfd/EA124vOMb1Zc4l5zLc//GT2OPF/1etF8l4mL6E/hKLft6N33tAMa7fMILse91/3nVnYbpODEd+T4y6+qWGKkCoA/UcEEgSK1lceK9pnFg2X9TJWtGMZFpy8jDPGKGbTlRY1z77+jnny5bfNvluuYcYebWR3m/HYS4MsC3bfaKXqNqRzrr3bPPHyW6ZMOyvSb6mfyHp7ut5XBKQg6CvySjeFwADz559/L///+vsfLsz41qGY9xuw6iJzmlmtIsALE+RDt1vXTGotDryMM/oohj8G9MdffHPmHuMNllvQWSp4mdNO9olrl2P+a77/6efq9eR/sHY4cJu1zLSTjl+9Na794PCHf4XDz7/OPBxYPqC0qA7c7CR8odmmrT7HJH3kEYY33/34k1lk9umq12eeamJzvFUsbLzfKW4CnyYTjj26GWOUvxwu+vveZ4JXGrzyzodmo+UXcre5d4ZVHDDIRRafawbH9aYHn3a/cdzmOW8zSInhblhhgIwG/l/WNwRsYhn4ePSvCHQSARSTB227dlVp6fNOW1lnqfnMEnPNaLY97GzXRrddc2mnVAtlLKtQWMtOLKeZeFyz+wkXOeumIu02hlHRPMb0BaQf08bz+ui8shTNO3yHtlvODth6TaccDmX6ySYw09sBPsrZs+0gHinCOOmDAAXqqovO5Z5HYRwqCHjP9I03PvBXX0mYonkvkxeXCSsx3zf69xGGHcY9t+M6y7o+2wvfk2Ps/uv19zrR/PFncxwAVxPTf/otgZj6CqSifWbRcFngF7fjrHC8Rlvmj7aAgoA2yh8y3CAlG/8Px0TDD2pbse2saL+lfiLr7el6XxGQD4K+Iq90zeDW+/7w1jnUCMMN4ybXO667bI/9V2998EkvSkvMPWOPaxuvsHBVOfCwNRvbZP9Tzb6nX25PQfjDDDH44Ga7tZaunkSQjIw0MTPb6+RLzGdffetuT2wnwUvPN3MyaI/fG9qVJ/+xuf/pV8x6e51gtjjoDLc6gyJgj3+sXB2oJSOadZpJzHX3PtHDY/bs005qFphlGqfIYF+cl2GHGcrMPGhFKxkPv1FChOG5xmolf59//Vd5nnrlnapFBKuBKE0Q4p7FDhoRypCUGaecyBxjrSkOO+/aqpUHShjPph4GybT0WwTalcDGKy5cVQ5cedejZvMDTze7HX9RtU2goGPlmdNOvHLgUevQdO09jzfr2D8mrciMU0xsZp9mMvf/Iu02hkfRPMb2BWXbeLKPzitL0bwTBwoZrxygf4ftWdfcVVXmrmW9k6MsKMv4oWdfc98NBMWOVx67fnhQX3nvUy9Vi1M07/W877LftwWt5cD19z1p+CZ6YfLmLSSqF/UfEWgggZj6WrTPLBourxgoGH/6+ddqkJ+tNdfnX3/nTs6qR4q0s6L9lvqJet6Enm0GAVkQNIOq4ixEYNapJzFXHblratg3rHIgzf8Ak9ybH3zG3Pn4C25Fael5/57MYwLGJJ2/R59/w8xvB+6EWX2xuc0ZV9/ZK527bBwPPvOqu37FnY+abdZY0v1/0dmnN1fa32mCAxmOavRy3g33ugk4f7c/+pzhA4lzxWXnn8Vcbs1ek8IKF/knX5cftpP7F7n8jofNedff60zuztx7q6o2e5ihsx01Ygo3ljWL85N+4jnUbg0IBT8Ndz/xottKgHhFBNYSKFCwXHj2tXd7PMOPG+zg8taHn3XXJx1vLLedAoEN3Oph4CKSiEAHEHjImpq/as2z2fZ05tV3Ob8n73/yhdty47fucM9vgaJITMSYYL5jtwedc909duvRh85k1VsCFWm3MWiK5jGmL6innwv76B+DQXlamYrmHYso34cRD/31uZYtgkmzt5Kaz249wPFYGcZYRnGyzbyDlKh4b8eqYM5pJ3fbwb6y28iee/29ajGK5r1MXkiEelT2+3bJrQ+a/9ptLXxPzt13m+pWCn/Eb7UQ+o8INIhAbH0t2mf69ujbRF7fmlUUFo3YUuDHMXc+9rw54ZJbsoIXvl6rncX0W+onCmNXwBYRkIKgRaCVTHECn9rVfCa6fjUnfPJlO9hmLyXCahL7K7188sXX1f+/PfBTpyBAJp/wr2MNqzcH/eedjz6vXhr4+d9OqiYYe7Rk0OpvVpU4pxbBPA1TfC+jBKcJ4D8hTUHw/sdfuODsR/7O+l3wCgJ/HRPkL+y+ZW/uhp+EeuUO+zH0g2v24bEi5o+aZNUszeSUyY2X9z75mxMmd/UyqLc8el4EWkXAm5TTHpe01kuTWbNUVrSmG7RSTT7wNfDJl99UszSV3U5w4u6bOGXCx198Y160Z21j0ZO1VShZlt03XqnHpYrddoXvlSwpmkeeL9oX1NPGwz46K8/+etG8TzTO6FU/Ljz72rsfVaMmDvbs44/mK+t/ph6511pfVRUEM07lthnMM9NfVlf4nAgd4xbNe9n8YM1W9vuGA2CE78lnX31XVRDoZKCyb0PP1SIQW1+L9plFw9XKXzPu12pnrei3YrmHHGrlvxnMFGfnEJCCoHPeVdflFLP+x158w5WL82hZbWJ1DlMrTMDS5PGX3qxexkGUF8zHfgnOtP3pl7/NycYbY9S0qJxjRC/ffPf3Pn+2CXingskHOYLRCytlOBtMk9HsJCJNQt8GPwd5/OaHv9NPO50hLa6i1962q2D8sUWAlbD57MAXZ4jIA8/03l7AdY4B8vK1XTnzwpYQ9u56KcOg+rD+IwJtTgDrgB3WWcZZ3nihbSSVl6w0X3PP42YV6yPFC562vW+Sxe0e9v+ceqldof67/8oqOvtlQ0GBl6cgKJpH4izaF9TTzxUpoy9f0byH+eFZvyWM/+M4NXSeGrKL/T9btviODG2tEqacaBzDN2bu6adw0aA8CKVo3mPz4MPX830Lv3/hd6ZsXvScCNQiEFtfY/rMRvWttcoQe79WO2tFvxXLPSxjrfzH8lD47iIgBUF3vc+OKs27dgU/1swrXIVjpd3LkHZAFx59M3Jw9B/m/2kSLs6POPxfzp0IxwARhUWafPP9Xw7+uEdetjvi3LRg1tliuiOo8AjGv90x2ih6/EiNsq6Lt1srgi1XXdzF8Y+VFnE+ElhxY19ymoR2CyMNOlWCcCg4vg6UKWUYpKWnayLQbgSwFMKx2wRj/aUUZCvOudff405I+ffGK7sTV0I59Yrb7daDd81y9hQDrAhGCfog+pp1lp6vkIIAHwah/JlzbmtsHom3SF9QTz9X1FIiJu/JOEcaYdgqInzY4IGc/gwHrPXsK2bA/OgLr5uF7B5+ZPNVFnM+ctivzCk1XmLyXn0o8j/1fN9CJXOTPy2RpVLwbiVQpr4W7TOLhms0WxZE8qRWO2tFv1WGuy9TrfznlV33up+AFATd/467qoS/DzrZgEK9N8hcn/8zYMOT9geffunKO86gI2v4f2gu724OkvAEgLFG/dsaIdyqEIbn/2FcePn+0Q5KvVXAuNZSYfNVFjXf/fCzPVbqQ3PLoD38yTga+TtpbYBfgeTqJunhh2DzlRdzJqvs4UNYLUsLyz2Oc/MyTmCp8Zk93q3dGFQzqv+IQAMJzDD5RFXlAHN0jv70K9VjjfZ3+yBJLHM4OYXV/n1Ov8yZdtM/zDjFhGavzVZz/VNoyZTXbvc57bLCpYjJo4+0SF9QTxsP++i8gsTk/b2P/97mRJz4RXnC+gtA1rbOCzkpArnqrsfcEa9IHmMXIEPuffLlqoLAKwqwHgj1NDF5L5uXer9vGcXTZRFoCoHY+lq0zywarp5ChX0FJ5ggWJGOOUrPfj42jdh+q0yfFcs9tgwK338JSEHQf999x5f8U7vvFy/Nfs/oukvPb46/5Ga3f3/uGf4yC+XYxGvtqQFpstz8s5oHnv7LSeGqi/5tGswpAFnyrt2b/9zr7zpv0Ey2d1l/eXPqlbfb1cLhzGYrL1o9gvFlqyBohbBqFgqetV+xfhpw1IgfBi9fWisK9ptxYoKX++2e2iyBDds/GBSHDgnvt1sS2o1BVhl0XQRqEVjAOrWb+aDtewXDpPWdgX/74cACAP8bKAhw8Dn1xOP1eGYzu9LMEazIhdY53HXWyee3dtsQfdRv1hppiMGHcg7vvBRtt70ylrjA4NlLrTz6cEX6gla08Zi845fmsRffNHMN2hq13jLzO2ewWFesHBwtGVpflGVMv8eWNXy1eLknOL2AazF5J3yZvNT7fatmXv8RgQYRyOsv8bkUMx4r2mcWDVdPEcP2ufwCsxp8P7EtLOwDysQf22+pnyhDWc80i4AUBM0iq3hbQuAsezrBdJOO77yMc7wWZr/e8R8ZuOS2h9y+26Q8/8Z7dnVvInPOvlv3uMV2hJuCs66Tz/H7eOv99vhdN3ampzhC9M4QfViODfQnAKQ938hrmNMykOQ0A8SvpHEiQqgg4B6ee72CAFPaJ195OzMro48ygjl1z8173P/KTo5ueegZd62dGGQWQjdEoAYB+oqwv/DB8T796rsDe0wUj95pQ6t4+9LuSx/FOcXDESnCZJGV68XsufP0Qxsst6D7Y5uS92WCpc6ltz9UzU1Mu80rQkwew3iK9AXNbuOxeT/NbuGYdtLxnGUG7wfGodDncrqEl7KMeW8PPf+a8b4gPrbOb0OniMQfm/eyeSn7fesBRj9EoEEE8vpLkoipr0X7TBy9xvStZYqKYtEfXc24kD+2mj758ts9FlXKxB3Tb6mfKENYzzSLwF/u2JsVu+IVgSYTYEvBtoed7VaXnHOpQccGsoJ+8NlXm/PtMYRJwarg8POvM2dcdWfV1wCmwRxFtssxFxgmwnnygXWkuMXBZzgHf5xG4IUjA8+253IffM5VeY83/B4OzJKmbGmJPGiPbPNOafggZvlZ4FmOZ/MKBqwIOHZyd3v+u/fn0G4M0sqrayJQDwH2sx9k2zL7zxEshoYcYgjbr1zljvr0gpMolHQ7HnX+oG07f/kf8coBlAl7n3JpjyPyeLZou80rQ0wew3iK9AXNbuOxef/QKme2OvhMt0oZOqQlnjOtovgEaz2WlLKMQysythwkJTbvZd93me9bMq/6LQKtIhBTX4v2mUXD1VPGq+9+zDnH9oKT7GMvurHXIkuZNGL7rTJ9Vgz3MmXQM/2TwAC756VpPmyYtGxx0Bn9k6xK3XICDODxsI8JbXhaQF5GcELD6vtHVqGQdXJC3vM4RsT3AcJKU+j9P++5ZtzDt8BIdv8cCo4v7XFfyZaNX4Fz9tnarWoecOaVhklCKEfvvGF1VRQFCpMgJj8//vSrPZLxb+eMyby3E4Nk3vS7cwi89/ANZqJ5V2i7DNOv4F8AhZpXFuRlklNQ8G+CP5DP7PGG4Wkpac/VardpzySvxeaxVl+QjL+ZbTw27+SNZ8azJ8rgob/IO2kE4yQTn4+YusEzZfNS5vuWlue+vvbbzz+az1951Iw7y6J9nRWl30QCMfW1aJ9ZNFzZYo1qHctyXHXZ8WCtdGP6rf7eT9RiqfvFCYRj++JPWd9uMYEVVgTamQCWAUVW0sMysOcrbQtC0XKiX/OOEYs+06xw7HfjLxQ8qe+16SrWcuA3M80k4znlAGGSntKz8vSJNe+rJe3EoFZedV8EYgnQr2CRVFSw0uG41qKS1m6LPuvDFcljPX1BM9t4kbwnefAMFg5FpRGM09Iqk/eyeSnzfUvLs66JQCsIxNTXon1m0XBly8fiSi0L0rJx81xMv6V+oh7SerYRBKQgaARFxSECbUoA7+k4VPSChQN74rJOL2jTYihbIiACdRJQX1AnQD0uAiIgAiIgAv2EgBQE/eRFq5j9k8Avv/7u9uwObS0H3rVbfjiu62V7ykGaPGWdFn5i91IjbJeQiIAIdA+BmL6ge0qtkoiACIiACIiACMQSkIIglpjCi0AHEcB3wH6nX14oxxfd/EChcAokAiLQeQRi+oLOK51yLAIiIAIiIAIi0CgCOsWgUSQVjwiIgAiIgAiIgAiIgAiIgAiIgAh0MAEpCDr45SnrIiACIiACIiACIiACIiACIiACItAoAlIQNIqk4hEBERABERABERABERABERABERCBDiYgBUEHvzxlXQREQAREQAREQAREQAREQAREQAQaRUAKgkaRVDwiIAIiIAIiIAIiIAIiIAIiIAIi0MEEpCDo4JenrIuACIiACIiACIiACIiACIiACIhAowhIQdAokopHBERABERABERABERABERABERABDqYgBQEHfzylHUREAEREAEREAEREAEREAEREAERaBQBKQgaRVLxiIAIiIAIiIAIiIAIiIAIiIAIiEAHE5CCoINfnrIuAiIgAiIgAiIgAiIgAiIgAiIgAo0iIAVBo0gqHhEQAREQAREQAREQAREQAREQARHoYAJSEHTwy1PWRUAEREAEREAEREAEREAEREAERKBRBKQgaBRJxSMCIiACIiACIiACIiACIiACIiACHUxACoIOfnnKugiIgAiIgAiIgAiIgAiIgAiIgAg0ioAUBI0iqXhEQAREQAREQAREQAREQAREQAREoIMJSEHQwS9PWRcBERABERABERABERABERABERCBRhGQgqBRJBWPCIiACIiACIiACIiACIiACIiACHQwASkIOvjlKesiIAIiIAIiIAIiIAIiIAIiIAIi0CgCQzQqorR4fvzuG/Pdi/ek3dI1ERABERABEagS+HLgO2ZUfS9UI0Sgqwn8/vtv5sv33zEjDDmgq8upwomACIhAOxD47stljJl8wuisDKhYiX5KD4iACIiACIhAAwlssMEG5sILL2xgjIpKBESg3Qh8/vnn5uCDDzbHHntsu2VN+REBERABERhEQFsMVBVEQAREQAREQAREQAREQAREQAREQASMFASqBCIgAiIgAiIgAiIgAiIgAiIgAiIgAlIQqA6IgAiIgAiIgAiIgAiIgAiIgAiIgAgYKQhUCURABERABERABERABERABERABERABKQgUB0QAREQAREQAREQAREQAREQAREQARGwBOSDQNVABERABERABERABERABERABERABERACgLVAREQAREQAREQAREQAREQAREQAREQAVkQqA6IgAiIgAiIgAiIgAiIgAiIgAiIgAhYAtpioGogAiIgAiIgAiIgAiIgAiIgAiIgAiIgBYHqgAiIgAiIgAiIgAiIgAiIgAiIgAiIgCwIVAdEQAREQAREQAREQAREQAREQAREQAQsgSE6gcIbb7xh/vvf//bK6uCDD25GGWUUs+iii5oZZ5yxx/3nnnvOXHnllWaJJZYwCy64YK9nu/GC57Tyyiub2WabrW2KWOtd3HDDDea6664zn376qZlooonM5ptv3hbvrla+2wawMiICIiACIiACIiACIiACIiACDSDQEQqCjz76yFx88cVmuOGGMyONNJIrdqVSMb/88ov5+uuvzUknnWTWXHNNc/DBB1eRvPPOO+6Z8ccfv98oCDynGWaYoa0UBHnv4o477jC77LKLmWaaacx8881nfv31V5MXvgF1vkcUf/75p9lzzz3NlFNO6RQTobQyH40ul+ITAREoR2DjjTc2L7/8snnsscfKRdBmT5UpzxdffGG++eYb933l3yGGGKLffEfb7PUpOykEPvzwQ8N4h/rJGG/aaadNCVX7Upm2UTtWhRABERCBzifQEQoCj3ndddc1//73v3tQf++998yOO+5oLr/8cjP77LOb1VZbzd2fd955zdlnn20mnXTSzn9LHV6CvHfBext66KHNpZdeaoYddlhX0s8++6xl7w5F09VXX22wukhKXr6TYfVbBESgOwigNOSvW6RMeZg4/fTTT2bkkUd2StsRRxxRCoJuqRBdUA4sSp955hnz8ccfm1VWWaW0gqBM2+gCfCqCCIiACNQk0FEKgrTSYJJ+wAEHmNVXX93cf//9VQXBmGOOafirJQyC/MS0VtjvvvvOhWU1pZbw4SE8A6xGSkx+09ItWgYmzoRlYDhgwIC0qKrXaoXNexcffPCBGXfccXu8g7zwPtGiHIqWN62ARfKBFctQQw1Vk1FsvtPyo2siIALNJ7Dkkkv22rLW/FSbl0KZ8rDtywtWXijbJSLQLgT22GMPlxXGfvVImbZRT3p6VgTyCPzf//2fmWWWWcxaa62VF0z3RKAlBLrimMPRRhvNwfrtt9+q0J566im3Knz77bdXr11wwQXu2s8//2z4/9xzz21mnnlms+yyy7o972ny9NNPm2233dbMNNNMzkJh+umnNwsvvLA5/fTT3TYHLzxP3H/88Yc555xzXNg11ljD7LrrrmajjTbqEdY/87///c9ssskmacn2uIaJ5+677+5WcMgv/5511lkurSJStAzE9fzzz5vNNtvMsE1hjjnmcANlyv/666/3Sqpo2LR3QXnghRn/J5984v7P3xNPPGHSwpN4UQ5Fy7vccsuZRRZZxJXrtttuMwsttJD7Q/mAZOWD9847XnXVVV1nPuecc7rtCa+99pp7zkuZ+tYjAv0QARFoOQH6a/qnbpFuK0+3vBeVo+8JqG30/TtQDv4mwNgznMeIjQj0JYHaS+F9mbuCaV9zzTUu5GKLLVZ94ocffnD7SNmj5gXTda4R/rTTTjNsWRh99NGdiTmaOywDQlPzBx54wGy11VZm6qmnNjvvvLMzY/v++++db4Ojjz7a+UTYcMMNXfTs2STuxx9/3Bx++OEuLA4ShxxySD9SfFgAACAASURBVHP99de763PNNVc1L/wHMzn23ecJ8a6//vpuvx1axemmm8488sgj5ogjjnCm+Oyfz5OYMrz55ptOmTHWWGM5xQbWGSgBUGSss846jhPXkJiwae8CJ4rjjTeewYIAjjiaRHgfXEu+u6IcYsr7j3/8wymLDjroIDPFFFNUrU94Z0havlEO7LDDDubWW281yyyzjMEUl3dz4YUXmrXXXtucccYZTmGAxNY395BEBESgYQTop7ziju1m+Dp58cUXnWWU78tI7Pfff68qBvmN1dQII4xQMx8oaXEOy98444zjfL/wLH2H36ZAPHw3EKyN6HNQhBJ21FFHddfp7+j3UP4OM8wwqekS56uvvurMqikLflOyrNnKlIe+7d1333V5wVKO/HmfP6kZ0kURaCMCbIV58skn3ViM7zl/ae0jpm0QJ1aCCFshffslna+++spMMskkbtEoy8qS/uGtt94y+ExggQNryVlnndWNC0MhDdLyQp/h4xw4cKAbhzFeYuEm2b+k9VXJMpJeVr8S8wqZwNKfsrUXC0sWSHAWfu+997rxrpfY8oR5iOnn/HNF+/kwnTLP8I7o61nYwvcFc4Mk1zJ1hm8F5UY5AGMsX5PCNyuUehgTTxHOP/74Y3Uh0tdJ6jLfUNoW9ZH5gpfwu9fKeplkpd+NIdBRCgI62ptuusmVnI6Xysu2grvuustNbNmLVkROPfVUN9kde+yxXXAcHGJqdskll/RQEDAx5pQE/g07ASwI6AyvuOKKqoLAp4ujRCacxInQmI455hjnpT9UELzwwgtukn3YYYflZhlLAcqNQsMrQFi5Jl/nnXeeKzcdVZbElAG2NPDjjz/eDaQRyjn//PM7RcSjjz5aHVTHhE3LGwoH5Nprr3Ufmp122qkajIFyUopyiCkvChfqEe9rsskmc4qYWnLLLbc45cAGG2xg9tlnn2rwFVdc0VkU7L///k4hFA4Yita3WmnrvgiIQDECDKpR6jKhxvqLwQ0DOwZfDJ732muvHgoCLIhQEiNMlBlQM4nPEwbtmDqjIGSgiCUUys4TTzzRbLPNNoY8DDbYYE4hzbeJgeM888zjBldMLOj/6df4Yz81k/IjjzzSXHXVVT2UE/RR5557rvsGjDHGGG5A9v7777uskWe+XUmJLQ8DXvz7wIu+H4UG365//etf1e9kMg39FoF2IXDfffc5qx8mUbQP2vrwww/vxlfJhZmYtsGYkPEbk7HddtvNtT+2NaAMRHn20ksvOUtLFgZo66FwjTEaioWJJ57YTaSfffZZg8UrjrWnmmqqanAsUrFKRPy4FmXEgQceaB588EGnrONUJRaktt56azf+oIz0KcRNmUJhfMb4hLhIn/EWfV5ZoU/ETxQsmBiioIQJfQSLVq+88koPBUFsechXmX4utp8nnTLP8Bz9+FFHHeXmAihrUEShUN1iiy3Mdttt594vUqbOoHDhGwHTu+++29WPpPCNCKUMY56P4YyFM98E6hGLbyeccIK58cYbnfLNK0tWWGEFs/fee7u21+p6mWSk3w0mYBt+24vt/Ct2tSTzz5p3V6xWs0c5/DOXXXZZ9bpt3C4O2xH3KrNt4BXb0fW6bifMva5xwQ4AK/bDU71nG6uL235EeoW3K8sVu+WgYht/9Z6dlFbs5LtX2PCC1SZWrLa5YiefvcK9/fbbFbuCXbGNtnovrczcLFqGQw45xJXBbsvolV7yQkzYrHwRpzXxr1hlSo/ok+FjORQtL4nayYIrsx0IJ4tYSeaDANbXRcUOoCt29aBXePsxd3HZD7q7V6a+9YpUF0SgnxCwCrqGldRuk6rYAbFr36FY66uKHdBXwu9CMlE76HP9dZ7YAV3FbveqWGuxHv36PffcU7FbyypWiVyxq4w9orCTlYq1GKvYgb27bhUBri/hW8K3gX7OTvYrdoDZ4zn6Wvod/5y/Sf9EfHZykJfVSq3yfPnllxW73a5C/2WtG6pxWcVHZcstt6xYq7qKnWDkpqGbIlCUgLWsq9gFgaLBc8NZhXzFbhGtWOV8xVq+VMPaFdmKtdCs2C2SFbsYkxlHrbbhH2R8YK17KiuttFLFKviq8dnFjIpVQFZo90mxp6BU7OSqx2XyRXtOjnnCQPQJdkXepWcn+RWrrHO3ScsuiFWD0m7pp5JjXx+Avs46Wq7Y1ehk1qJ/M75lvGsnhz2e/fzzzytWaVFZfPHFM+MsWp4y/VyZfr7MM3a7aGWppZaq2O2rPcppFauu/Gnj/jJ1hnZhrVEzWWbdKMqY58twZlzLd8AqsCtWWVDNhlWKV6wVbcUqBirUbaSV9TKLh643hkBHWRCgnWJVCLHFd9o2NJfHHXecc1J48sknF/K0jH+ApKBlxbwH7ZrXBBKG66wkPfTQQ05b6s2A0Bx7s9EwLva1J4XVZVaW7UfE2E7GpYETqPXWWy8ZtMdvNJ2kgYY6KaxA3XzzzcnLqb+LlgFfDOyb33777V2a/GHGikkcpnGhxIRNzVTExVgORcsbkQUXlDqHLwa051hwJAUtP/zQuIZbR2LqWzJO/RYBEYgnwOoaJ9qEfTmx4HeGlcC09huTCiuT+CtJ+irAuswOkHqdtuPjxspo8skndz85JYVvwaGHHupMlxH6EFbzvbBqxEkvrNok+2C2I2D9RHkWWGCBws52q5EP+g+rglgNsAoUCquk/gjh5DP6LQLtQoCVXMZToVNqLPgYL7IdZ7/99nNtqF6hbWLhE24PwHqTLYW0Wdp+KH6rYXiNfLEVke2lecLJXPvuu28Pq1jSCq1F2Z7EFkcsPpMrzpisY83KeLnIVqm8vLBKzhj7lFNOqfps8uHZEgoTrFsZPye3TvhwtcpTtp8r08/HPoNF67HHHussQ5PWulhvwAVLW8rAlotQYutM3nuoda8WY54vy5lnscTDoiwUrHWwmFt66aUdH6tAc9vmWlEva/HQ/foJdJSCgIlfch8OHwVMnKigmFTdeeedvUy9kpi8U8PwujcJDxUEDPRw0IezugkmmMA5CGRbAoM5TIKs9jQZtTNBSwqTaQZybDNAQYCpDh81FAd5wscNqWcwG1MGOje8VfMxwGcCWwq8sM2AgaTfMxsTNq+MRe7FcIgpb5G0wzDsIcREOWtfrj+xwufXP1u0vsXmR+FFQATSCWCuycQbBSsKOvptP1BuhIdo9iATf5pgcpllzhtuPfLfMq8cIC6+Zyi+vdAHM9FIKgf8fXy3oLhEYZ2miEzLX/IaPm284j15jwE/2+XCUw2SYfRbBPqSAGO/UDkQ5gVH0WeeeaYzkWb7Tz3CBCltAsz4jHFjUj799FO3NYjFJcaKbHlgLEA/RJvNE0zZ7ap8XhB3b9NNN3Xh2LLKfnAvKERQjrJwVq+wQMbE2Dt0TsZH38pJJ2n+HnzYWuUp28+V6edjn2EsjEk9W8j4SxMW7ChDUkEQW2fS4i56rRZj4inLmWdRuKUJ3zHaIN8RFARIK+plWl50rbEEOkpBkFV0tJgMjti7g7YvdD6V9kw4SEu776+xt4iOl4FgsqNFYxyu9Phn0jpJPgqs8GBB8O2337q9TCgb6FTyxE8seaasxJaBlW/+mAzjrAqNI5YK7INDQ8kKuZeYsGXzz3MxHGLLG5MvFAMM5tMcyBAP1iUIK2+hFK1vMXlRWBEQgWwC+DTB+ol9sziNpc3SN6PoZbWL+0nnUtmx9bzD6hwTjqyVOSYRXpGaF2dyz3JaWPwUkOc84T7hyigIKAvfzOTKWJherfTz8qZ7ItBsAkXqLj478BPSDEn7vtstoG5CxRgPR9dYHaKgQFHAuIrxVJ6Ek/28cCgdiJ8Vbn8UKX0dizys7BbpY/Li5x59C31pnmQpMP0ztcpTtp8r08/HPoPVKO+zlr+wtIWgLGZpdSYrbNHrtRj7d1mrP8/6ntRqZyzOemlFvSzKReHKE+gKBQHFxzM0kqbhLYOH7QQ4oWLQlVQOMKhixSZGsBbA0yvHIdKQMAutJTRIBrVJ5yQ85xUXTNqTTnh8vLFlQAuOMoLBLavhONTiz+5DdU5u0D6iOOBeTNha5ax1vygHwpV9Z7U0+uSRjy0ffD4WfIST1iw4EULQNktEQAT6lsDyyy9v+EPor7AmwLwUk1icf2GCW0boBxgwc5xqmhkxq0ycYNIIwXkqFmx5wgTfb1vIC5d2j7KgUKdPQ2mdJkxoJCLQrgTy6if12tfxVuYfx8RYtuKoMJwMYpLOZLps35NWBraqYqnASjf9EVtt2UqVtjU17fla1+hbiLuZUk8/V6afj3mG8Rym9NZvTTMRVOPGiW6zpB7ObOfOUkLjSJ24Q2l2vWwWI8X7N4Geblc7lAwebK1DGGdGWkuTWbSIfnUobZWIYw7xXB0j7FHCSzWaXvZqpfkqSMZHeMxVmfQyGA0Fj7d02snV6jBMTBmYILMVgkYdHrdDfHxg0QiyxYM8xYRNlqnM76IcYsrr84EZHpYBaScnpOWVozF5f3iqDQVzQk7G4GPCdgyJCIhA3xBgQo1/ANqpF9o5ik0GOJg/skWgHqGfxIs0W81CYXDH3uFGrRBheUY/n0zHp4l1F0pkjlorK2x7O//8893pDklBIVxrv3TyGf0WgVYSwIM/fn/ShBNC+B4zhmilkB/GfMl+ACvDWkdTx+aTcRl+o9gCilUr2wuSvlFi4wzDs0jE5PDhhx/OjIbFqHqkTD9Xpp8v8wzlxwIFE/pmC1YmWdsYGpF2Gc4+XSxS0hbS8BHGdyh5mk6z62UjeCiOfAIdpSBgBRtzUf+H4z+O+bOnGLhSHnHEEfmljbjLYBInUigfmNSzYs/xVOzzwSEMjYFVqSxz82RSNHz2imHpQCNlW0QR4bgs8sIxKigFONYRfwY4rWKymredIqYMfMjwt4AmkD2nTHZRTHCkH0dpYRJnvZg6E/uYsEXKWCRMEQ4x5Q3TxAkjZbWnN7gPbJ6yAGsSVgaoB9RD6iQfZJyyUBdw9NUIs74iTBRGBESgNwFMPfEDgkMlfL2Ewsq+9RLtVthCoS8P/xgIhb+xGguFfoB9l+y5PProo90AiUk213FMldw+RlzEwR//D4WJeTjwCsNgNspRUxxtlrQkwy8Aygh/9FbZ8vzzn/90vlXo/1F0euG8c76trEp6HkkOPQqiHyLQIgK+PvIv4zTaOr6dvLAFiHES33TGiaHEtPWw3vvnfFx59+hf2N7kjyPlGcaQHFPorVzD+Hyb930DfUKyP8pDi0NW+jqsPRmLcAxfowTLTMY1KCHYHhv2X/SnbMFlHB5uhY0tT5l+rkw/X+YZWOLokn6SsV6oSKXf5Jh1+mcUxkhevci7x7P4MMBXWdgPo+hmHsLWiNBaJpYx8Zfh7OsRfj7wVWNP8PKX3LjZngrhtu0lnXQSqJn1spoJ/adpBDpqiwEdLH9eWDnBHB4NMfuw0PQ1UlAM4PgQczH+EFZqONuWbQJ8fND2JU3Ns/KA1QCDOu/IIytceJ29a3xoOKMa01g6Z8rNKliWY6nw+Zgy4LyFVXi84pKeFzpVBo98ILzEhC1SzlphinKIKa9Pk7PM6eD5ACAoQmCdJuxbvuiii5wTMixJ2PfH6iRKA6wK+FciAiLQdwRYpaMfo1+mz2WAh5UQ3rgZ3HCSQHIVj4FTcuI+7bTTVgvBgD+5km6Pi3KKYlYwUQ5gzUVfwoQl9JrON4ITB7zgNA3HZVhlIVg1cLY627gQ/LzwfcGnDkK/yyCdPhjlLAM1LAq4hjlx2jaHmPLQp/GN+c9//uMsL1A6Y0VGWuy7RfFJ2vBgXzXfRIkI9CWBK664ouoIlLrJFk7aCZNk2gd72mkD9ijRXv41YtoGpvt+7zle2hkXoGBkWyft1G8V8PcYA6Ag3GWXXcyuu+7qFoVQFtKemOihyKB/oJ3RnugzmPwxsedfLzgfDYVxRtiHJNkzBrHHxBosJvDD1Gjh5AUccLMogrKA8Rh9KYoY0mVcG1pplClPbD9Xpp8v8wwsmeiyqIcyBMXThBNO6Bb7sJyYaqqpDI5v/bi+bJ3x6WAxxneFeoPDWtJgmwfKZ7aoeCnDmGdjOfv0WCjkPWNxRl1AIUQdYO7FAmaaNLtepqWpa40jMMBqtPLdqTYurY6NiYaAGQ0r1PVsYUDDyJEomCqVMXmjMyYfdBKxvhZiy4AzHbTDDKz5iCWPCwtfZkzYRlSCIhxiy0szgC0fELaq8K5rCRMKLA6YgJR5n7Xi130R6E8EmHwy+K5XMIvHEgrLIAZY+B1g4oDCgOP8mt1WmQiwnx+rgnBAV2+56G9QDLC9jf2eedvLyqblndPS78NK1lBlSeq5LAKMF5hYo8xvtOBQDoUcPkL4jve1YI3IGIFFFpwk5o2j6skrfQOLNkwaa52OVU86PMs4Cd8OKGFZEIkdi9ZKv2g/V6afL/NMMr+Un3eKwoD+vayz22S84W+fBt8slAP1nsCRllZRzjyLEoRt3JzYgWLE+2BjwZStBFnSynqZlQddL09ACoLy7KKexEEW/gSwdmikg5qoTCiwCIiACLQpgUYpCFpVPFb8OMYqPIaWAREm/5xYwzYwTbBb9TaUTqcQaKaCoFMYNDqfWDNi/o8FQ9LvgU8r6TepVh5YJcaPgkQEQgVBDI0i9TImPoVtLYGO2mLQWjSNSQ2TL0yE2MPPqjbmcBIREAEREIHOJYBlwgknnOCco7GSxAohW7/YxsC2N1ZHpRzo3PernItAOxNgi1JobYVZOtatbJNkC0CaDwL8JcUIVkpSEMQQ676wbKnwfjTYHoMPMgS/A2knGpSpl91HrXtKJAVBk98llgN03pgiMaDMO0u0yVlR9CIgAiIgAg0ggFkl+6DZToBSAKdS7DNm3yj7U5tlStyArCsKERCBDidAH4NFqpfw/1k+sZqxpaPDMSr7NQjgUB0fNGH94pGsrdZl6mWNLOh2HxLQFoM+hK+kRUAEREAE/iLQaVsM9N5EQATiCWiLQTwzPSECIiACrSbQUcccthqO0hMBERABERABERABERABERABERCB/kJACoL+8qZVThEQAREQAREQAREQAREQAREQARHIISAFQQ4c3RIBERABERABERABERABERABERCB/kJACoL+8qZVThEQAREQAREQAREQAREQAREQARHIISAFQQ4c3RIBERABERABERABERABERABERCB/kJACoL+8qZVThEQAREQAREQAREQAREQAREQARHIISAFQQ4c3RIBERABERABERABERABERABERCB/kJACoL+8qZVThEQAREQAREQAREQAREQAREQARHIISAFQQ4c3RIBERABERABERABERABERABERCB/kJACoL+8qZVThEQAREQAREQAREQAREQAREQARHIISAFQQ4c3RIBERABERABERABERABERABERCB/kJACoL+8qZVThEQAREQAREQAREQAREQAREQARHIISAFQQ4c3RIBERABERABERABERABERABERCB/kJACoL+8qZVThEQAREQAREQAREQAREQAREQARHIISAFQQ4c3RIBERABERABERABERABERABERCB/kJACoL+8qZVThEQAREQAREQAREQAREQAREQARHIISAFQQ4c3RIBERABERABERABERABERABERCB/kJACoL+8qZVThEQAREQAREQAREQAREQAREQARHIISAFQQ4c3RIBERABERABERABERABERABERCB/kJACoL+8qZVThEQAREQAREQAREQAREQAREQARHIISAFQQ4c3RIBERABERABERABERABERABERCB/kJACoL+8qZVThEQAREQAREQAREQAREQAREQARHIISAFQQ4c3RIBERABERABERABERABERABERCB/kJACoL+8qZVThEQAREQAREQAREQAREQAREQARHIISAFQQ4c3RIBERABERABERABERABERABERCB/kJg8P2stHthX3nlFXPiiSeae+65x/z5559msskmy8zyH3/8YQ466CBz1113mddee83MMcccmWHzbrzxxhvm+OOPNyOPPLIZd9xx84K6e88995w55ZRTzBBDDGEmnnjimuHDALFpRUXe5oHr4RZbtGZwbkScF198sbnqqqvMIossElukmuEbkb+0RJoVb1pasdfy6tQNN9xgjjrqKHP22Webhx56yIw//vil221svvLC5+U577luukcbWG211bqpSCqLCIhAgsCPP/5o7r//frPMMsuIjQiIgAiIQJsS6AgLgg8++MAwieLvuOOOy0XJh+fCCy90YW+99dbcsHk3P/roIxfHm2++WQ2GcuLf//63Oeuss3o9+s4777jwL7/8cq97tS6kpVXrmW65Xw+3WAbN4NyIOKmzl1xySWxxCoVvRP7SEmpWvGlpxV7LqlN33HGH2WWXXczHH39s5plnHjPGGGOYrLCxaRYJ36z+o0jaCtN8AijNbrvtNnPdddc55RMK6l9++aX5CSsFERABEWgRgY033tjMNddcLUotP5lvvvnGfcOfffZZc99995mbb745/wHdFQERKExgiMIh2yDg5JNPbl599VXz0ksvmemmmy41R9dcc40hXDixTw1Y4mKlUjFXX321WXnllXs9Pe+887pVyUknnbTXPV3IJtBMbnwwGKSvssoqbjIo6R8EsurU5ZdfboYeemhz6aWXmmGHHdbB+Oyzz1rWbtV/dG/923vvvc2NN95opp56ajPUUEOZTz/91Pzwww/uGnVOIgIiIALdQABFN3/tIHvuuadblBtppJFcv/v222+bZZddth2ypjyIQMcT6CgFweqrr26OOOIIc+WVV6YqCL777jtz5513mu23396ZEbdSxhxzTMNfnvz000/ViUleuLR7lI1JDVsYagkTEcKPOOKIZsCAAbnBY8LmRpRxs1b8RbgRdRF2bC/hjw/FFVdcYf7v//7PMVtwwQULKwhY8eP5Wtwyipt5Oeb9UYbff/+98MSiWXkuyj2r0DFlrlVPwjRqhc2qU1gisV3IKweIMytsmF6RuufDx5Q5TKNIPmLfc0y+s96hrtcmwKD02muvNViojD322DUfoF+aZZZZzFprrVUzrAKIgAi0BwG127/ew5JLLmlmnHHGtngpbOv18t5772mLWlu8lfKZUBsrz64ZT3bEFgNf8Nlnn91MMMEE5vrrrze//fZbLx6YFzG5Wn755Xvdu+CCC9zKPyuGSTnwwAPN2muvnbzc4/dyyy1X3SOOGelCCy3k/hiEI0899ZSL//bbb+/xHCZQu+++u5ukzjzzzO5ftiiQz1ry9NNPm2233dbMNNNMhrJPP/30ZuGFFzann366YZKUlOeff95sttlmZoYZZnC+F+jEef71119PBjUxYXs9XOBC0fjTuPl39fPPPxv+P/fcczt2aIZRDiUFS4E11ljDlXfWWWc1KJJOOukks++++zrTM1b18gRtOEyxNGDgjvnclltu6axV6pHY90c+DjjgAFdWyrHuuus6s7k0aVaeSavT62yyTtH+aJuYIn7yySfu//w98cQTDWm3Rd5z2f6Ddn7OOeeYVVdd1dXNOeec02y++ebOMiaU2DaTVqd0rRyBgQMHmgknnLCQcoAU+Gakfb/Kpa6nREAEWkFA7fYvyhtttJEb00pEoNEE1MYaTbS++GovR9cXf0OfHmywwdxAGYeFOCFceumle8SPkysm0KONNlqvdFEMYIr066+/9rrHymKtyeA//vEPw4QVB4hTTDFFVVM55JBDuvgwJyX+r7/+uhr/F198YdZff33Dfm1Wi9gW8cgjjzgrCPKDeVSWPPDAA2arrbZyk9udd97ZTDvttOb77793fg6OPvpoM9xww5kNN9yw+jhbKui4xxprLLPrrruaiSaayCkB/ve//5l11lnHbY3gGhITNit/eddj4k/j5t8V20VOO+00N1EeffTRXRnQMGJF4bd5UA+22WYbpzyBK+a8lJmyhyvFWflFUcPz9957r+OHj4mvvvrKnHvuuY7bGWec4SZlsRL7/oj/mGOOcXXo4IMPNt9++60rB3UAa5hQ6dWsPJOHbqizyTo122yzmfHGG8/Qzmk3iy66qHud1Cmu1dNui77nMv0HyoEddtjB+VLBoRd7P+lL8LGCQjOsmzFtJrYud3J4+iKvTGH71zTTTGNefPFFZ13l+8OwfNQdvgX4qSD8lFNOmWm1xfeAiT79Mt8mrEdCoS/CGskLSj3i5xkGQsnwhCNfCO+eeBHiIC0UWtTlUUcd1V2n3lJ/UToPM8ww7loo9BNvvfWW+fDDD53SD+sZFI/+m0VYwuA0LhSfB5/ftHs9U9IvEehbArQn2jmryFhjoUwdfPDB3Xd9iSWW6JW5Im3DPxTTbnslZC8w5sQ/CQpqnOIypktrrzxLvgjL3zjjjOPaO9aM9BverN+3zzCtov0WVmjhGHiEEUaoWkui6GTcxLeSRabQihKLRr8YRrrc49kiEvNuYt5LkbQbHaZoWcpyJr9F32VYttjvHM+WeaZWXea+97vjv398u5588kk3rp5kkkncWD1poVumjdXDuChnvo1+Mde3Fb6njCGYh9BOmHN5CdtpWhtJtiO+xVl9Qfh+++r/HaUgABKrvKwOs5IcKgj4MLByeMIJJzSFJRN8KgoKAk5RYOJfS7AUYIDGJHexxRZzwVFwjDLKKOa8885zE1I+GGnC5JBw/BtWIBQgfPAwoQ8VBDfddJPrWDh5gUEwQrj555/fKSIeffTR6oA4Jmxa3mpda1T8p556qlMKeLPdNddc02DehkM/ryBgUo1C6Pzzz68OrmHNfRQptbyio1TidIw99tjDbLrpptWikQ6TcibrKCpiJfb9UbeeeeYZ89///rc6IVlqqaVcOQ499FA3QWTAgzQrz8TdjXUWRQ+CGTiDx5122sn9RphgJSWGQdH3XKb/uOWWW5xyYIMNNjD77LNPNZsrrrii60f2339/Z00VfmyLtJlkqiygnQAAIABJREFUebvxN4NdFKtM9rHA4uPOoJsBHh/pvfbaq4eCgPaHUpC+Gn8lfPTff/99hwalJP1BUo499ljnz4JnmfQzUQ8Fh5j08V74RvH9YmBz9913u+9YUugDEBQ+tH8GXDjUZEDC4IpBHfWTP8KiBD3yyCNdnxAO2FEe8Y1hkMapOvQdWFPRV5LuVFNN5dLh9IxNNtnEpcMgjfs4WETgRZ8LM5QUDIh8/lwAiQj0MQEUabRBxgHUT5R6tC8G8SzIcAJWUkFQtG34osW02yQOxg4o+BnDMfFGAf/uu++aLbbYwmy33XbVbzrPMTlnHIISGCUC1m4otFkQYxGDPg1F5MMPP1xd/Ijtt7CUxCIN8adJ0Laxon3wwQedQoI+gbHl1ltvXS0OVrP0gwjMmdigsMyT2HcT+17y0m70vdiylOEc+y4pY+x3ruwzPFekLjM2py3SBnfbbTf3LcUqFmUXfiLwH4d1M++auuylTBsrw5j0YjjzbWQMQVthMYj5JX6FWCT2ypIVVljB4IMIxR1jNb6b3OO7S7sJhbkRYzni49vM2JSxSNuKrfhtL9Zsv2JXcip2cOLyaleUK3YSXLGOoKp5ty+uYju3itVWVSx8F94Ooqv3bSftrtkJQa/yWnPyijXr7nHdmna78Jdddln1uh1Yumv/+te/esWRDG8HjBW7WlOxg/leYe2e1Yqd8FVshXP3ks/6B+yEv9ezXLAfi4o1g+9x75BDDnF5g1UtiQlbK660+zHxp5Xdvyv7IesVvf2oVuyH313nfVAP7Me2Vzj7wXM87Epg9V5aWlaZ4OoNcSXFdmIuDqt4St7KjdPfLPr+eJ+k8/jjj/dKxyoo3D3rW6N6LybPaWXulcigC91SZ7PKbI+RrNgJT4/iJ8PGMIh9zzH9B3HbrTKuflvNe69X5uu3HdS5e0XbTK+I2uiCVbo2LDd2q1XFfnh7tWtrwVWxA5Qe/TqJ0mfB237ce+SB+jHffPNV7Ic+M2+EWWmllTLvJ29YBVXFWoEkL6f+Puyww1z6Pl9WEeDqBH2GHYRVqK9WeVGxA7Mezz/22GMVO7Dpcc0qAFw5k22AQHyTrPK5YpVSPZ6hXtlBTCWrL0vNtC6KQA4Bq/yq0AYaIXaS4MZCdtDeI7rPP/+8Yie5lcUXX7xXMrFtw0cQ0255xm77qlglX8VuQeuRB2tJ4PJmJ1DV63aC5Maghx9+uGvXXuziRcVun3Rt067C9ipLPf0W/Yi1sKhYxWbFTloq1mLJxc8Y2Z6s1Cstf8EqOCp2y2vmfX8j9t2UfS+x+aqZ8ZQAsWUJoyjKucy7jP3Oka8yz8TUZdJgjkS94rtoldtVHNQtq7CvUK/TJLaN+TiKMiZ8Gc6Mwe1iXcUq49380otV4lWsZWfFKgYqfF+RL7/80rUPa9FUDRf+hzGIdaRdsRaEqffb6WLHWRCgaWH1DO0lK4Lsx7VAnXaLVVa0MqEpVF9pZtDsYSKKtiwprAQVOY6FslBOVnTQiGMhwEoVWjhvfurjZn8++5Bx0Eia/NlK7UxKMS0NJSZsMu9FfjcqfvwuJAUmMEALyKoYFhhoH6kD4Uoq5nysrqVtN/FxwpBVQlaV0dInxZsmYwUCR95BKGmmfuH9mPdH3jG9Sgr+EFgJJA9YRsTmORlf3u/+XGc9lzIMYt5zHv/wHvUZ3yGsiGFJlBRWemjvaLftBLJ6u0ibScbVjb/R4mM95K1ufBnxZ8LKRsiUVXFOuGBlINlXYhWA1RjPLLDAAoW2LTWaJ987TuZBOKGDvg+rIr99gbpAfxdK2rYo+hi2pmCllBS+SfQzbIVBsM7DAovvD6fzsJIpEYF2IsBKPMde46jOKn97ZI3tY1jW8M1kvBBuq4ltG2XKjGUaFkZYeCWtRFlZJM9YNtD3sB3CKgKdT6vk3n4sRu2Ew219TEoj+q0dd9zR+WrCsskL+U3mOZl2rd9l3k0r3kutfKfdL1OWZDy1OJd9lzHfOZ+n2Gdi67JPh+8SbTBse9Qr3jPfK+p2I6UWY9Iqy5lnsUS0io8eWcbSkLkD30vaulWIuC2AbAfFmjtpJYiVHlbJWDcW3aLTSEaxcXWkgoAJKCZRbDNAQcD+FiZ6dLJlhMF4o4U9rEja4L5IWnwUcDDItgkcM+K4DlN7BoVMiK2GvEc0fGQYyPHBtCvRbkuBF7YZYPbj967GhC2S12SYRsWfNrn3SgCvIMCkx2oE3SAekzj4MNi3q3rOTC7snJL5DCf8L7zwQvK2+81H2/sy8HvXfUD8A2SdBxz7/jC3SvOZ4BlgmojE5jm1UBkX+3Od9UhiGcS+5wz0vS6zZxxFJ2Z5aTLyyCO7yz6/PkyRNpMWX7ddY8DLJBqFGkoT+k7/QU6eHkBfyaAlqRzwTGj3fCNQzKYpYJrNLlR8eqVk6NsABaff9+nzwjGLbJlAucy3Yvjhh3fKUhhkfe9CJQHKd/aMSjnQ7Ler+MsSQHnFhCOpHPDx0eY5WSR58lOZthGbR8ZgmCGzTYC/NKG90fcwXmIMS3+VJpgwp5khN6LfYvuDtbJIS7aua2XeTSveS5lClSlLMp1anMu+y5jvnM9T7DOxddmnw4Q6bfzNnIjxe6OlFmPSK8uZZ5lrpAnfZBQE+JdDQYCwXZl2xbwCPwVemJuwaIEj9U6QjlQQMMhB+3rDDTe4/VLsU+dDkbZaX+Ql4BCu0eIH6mXjZo8alYuPRrIyoX1LrhiRf1YS+WNygQMrtGVYKrC3DO0aK45eYsKWYdOI+JOOTNLyQWfHnjpWxfzKGAMCHBv6PXNpz3GN/VEIDZj9TLXkuuuu6xGEVQr2OKZJ7Pujw2TfUjjwJ16sRhDvCCU2z2l5y7rW3+ssXGIZxL7nLPbJ6/5c5zRHdoT19YK9faEUaTPJtLrxN34msKBif7I123UOAekXULayqsh979uFff1czxPuE64vFARhvsJ9m1n55dhFBjNMQFBiYoWCBQCKAr4LfA+yhGdQKKN859sjy4EsUrre1wRoj7TxPEkq/eppG3npJO9h/UVatRat+N6wqsie5KwVRSZZfnEnTKcR/VY4eUmWoZ7fse+mVe+lTJliy5KWRi3OZd9lzHfO5yv2mZi6nFb25LVmjVFqMSYfZTnzbJ5VDeMDuw24WlQU8nx7sSJCyY4wBmEBF4uDIt/xamR9+J+OVBDAC7NLFAQXXXSR0xIzIMqreH7lxQ+sPXM8bFJpYiRrBSaMg8qU5dTJT/yZtKetQLNKjMMaBqNJ5QAfE1ayksIEE2UEHxJWF3FsxR/H9eEIA80ZigPuxYRNplPkd7PjD/Ow3nrruckzJntMsHk3OJFM+6Am884EHx7wTG5RICyr9tQP3zF4549hPGkKgjLvjzgx5SLvofh37U2MY/OcLHPe7/5cZz2XGAZl33OR/oMPCJM1Bk58WJLbWVCMIqxSSdIJ4GTUn/5Bn4Q1AeaVmD1igYapH0Kbw1IrT2ibvg3mhSt6D0eJzRIcVeKgDUdQ4TcR02YmTL7caekzoaHOYUGARRaTljQHjWnP6poItJIA7ZHVzRipp22QTtF2S7/MuMT6sCqUPRQdHJebZmaPBULa8dx90W8VKowNFPtu6n0vRfNVJlxsWcqkUc+7LPqdC/MV80xsXS5T/vCZom2sTDr1cGasn7VAwBbg5NiduQlWfPRRtOuTTz7ZHdlediG7THnrfeZvN5L1xtTi51mhxrQS6wEG0N6rfVY2GBwhoek9v/EGndzPnxUHpiGs7KV5Pk8+g7k4pmFM9On4Q2HFm0qTXP3zYbwmOU2jzDGHeLkNhQkH2y6okEySQ2GigTaLfdLkKSasjwf/DuS5ltdawpeJv0eGI35wpCQDfjxys3+fPU804CLKAZ8MiiU+wMl9uUwo8ByMJ/Gk74FaWYx9fz6+ZB5QTuCdnEkrq3rNzDNxd1OdrfWOsu7HMIh9zzH9B/nDCob9s3gGDgVTTPo9PtxhvcgqU3+7zmSfrUGw8wJ7lIH0D5j/YdLrBd8C9Mds3UoTrLBQ9qb5CEkLX+saq/JZZse1ni1yH78UWNglFeYox/OO1sVigJMO+CbiRZ3BDcoEFPASEWg3AiyAMGjHq3+WJL/dZdsG8ce0W/LGtlfMjosIYzesGJN9EJMlfAQk2zJxtrrfKlIOHyb23dTzXmLyVSZsbFnKpFHmXcZ+58hXmWdi63KZ8vtnYtpYmXTKcPbpsPKftriD3yrGCElFOnMufMKxvRuLb7YXJH2MlClDK5/pWAUBAz6vFJhxxhl7aW+SENkPwp60I444wg2AGPSwr4vj8Tg2rKjgrI5Jvz0twL30PGUBE0wGpRxnwwTbeoZ1e+VxhsXgP+0cbvLBMzijYh89JipYHHDMFXtscHpBRWQC682P+XjgrwAtFsdSMXkgjxyRhpk9JqWwwnw9JqxnwkCRlSXOFK4lZeKvFWfWffYywYIjH9HK8Y5xTMbRYpwfj8bO793PioPJAiu1DIQ5No4ywv2f//yn26JBPHmmRWnxxr4/4mCfM++JOsnkhTywgoeDHBykhc7WmpFnX45uqbNp76XotaIMyrznmP4D6yFWgmn3mMmj3OQjgwMc2j5H63SKqVpR9o0Ih9kuvhlwKJRs/6zE2RMEnCbfC6aJHGdEe6PNh4KVGgN03kHyvGKsueiH+ZeBA/8P/9IGE8TNnmO2K6Ho8YIygzaP+SfbABAft08nzBcThzD+MAxlY2uFP6aR5/iGhD5ZfD79cygHGDwySfHbCugXsUKgX+R7yTNZZQrzpv+LQCsI8F2mD2QQziIG9dML7Zw6zVgg3OYZ0zaSZSjabnmOIw33228/N46gzw5XRfEtc9ddd7n+xm9tpK9nHzN7mHEOyoSDsSnXWfigLSalTL/l27tnRb6K9FlpfVt4jXhDiX03Zd9LbL6SDIv8ji0LccZyLvMuY79z5KvMMzF12X8Hk+Un7bx7/j3EtLFkGkXqchnOPm8sSONcEN88Xphn2VMh3LbFNKeLzEcYg2DJzbgNlp0kHbvFAMhsM2CyH3pgzYLPChB7QTibGiUBgkkIk18m7EWFc2rp2On4ESbemKymCXs/GajhgZYwdGbkgwkeFS1PUAxwXiamV/whrGDhaZq9LigoWIXypscwYEUTz5mhx1s6BJQHfES9xIQN85j0CJ6V/7LxZ8WXdZ0tE+zPQ/HDiiGWIKyS4bCLgT7nyLP6yjvIapjwY5Ue1gwy2LKCTDjhhK6eFKlbafmLfX+sILAizLtiQIGgAEH7uNxyy/VIoll5JpFuq7Np76bWtRgGse85pv9gQkp9RGmE5RD9F20QpQH1mn8lvQnQB9AX0k5oO7R9LL9QtvFx57uRXEmnf2QgSPtDyclggNU8rqFoTDP9RdmLssHLtNNO2yMzvGv6+qQwaMBiAeUmA39/bjumrEwIsHajb+cEBS9nnnmmcziINRiCJQTnS7N9DMG/DN+Fu+++233jdt11V6cwJX6sylBAoDBB8UxfSV6xYMPSICwDz/JN9YJDR/ZHwwVhD2WyP6oG1n9EoMUEOJUDvzwoUFEW0HfTxqmz9thUtw01dP4b0zZQ2IVSpN0mw7MlEEUFfQVjCqwCsWrA6pG25Z2a8RzOlukTODsd5QDtkz6ENuvHBEm8sf0WE5WwXEnHy3xjwn7Hp8fEKlTAcD3s75jgJy0gY95N2fdSJl9JhkV+x5SF+Mpwjn2XZb5zZZ6hPNT9InXZLybyDF79mffwfWErNd8ov73N32McgwLMS0wbK8OYdGI5+7yx2Ep/glUxfQ6KR/oafA2wCJwmjNfoh/im4q+q02SA1eo03oV/m1Ng5YYPCCv4ZVbgQIZZCY2NySkribWE9HiGwV+aZ8+s56mEPEcaSYc7Wc/gjAoNOoNiPjJ5E/siYRlgMpCkgadpsrPywfUi8ec9n3fvhBNOcL4H0ManKQDsubrONwWDZRpxLUEjySSCAQXvNc2sr1Ycyftl3h8rf0waitSVZuTZl6GT62zyPZT9XZRBzHsu038wOMNiiXqedtpF2fK103O01XCyWjZvKA790aS0I7YhocVHYYAfkTx+cEYxwDYuFMhZ28DK5i18jn6dd0q+UA402iEg1m3Ej5KYLQN534FGlEdxiEARAowJmCigXG2k0J7wn4FyEOVp3jirnrZRpt36Z5hk8V1PWiPlcUC5xylWWBX4rbLJ8K3st5JpF/ld9N3U816K5KMRYYqWpWxaRd9lme9cmWeS5ainLifjyvpdpo1lxZV1vShnnkehx3yCRTuUfN43GIu2bCXIEtJgkRFlRoylelZ8rb7eLxUErYbc6emh5aNBsGLVToIp+D333OM04qz4JYWBPooNjsLstL0/ybLotwh0O4FGKQi6nZPKJwKdTKBZCoJOZkLeGcdwNFx4NDYTDLY3Mc7B0rXMglanc2lU/pO+fGrFyyox40eJCIQKghgaWH5imUzda8SCY0zajQjb0VsMGgFAcdQmwP5V9uK3m+CJFesB/C5grod5IZ06WlKcbbF1AMuLNdZYo92yrvyIgAiIgAiIgAiIgLMYxCISZ31YGWD1w3ZULBpxuoy1hZQD9VWUpIPyWrFhQSYFQS1K3X2f7UHelw9b9Pwx5PgdSDvRgG2AoRUkWwmx/GZLOlug0iyd25mgLAja+e0obzUJ0OnjuBGFAKY/Xtg7zEkXHCXJcUMSERCB9iYgC4L2fj/KnQg0goAsCLIpsp0ApQDbYNnayZZOfBdoe1A2M90RgWYRwLG8dwYfpoEzxbTJPsoEHBemCb49ksdVp4Vrp2uyIGint6G8RBPAOQ5/7MXHJwQmeTjyytt/GJ2IHhABERABERABERCBJhJg3IKzYv4kIiACfUsgzWFnXo5Q5vHXLSIFQbe8yX5eDszvOk07189fmYovAiIgAiIgAiIgAiIgAiLQZgQGa7P8KDsiIAIiIAIiIAIiIAIiIAIiIAIiIAJ9QEAKgj6AriRFQAREQAREQAREQAREQAREQAREoN0ISEHQbm9E+REBERABERABERABERABERABERCBPiAgBUEfQFeSIiACIiACIiACIiACIiACIiACItBuBKQgaLc3ovyIgAiIgAiIgAiIgAiIgAiIgAiIQB8QkIKgD6ArSREQAREQAREQAREQAREQAREQARFoNwJSELTbG1F+REAEREAEREAEREAEREAEREAERKAPCEhB0AfQlaQIiIAIiIAIiIAIiIAIiIAIiIAItBsBKQja7Y0oPyIgAiIgAiIgAiIgAiIgAiIgAiLQBwSkIOgD6EpSBERABERABERABERABERABERABNqNgBQE7fZGlB8REAEREAEREAEREAEREAEREAER6AMCUhD0AXQlKQIiIAIiIAIiIAIiIAIiIAIiIALtRkAKgnZ7I8qPCIiACIiACIiACIiACIiACIiACPQBASkI+gC6khQBERABERABERABERABERABERCBdiMgBUG7vRHlRwREQAREQAREQAREQAREQAREQAT6gIAUBH0AXUmKgAiIgAiIgAiIgAiIgAiIgAiIQLsRkIKg3d6I8iMCIiACIiACIiACIiACIiACIiACfUBACoI+gK4kRUAEREAEREAEREAEREAEREAERKDdCEhB0G5vRPkRAREQAREQAREQAREQAREQAREQgT4gIAVBH0BXkiIgAiIgAiIgAiIgAiIgAiIgAiLQbgSkIGi3N6L8iIAIiIAIiIAIiIAIiIAIiIAIiEAfEJCCoA+gK0kREAEREAEREAEREAEREAEREAERaDcCUhC02xtRfkRABERABERABERABERABERABESgDwhIQdAH0JWkCIiACIiACIiACIiACIiACIiACLQbASkI2u2NKD8iIAIiIAIiIAIiIAIiIAIiIAIi0AcE/r+9s4B25bbaqEINMzMzMzM1zMxMDScNtWFmhgabpGHGhpmZmZmZGvCvrVb+ZXnGHo19fe37vrPWXe95RiPY0miko6OjIfa30g/pJiX58ssvm5NOOsncfffd5o8//jCTTTZZ7vO///67Ofjgg82dd95pXn31VTPHHHPkhm104/XXXzcnnHCCGXnkkc24447bKKi79+yzz5pTTz3VDDnkkGbiiSduGj4MkJpWUuSDSOBUhln1lRpHjPbiiy82V111lVlkkUXiWy3/bjVveRnoq3jz0ku5nlVH/vkbbrjBHH300ebss882Dz74oFlmmWVaegdT8tUobKM8N3pO94x7d1ZddVWhEAERGMAEfvzxR3PfffeZP//5zwO4lCqaCIiACPQ2gZ6wIHj//fcNky/+jj/++IbE+fBceOGFLuwtt9zSMGyjmx999JGL44033qgGQzmxxx57mLPOOqvu0bffftuFf+mll+ruNbuQlVazZ3S/lkAWw9T6yoojhTNt75JLLkl5pHDYVvOWl1BfxZuXXsr1vHfq9ttvN7vssov5+OOPzTzzzGPGGGMMF21e+JQ0i4RNbVdF4lSY7iGw0UYbmbnmmqt7MtRiTsqU54svvjBvvvmmefLJJ81dd93lJnQSEegWAh988IF5/PHHDd+CMmMuX44y70a3MFA+REAERKAvCQzZl5G3O+7JJ5/cvPLKK+bFF1800003XWb011xzjSFcOLHPDFjiYqVSMVdffbVZaaWV6p6ed9553WrmpJNOWndPF/qHgOqrf7i3K9W8d+ryyy83Qw89tLn00kvNsMMOW00uL3y78uPjUbtqN9Huig8FEH8DRcqUh4nTTz/95Czo/vOf/5gRRxzRLLjgggMFicrR4wQuuOAC8/TTTzsl8corr2ymnXbaUiUq826USkgPiYAIiECPEegpBcFqq61mjjzySHPllVdmKgi+++47c8cdd5jtt9/emR93UsYcc0zDXyNhwBVOaBqFje9RNp5lC0MzYQJDeAZ1gw02WMPgKWEbRtTgJmn8/PPPmWVvhUmDJJveKlJfWZGk1APbXX777Tc3mS0iv/zyi/nTn/7UtM6KxBWHaYVzSplT2lOzsHl1hEUR237idykvfMiiKIeUMofxF8lDmXoumu+43vU7ncCSSy5pZpxxxvQHu/SJMuVhC48XVmlRfktEoFsI7Lnnni4rBx54YEtZKvNutJSgHhaBBgT23ntvM8sss5g111yzQSjdEoHOEOiJLQYexeyzz24mmGACc/3115tff/21jtDNN99smJQtt9xydffOP/98t/L/2Wef1d076KCDzFprrVV3Pbyw7LLLVveW33rrrWahhRZyfwzcEUwxif+2226rieebb74xf/3rX93qy8wzz+z+ZYsC+WwmTz31lNl2223NTDPNZCj79NNPbxZeeGFzxhlnGCZXsTz33HNms802MzPMMIPzvcAgl+dfe+21OKhJCVv3cJML5557bpUnfhxmnXVW1+nBGDNwBO0/vGACxzPPPLMm1v6qr6yipdYDqxIMXCgbZV9nnXXMvffemxW1W6mkPlkFgRGmzVtuuaWzlGlVer3txe8U7xFthjb0ySefuP/zh6kpEof3/IpyKFLPZfsB3tdzzjnHrLLKKq6e55xzTrP55ps7Pymx+LaPUo3/zz333K4t4WcB5aikbwlsuOGGrs8eKDLQyjNQ6kXl6H8Cejf6vw6Ug/8nwHwia24jRiLQHwSaL0f3R65y0hx88MHdABuHhTghXHrppWtC4uSKCfRoo41WFwOKAfaqYS4ZCyuSzSZkG2+8sVsFxwHiFFNMUXWmNdRQQ7nofvjhBxf/119/XY2efZzrrbeeYZ83GkG2RTz88MPOCoL87LXXXnFWqr/vv/9+s9VWW5mpp57a7Lzzzs6E7vvvv3d+Do455hgz3HDDmQ022KAani0VfOzGGmsss+uuu5qJJprIKQEuuugis/baa7utEVxDUsLmZrDBjU8//dTx/Ne//mWeeOIJgx9MJnX/+Mc/XJkwD9x9993NiiuuaOCKz4ijjjrKDDPMMNUy9Ud9ZRUptR6I49hjj3Vt4ZBDDjHffvutqwPKjVVLqLxCSbTNNtuYe+65x9Ud/i2++uorg4KFOoMXE8kyMhDaXvxOzTbbbGa88cYzvK+0/0UXXdShGX300d2/cXiuFeVQtJ7L9AMoB3bYYQfnEwXHXJhv0yfQ7lGaxfXs2z7bpU4//XSnYKKMvMOsMGBFlLXNyUGQ1BCgr/NKGLZ/TTPNNOaFF15w1lW+P+QBLH28spffWF6NMMIITWnyDuPok79xxhnH0EZ5lrbotykQD303goUQ3xGUWoQdddRR3XX6C9o1CmT6wSwhTvpVzKopy5RTTplrUVamPLTTd955x+UF6xzyN9JII2VlRddEoOsIMLZjvEGfzxiNvyyLy5R3gzix+EKwBPTvL+nwrZ5kkkncwk2epSb9A7488JmAohrLNxYN/LjRQySNcGxKn+Hj/PDDD91Yjm8fiz9x/5LVV8VlJL28fiWlIukj6U/fffddZzGLsnuIIYZwY5gllliiGlVqecI8pPRz/rmi/XyYTplnqCP6esaz448/vhufx1zLtBm+FZQb5QCMsWCMhW9WKK0wJp4inHEo6hczfZukLfMN5d2iPTLn8BJ+9zrZLmNW+t0eAj2lIKDIrLSefPLJbiUtVBDQYbGCeOKJJ7aHTBQLE3x/QgKnKDDxbyZYCvBxYJC/2GKLueAoOEYZZRRz3nnnuUkhnUyWMKkkHP+GHRAKEDriK664okZBcNNNN7kXnhV7BsEI4eaff36niHjkkUeqA+KUsFl5K3KNzotJF5NdPiAI5Tn00EPdhAeFAANQn8/FF1/c1Wmo9CiSTl6YMvWVFVdqPdBGsI5ACeIHJ0sttZSb0B122GFuguh5oNDiZA7MJTfddNNq8pg9okhAwcAksYwMxLaH0gS59tpr3eBkp512aoqmKIei9VymXf373/92yoH111/f7LvvvtU8r7DCCq4/OOCAA5xVVDzIPO2005xSYOyxx3bPrLG7DZgUAAAgAElEQVTGGoa2gSNMKQgaVz2DahSrTKixwGJww8COwReD53322adGQYBVGMoXhIkyA2pvmZKXEoN23l2UPQwUsWpBcYUCG8UfeUCpzTvMd4uBI041GVwxsWCASvvkjz6DSTn9Iv1CqJygT6Ef5TuCQ04GZO+9957LFnmmTcSSWh4GvCgo4cX3A4UGA8Hddtut2v7iNPRbBLqFABZ6WP0wieL94F0ffvjhzeGHH17ncDTl3aCvReHPeIZFDd4/rANRBqI8wx8W1pooeXnXQ+Ea4zwUC5xsxXf/mWeecQtYjGGnmmqqanCsCLEwQ/wpDygjsG594IEH3FiJE3IYH2299dbuW0IZ6VOImzKFwhiPbw1xkT7fTvq8skKfiM8fWDCuQUEJE/oIFr44aSxUEKSWh3yV6edS+3nSKfMMz9GPs8jDeBxlDYooFKpbbLGF+ctf/lId15VpM8xf+EbAFKewtI9Y+EaEUoYxz6dw3mSTTdw3gXbEeJ751Y033uiUb15Zsvzyy5u//e1v7t3rdLuMGel3mwnYF7/rxZrtV+xqScW+IC6vdoJZsYOYil2prubdNtyK7UQrdnWmYhuzC28H39X79sV21+wqTV15rUl3xZrw1ly3HxwX/rLLLqtetwNLd80OmuriiMNbTWDFaoordhJQF/att96q2Ilixb5w7l78rH/ATvjrnuWCHXxWrCl6zT078XZ5g1UzSQnbLK6s+/aj7PJiPV/X3LYDYnfdfuTqHqMO7JaI6vVO1xcJt1oP1Avle+yxx+rKZyf77p71kVG9Z5VGrs3SrmKxgwsX3iq93K28vMXP8XugtL28MttjJCt2slxX9Dh8CgciK/q+pfQDxGt9p7j+yq441eXZDgBdPdtBYPWeb/t2wFgX3g5EKnZAVnd9IFywSte2FcNutarYAXHdu2UtuCp2QF/Tr8eJ2kFfxW7pii/X/LYDOvfNOOKIIyp2UFe9ZxV+ldVXX71iFbkVu8pY8wz94nzzzVexA3t33SoCXLug3yAO2qud7FfsALPmOfpr2pB/zt+kvROfnRzUhI9/NCvPl19+WbHbWCq0Rb6fXqzio0K/bJVRFTvBiKPVbxEoRcBaSFWscrfUs/FDVrlasVuv3FjPWr5Ub9sV2YpV0rsxxfPPPx8/Vv3d7N3wARnzWeueirV6rFgFX/V5xpNWAVnhvY/l0UcfrdjJVc1l8sX7nPX98gHpE+yKvEvPTvIrVlnnbpFWOKbivaWfsiv6cdLuN32dddxbsavRmfdTLtrJqBtz2slhzWOff/65G8/ZBZ7c6IqWp0w/V6afL/OM3epXsQs9FbsNsaacVrHqym+VR3XlL9NmeC+sZWFdXM0uFGVMPGU4M0bhO2AV2G5+5cUqxSvWIrJiFQMV2jbSyXbZjIvut0ag5ywI0I+w6sbqDiuJ7OO1CJx2j9VZtKWhqWib9SmFo0NLySoM2uVYWD3CX0IzoSyUk3Pe0dR6EyS01t5k1cfB/mT2K+OgkTT5sy+1M2fDrC2UlLDN8tjofmjCSzhW1xAsMGJh9QztaTdKSj2wCozJYSz4FmA1AYsSrEmoP1YBWQlnxTEWbxZNeOowRdT2/ksrlUNKPRetD/omfICw4oIFTSysDPHeoqW3k72a2/gdiYU8YobIKoC3RInD6Ldxq2urrrpqHSP8ObASmFUXKdxYmcR3SuyrAAsvO0Byq/FZwreLU3YQTt2gHrEsYrUQoT2wmu+FVSNO7WDVJu7H2Y7AljfKs8ACC9Q57axG0uQ/rApiNcAqUCiskrKSheWKRAS6lQAruTjVDJ1E8x1mNZPtOGxx5B1qVXg3sfAJtwdgAco2QN5Z3v1QsrYHki+2lWFh2Eh23HFHs99++7lVZS+kFVqcsj2J7WpYjcYrzpisY4GIFVWRrVKN8sIqOceLn3rqqVU/XD48W99gwpiG71K8dcKHa1aesv1cmX4+9Rm2fh133HHOyi+2+MV6Ay5YT1AGtlyEktpmGtVDs3vNGPN8Wc48iyUeFmWhYK3D+BVrbviwbbhT7bIZD91vnUBPKgiY4GJ6hUk6CgL2gzHZYtBWRhjEt1v4MCFlB6IMMnEwyLYJHDPipAxTYwaSmCNZzW1NlumY8DRNR25XsN2WAi9sM2AQ6Pe7poRthQuTmVC8CXXWR4R7ReuhaLhW8u6fTa0HzAxj7/rE5f1iMJhBUPh4sSsc1f+H/2ECkhVXZuDgotref2GkcEit52Z14O+z7xSFZd5ebo6RQ3xew3izfKn4d0gKgsY1wMCaiTeKOBQt9J1+oNwOD9F8c4g/SzC5zDPnDbeR+D2lXjlAXExyQkUp/TgTjVg54NPFDwf9IUrjLIVSVv7ia/jFYSKRJfTVKAjCUw2ywumaCPQXASYnoXIgzIe15nEOkDGR9gsUZfPJBClr7MIYj/44FnwxsTWIBR7Ga2x5oE+nH2o2hsGUnW2XzYStiYRjDMF+cC8oRFAgc/JXq8IiFRNja7mXGRV9KyedZPl78A80K0/Zfq5MP5/6DONpTOrZQsZflrDoRxliBUFqm8mKu+i1ZoyJpyxnnkXhliV8x3gH+Y6gIEA60S6z8qJr7SXQkwoCOlg0dgxa2JfFPl06sKzV+iK4cCTXbvGD+7Jxs6+JTp9BaNzJo60OV5l83lmB5I9JCY6m0BZiqcAeNrSLrFSWCdtuNvFe69T4yzJNTYfwqfXAQIG9WeGgn3iw/kC8Qxf2MiJ81NlL1k5R2/svzRQOqfVctL5QDNAWspwOEYdvF6zWxtLqexLHNyj9xj8FFlTsm7XbABx/BrAoW1nt4n7sXKooH1bnmHDkrcwxifDK2EZxxnuWs8Lip4A8NxLuE66MgoCysEIWr4yF6TVLv1HedE8E+ppAkbbLAhJ+QvpCsvppu43UTaiYOOKgGAsyFBQoChibMSZrJOFkv1E4lA7Ezwq3P4qUvo6FIlZ2i/QxjeLnHn0LfWkjyVNg+mealadsP1emn099BgtA6rPZAmSWQj+PWVabyQtb9Hozxr4um/Xned+TZu8ZR8x76US7LMpF4coT6KljDsNiYqqJ4CkfJ2Borhq9dH61xg/IfVx4lKZzSpFm2l/i4mViQBo7FuEeE3+cHNo9apnJsrqMAyzMk2LlAAM6VotiYWKKV12EVUmcYeHMBuUJWk00hygOkJSwcTqd+t3p+soqV5l6IB4G3LH4OvPmxZjmUU9cz2pPWBqEVgZxfI1+q+39l05RDmXrOave4nphgMYgEYVelpIABSfCCoWkvQRw9IlSlNV+BuUPPfSQU7jSJ2OBVlaoUwbMHIuZJawyZR2nmxW22TW2Y3mHhHlh6W98v5IXJu86ZWErGAPgPIGdRAS6lUCj9km79m28k/nHwSzO+ziphqNxOYUKc3SUeN5hdbvys+6667ptbKx0I6eccoo7GrfsglmcL/qWdvVncdz+dyv9XJl+PuUZvs0s7Fh/ZA3/2rUVCye6fSWtcMYRZZ6wFTbeOtzX7TIvL7rePgI9qyBgpRyzMibADLybefWmc0ZC03t+40E63s+fhxeTLVYEsyaA8TOYhmNqykQ/HkjirZbOPGvVkHj8ylTWChXHHOI1OxQmKmy74IUMj8ohDB9HtHmY+5OnlLA+Dfw7kOdmXr1jBq387nR9ZeU1tR58HPH+QpRQeCZnwsp2Dy+sMDCZiMOjwMELOqcflFESDKS2l1UvRa8V5ZBazyn9AHnl1A72Z+LdOBRMUOm/GICE7aJo+RQumwDbstieA3Mv1BkKOQbomD+iNGhF6Gux/GG7VygM7tg73EhZnZIuvgX4VsTp+DiwEEMRneX3pGg69DP//Oc/3ekOsaBUjvunOIx+i0B/EsCDf94x1Yzv6FvLbNVrpUzkByvXuB9ggarR8dZl0mRsh+8ptpGiiGZ7QewbpUy8/hkWm5gcomDNkzLjlDCuMv1cmX6+zDOUHyUtJvR9LViZ5G1jaEfaZTj7dLFIyVoUwdcT36H4NJ2+bpft4KE4GhPoWQUBAz6vFLCeauu0V3Gx2afFXqkjjzzSKQXYM8U+UQZGHDdWVHAYx6TfnhbgOuNGygImeQxKOQKFCbb1QOucSuFwiklD7MTP54FncGBlvVQ70zEsDjgaiz1GOKPhRWQS6Vck+QjhrwAtHlpMJh3kkaPVOAYLczZYYeqcEtbnh310mFdx1m2npD/qKy5baj3wPHuC4U3bYhJCHWLJgaMfnImFjuWYqLC6jDMhjrqDL+G32247t8q5ww47NDT9jfMb/h4oba9RGYvcK8KhTD2n9ANYAbGaxPuLuTtKSgZxOJjiHcY5XDtMQYvwGBTCYOqJTwccKnmfH77crISxqscKWyj0p+EfA6HwN5ZboVCn7LvEcu2YY45xAyS+JVzH8ov3Oo6fOPgj3lCYmIcDrzAMZqMcNUUfElujscUOZQTtKt4ukVIe+hv8ZPANQWnlBUep+PjBB4LnEXOoKYh+iECHCPj2yL+MlXjXOYbNC1uAGGsxTuPbGkrKuxG2e/+cj6vRPfoXtjeF1j+M4zim0PsxCOPz77zvG+gT4v6oEVocstLX2VNH3HeFY/jaJSxs8I1CCcFiUdh/0Z9ilcWR3eHWz9TylOnnyvTzZZ6BJY4u6Sf5boeKVPrNO++80/XPfqtoo3bR6B71hbXvddddV9MPo+hmXMjWiNBaJpUx8Zfh7NsRC7L4qvGWylxnnmFPhXBWMbGTTu73Zbv0+dK/fUegJ30QeBxsM2CyH3p6zUPFKgt7tHbZZRenJEAwiWHyy4S9qHDuNZ0BnQXCxBsvrlnCvjM+Eni0JgwdK/lgYpjnFMrHg2KAc2wxVeMPYZUIT/js9eHDh6bRm+LDgJVQPNqGHrTpEBn40bl7SQkblquTXtP7o76y6jC1HlhZZEUY5t5zMk6M0O5jahgKdYdlAfXMh5ftMsiEE07o2miRdp2VZ64NtLaXV85m14tySK3nlH6AyRt1i9IICyD6Id4llAZYFfCvpH0EWKWjL+T94p1jgIflF0o6Bjd8N+JVPAZO4cCX3GAW7IUBf7ySbo+LcspaVjBRDmARRrtgwhJ6Taef5sQBLzhNw3EZll0IVg2crc5Z5QjbIujjOQ8boe9mkE6fgoKXgRoWBVzDnDjLW3pKeWiffKf+/ve/O8sLFNdYopEWimGUWKQND6ye6K8kItCfBK644oqqI1DaJos8vCdMknk/2DbKO+At98K8prwbfnGE5/HSzjgOBSOnEvGeotwP79GfoyBknLnrrrs6B4IoC3mfmOihyKB/4D3jfaLPYPLHxJ5/vbDQEArfjLAPqblpf/A9Ydsq42H86bRbOHkBv0kouFEW8F2lL0URQ7ooK0MrjTLlSe3nyvTzZZ6BJRNdtoWiDEHxxBgNy1AsJ6aaaiqD41vvoK9sm/HpYDHGd4V2g8Na0mCbB8pnb1lL2DKMeS6Vs29LLDZSz1ic0RZQCNEG8IHBImiW9HW7zEpT19pHYDCr0Wq/C//25a9PYmKVhI6NgVCZlTuQYVZDZ4NVgvdE3iizpMczvOBZnnDznuUl5DnSaOYIxseBIxw0uwyK+QA1mtgXCcvHDXM5Pojxylhevtt5vT/qK85/mXpg9YAOvkidow1mAsNHljYVmybG+Un53cttL6WczcIW4ZBSz2X6ASahWB4xae202WszPv19n8kng+9WBbN4fzwo7x/HWjFxQGHAcX59zZ2JAKfOYFUQDuhaLRdtB8UAW8xQbudtUWslHe/glm8HrMp8H1tJX88OfAKMOZhYo5Rtt7AXH4UcPkL4jva3YGFKf89CDU4SG43FWskrfQMLCkwaUyxiy6TJeBTfDihhUW6njGeLpFe0nyvTz5d5Js4z5adOURjQv8fWW3H4Mr99GnyzUA60egJHVh6KcuZZlCD4TGOxC8WI96nFomV8WlmYVifbZVYZda01AoOkgqA1ZIPe02jF6RBY5ZKIgAiIQF8QaJeCoC/ylhUnK34cYxUeZcuACJP/u+++21mmaYKdRU7XBmUCfakgGFS5YpmGFSJjtbzFhdgHTjNWrBKzMCQRgVBBkEKjSLtMiU9hO0ugp7cYdBbVoJsae+fYDy8RAREQAREwzjLoxBNPdM7RWElihZBtUVgBccQhq6NSDqiliIAI9AUBtiiF1laYpWNhytZXtgBk+SCIHXQ3yxdWSlIQNKM0sO+zpcL70WB7jD++G78DWcfqlmmXA5tgb5dOFgS9XX/KvQiIgAgMCAK9ZkEAdLYToBRgGxRbsdiCxf7UvjIlHhAVrUIM0gRkQdB69TNpw0FcluCrwPumyrqvayJQlACO1bOOZ8aZYpYSSu2yKNneCCcLgt6oJ+VSBERABESgywiw/xanpPxJREAERKATBFBC8icRgb4k0MgxZla6apdZVHr3Ws8ec9i7yJVzERABERABERABERABERABERABEeg+AlIQdF+dKEciIAIiIAIiIAIiIAIiIAIiIAIi0HECUhB0HLkSFAEREAEREAEREAEREAEREAEREIHuIyAFQffViXIkAiIgAiIgAiIgAiIgAiIgAiIgAh0nIAVBx5ErQREQAREQAREQAREQAREQAREQARHoPgJSEHRfnShHIiACIiACIiACIiACIiACIiACItBxAlIQdBy5EhQBERABERABERABERABERABERCB7iMgBUH31YlyJAIiIAIiIAIiIAIiIAIiIAIiIAIdJyAFQceRK0EREAEREAEREAEREAEREAEREAER6D4CUhB0X50oRyIgAiIgAiIgAiIgAiIgAiIgAiLQcQJSEHQcuRIUAREQAREQAREQAREQAREQAREQge4jIAVB99WJciQCIiACIiACIiACIiACIiACIiACHScgBUHHkStBERABERABERABERABERABERABEeg+AlIQdF+dKEciIAIiIAIiIAIiIAIiIAIiIAIi0HECUhB0HLkSFAEREAEREAEREAEREAEREAEREIHuIyAFQffViXIkAiIgAiIgAiIgAiIgAiIgAiIgAh0nIAVBx5ErQREQAREQAREQAREQAREQAREQARHoPgJSEHRfnShHIiACIiACIiACIiACIiACIiACItBxAlIQdBy5EhQBERABERABERABERABERABERCB7iMgBUH31YlyJAIiIAIiIAIiIAIiIAIiIAIiIAIdJyAFQceRK0EREAEREAEREAEREAEREAEREAER6D4CUhB0X50oRyIgAiIgAiIgAiIgAiIgAiIgAiLQcQJSEHQcuRIUAREQAREQAREQAREQAREQAREQge4jIAVB99WJciQCIiACIiACIiACIiACIiACIiACHScgBUHHkStBERABERABERABERABERABERABEeg+AkN2X5bqc/T666+bCy64oO7G0EMPbUYffXSz6KKLmqmmmqru/qB64dlnnzVXXnmlWWKJJcyCCy44qGJIKvfFF19sXn31VbPffvsVek6Mm2Py7+1KK61kZptttuYPKIQItIHA888/by6//HIX084772xGGWWUuli/+eYbc+yxx5oVVljBzDHHHHX3dUEEREAEREAEREAEBlUCPaEg+OijjwwTuCGGGMIMOeT/Z/m3334zv//+uxvorbbaaubQQw8dVOuxptxvv/224zX++OP3q4Lgjz/+MHvttZeZcsopzeabb97VdXPfffeZu+66q7CCIItxL5W3E5Xh39sZZphBCoJOAFcajsC7777r+j9ksMEGM/vvv38dme+//96FmXbaaaUgqKOjCyIgAiIgAiIgAoMygZ7aYrDxxhub5557rvr34osvmltuucXMN9985oorrjBnnXVWn9Tlvffe6+L+/PPP+yT+dkc677zzmrPPPtssu+yy7Y46Kb5KpWKuvvpq88orryQ91wuBsxgP5PL2Qp0ojyIQEphkkknMpZdeOiD7H9W0CIiACIiACIiACPQVgZ5SEMQQWB2adNJJzamnnmqGHXZYc9VVV8VBqr9/+eUXwwSuiGCV8J///McFRfHA6vdJJ51kvvjii7rHWTXGXDVLUtIkb99++22hPDYLO+aYYzrLgQkmmCArW+5aSt4I/9NPP+XG1Y4bqfnJS/O7774zWJYUlbz6ow2QpzwpwjjvWa7npcu9lDI0iqdR+u26l5LXdqRZtJ00e0fakRfF0d0Edt99d2dxdtBBB5XKaNG25iNP6SNT4y5VAD0kAiIgAiIgAiIgAiUI9LSCwJcX5cDEE09s3njjjZrJIZOnM844w6y88spmlllmMXPNNZfZcsstc1eUsBRYffXVzYwzzmhmnXVWt23h5JNPdmbnzzzzjJl66qnd3n72VDOBPOecc8zss8/unvGSmiYWEZtttpnBDJu9sKS97bbbmtdee62uOouGffLJJ10eb7vttpo4mDSR51VWWcXxmHPOOZ3yg733oZx//vnu+Z9//tnw/7nnntvMPPPMZplllnHlLyJYLyyyyCIu6K233moWWmgh9xcOoovmp1l6Tz31lGM200wzufqYfvrpzcILL+zqPlYKFam/Aw880JWXNrDOOusY2kUsMeNm5W2WbtEy5MWz6667mg033LCuvOT7oosuMptssklchOrv7bbbzrX1LIWILyf+BLwUzWtWgr5tffbZZ3W3mcittdZadddT3qmi70hdIrow4AhMOOGEZtNNNzWPPvqoufnmmwuVr2ifVKaPTGnHhTKrQCIgAiIgAiIgAiLQBwQGhIKA/aTsO2VV1/soYAK/9dZbO/8ETISZGB9wwAHmq6++MmuvvbZ57LHHanDeeeedZosttnAru0ceeaQ5/vjjzUgjjWQ+/PBDZ53gBSuCl156yT1/xBFHOMUEk2kkNU0UGkzq3n//fcMED0sIlAXETR4pk5eUsD/88IPL49dff119noHvDjvsYA4//HDDwPmwww5zaRGOSVnIg8kb16+55hpz+umnu0ny3//+d8dh7733Ntdee2013rz/sB0EnsgUU0xhttpqK/c31FBDuWsp+clLg+v333+/WX/99c3HH3/sHJIxcD/llFNcmsccc4y58MILax5vVH8EpL1Q9kMOOcT5T4Ah+b7xxhtr4okZNytvo3RTypAXD046H3744bp2TaZx8DnZZJPV5D/8ASsm1vfcc09dmOuvv94xmHzyyd29lLzWRWYv+LblLXTCMLwH8XaUlHcq5R3JypuuDTwCfAPGGWcc11ej8GwkKX1Sah+Z0o4b5VH3RGBQJ8B7iuUafyi1seC844473NjOC99wFkgavfN8L1Ac8vfyyy+7R1944YWacVfMmu8WW1tvuukmt2jUKP74Wf0WAREQgZ4iYDvbrhe7gluxju4qdnJbl9dPP/20Yq0C3H272l+9f9lll7lrdi9+zTO2g68sueSSFTupr7m+3HLLVeaZZ56KNfOvXrem6hWuWx8H1Wt2VdrFu/zyy1dII5TUNE888UQXl/2Y1cTzyCOPVBZbbLGa+FPCel5h/uwHzaVllSQ1ab333nsVa7ngymmVI+7e0Ucf7cLaFf+KnXhXw9vV/8oCCyxQscqLmjjyfsCPeHbbbbe6ICn5qXs4uLDNNtu4+iFvoVDP5H/FFVesuZ5Xf8RDXtdbb73Kr7/+Wn2G8lsLisr8889foTxeshg3Km9eusSXUoa8eOzkumKVBJV99tmnprx24u/K9fTTT9dcD39Y6wAXxiqQasJQHutroea9S8lrFiPftshvLLzH1nKj5nLKO5XyjsRp63f/E+Dda4dYZV5Nv3rDDTe437QPL7Q/rllHhdVrKX1Sah+Z0o7bwUBxiEC3ErDKtcpOO+1UOnuffPKJ+05YB6MVaxlXsZahlTXXXLNirQcr1rqtYi3i3PfanuLkxnpWkVCT1gcffODCE8cGG2zgvr+EY2zDGNAqxTPzZv0puXgXX3xx95y1GqxYa8WKXUyqGRtkPqyLIiACItBjBHrKggCHd6zW+z/bqbsjDu+++25n5s9qkRdWvkcccUSz0UYb1ShsWMFeY401nBYYU2mE1R20yZj384wXTk2wHwy36mk/SjXx4P2aeEJJSZPnsHxAWDkNha0QaMTD+FPC1kT2vx84LaQ8WBGEgp8CeLLN4KGHHqq5x6r42GOPXb02zDDDuK0JHPHXqpTJT1aaWF2wUkDeQqGe2WqAZUGWZNUf4ezApeakDMpvlQzGKqIyV9iz4m50LSvdMmWI4+HECrZE/Pvf/676zyAfWHtg5cKWiTzBOgBWnOLw448/VoNhVYJjTqs8ql4rk9e8dItcT3mnWn1HiuRHYXqPAO2X7VtnnnmmswjLkzJ9UtE+MqUd5+VP10VABIwZa6yxjFV4u7EdFmdsocMZqVWOO2tHrECxCPXbimLrv3333dedrPTEE084i0O+aWyDtEo/t0U1y5cIVninnXaa23J6++23u+eIlz/iwdpQIgIiIAIDiUBPHHPogWPyz2THC8eovfPOO84EHBN9L0wU7Mq423KAc8FY/J77N998002qmDgzwcKk3yp43NFYXjjODtP60UYbrSaa+ISA1DSJjD39fGi23357N4Dljw8XeRp33HFr0ksJG5eXMuHTAIeOWWeCc0Y9+eBjy4kQXtjPH8vQQw9t7Aq7U6rArYyUzU9eWuTp8ccfNw8++KCxqwMG83/yiBLITxrjZ+P64z71zkQ5FhQ25513nqG9WMuO+HbS76x0iSC1DFnxcKY722hQmC211FKujuzqqVl33XWb5hElCNtOGFhZ6xgXHjNK3jf8Y4SSmtemiecESH2nWnlHcrKgywOEAFuk8L3it4/FxSrbJxXpI1PbcZw3/RYBEcgmwDvtt79xshDfPL5jf/rTn9wDjG0Yw4WCP51VV121bvyCryUcm8ZjJBZwjjvuOMN2O8aJofB9RMFgrRWc0oIFFIkIiIAIDAQCPaUgsKZdZo899qhy//LLL53jO7S47D8ffPD/GkQwSfTy/PPPZ9YTz4W+BUFBEe4AACAASURBVNjHfuihh5qDDz7YWSLwgbn88sudgzprTlbdO+8jG2OMMWriLZMmHxNWrfB3wGqt3VpQjdOasrn98KOOOqq7lhI2LjB79NCKo2DJkpFHHtldjlfbY6UIYbzypBUFQdn8ZOWdNoCDQpzpYQ3BSjmr/tQfCp+8oynj+iNu2k/YJnx6nkPWKRZZeWp0LSvdMmXIiocJMu33uuuucwoC/AWQZxQHzQSlAPu0eZf4P/XLEaKsyIRSJq/N0vb3maSFkvpOtfKOFM2jwvUmASxu8LVitxQ4hVk80C/bJxXpI1PbcW8SVq5FoPMEwsUcb/3plQPkhkWi2PkuTqtRIqC4Q8HHeGGEEUZwmbdbD+oKwdgMPz1YkcaWpD4wR6oyfpOCoA6fLoiACPQogZ5SEMSMGZxhPsrWA1ZN/equnzyx8okn+yLCRwNHhpiS8Yfg8JAJEo75YvHOEP31MmnyLCv2/DFAxbEOWmhM4x544AGz4447upV9Lylhw/yiGOCjiVOfLGHFHcGZVyjhxzfrubLXyuYnKz0cIaIE4oOPJ/5QWDmIVw/8/bj+uM6kGCdE4QCD654Ppo2tSla6ZcqQFQ/vg91H6d4FjszEySQKEwYvzYSBFNtpUIjxLE4LcfoUbi8gjjJ5bZa2v0+6oZR5p8q+I0XzqHC9SwAlMlYxKNEwFQ6lbJ9UpI8s0457l7JyLgL9Q8AvEDVLnW2EWGqyLQGlOOMivqcsMDCG5H64ZRHry7feess5eG4kWcrCRuF1TwREQAS6mUBPKwgAy+o+CgIm9V5BMProoxtWxTExj7cM8AyrqnifDVeRWFViAoi5GJNEnsPzu1/Bb1aJZdJkQsqkiDTILxM0/jiKkVMM0EijOOBeStg4r3w4mSTykeNjGPpZIKz3KYCWvC8kXhluV35YmWMiyypArBxgHyL1nyqYE8Ye/3083pSxWZxxeRuFb3cZsBbgNAKOQ8SPBSaTRYVtBmzTYI8l+yoZRPHnpR159W3PK1183LyP+AEJJfWdauUdKcpI4XqXAKbDKF05xtQ6DawpSLv6pCw6qe04Kw5dEwERaB8BFN9e+c13A2sCth4cddRRhuN2OcXIC+MixoZxn9G+3CgmERABEeg+Aj3lpDALH1YC7DNjxZ094l7YMoA5mLcG8Nf5GFivtc4E25t+cowbHweOimMPOvEx6SyqHCiTJpNITMJRTMRHvjFYHX744d2+dEzeU8JmMeIalhDsy7/kkktqguB8DwULH0G2NbRT8FHAylzshLFd+fFmgf7fMO+YEuOjIlXi9sLE9aqrrnLKpGZ8GpU3Lx/tLgN7IWkz7JmkvrN8FeTlhXeClRMsD3Da5H0R+PDtyKv3IRJupyH+s846K9NfRNH3uB3vSB4XXR84BOgH6efPPffcukL1ZR9ZtB3XZUoXREAE2kaArYhsL+Xb6IXvNoswjPk23XRTpxwPhUUbfFpxjLBEBERABAYVAj1vQUBFYUVAx8/kbr/99nN1R0fPfmo0waycL7LIIm7/PB5vMePHqaG3IGBliRMRrrjiCrfvmt98MJgQ8f+pp57areizEtRIUtIkL+ydx6cCpxXgDZtJOl62WQFG4cGeWW/unhI2K4+ssONTAU+97COHB3v02VaBVQGa86Imelnx513D4SKr0pw0wGq0N+VrR36oIxwTYRbPhJg6hCtbNFhB5zfpZllNZOWXEzHgjjdknBixyg0fHGHiD6KIU8a88malx7V2l2G44YYz+OrAOeHCCy/ctM2G+aK9Y4WDGTYSKxfakVfyxp5PnMWxNxTLFk5PQCGB9QP/hpLyTrX6jtQkrB8DkgDv8N/+9jez4YYb1pWvHX1SXaT/u5DSjvPi0HUREIH/EmChBytB/vh/+G3mJILQcjQMwzYAfC3Zo5cNpxmEYzpOq7rwwgsNzgpDGW+88cz+++9v7PGJZs8993TOTv0WP3w7cfoT1gV8+3GYLREBERCBgUBgQCgIll56aWcCxko4E38mOpgys/LLR4AV0X/961+uviaccEI3OcHngBfM+DkWj4kL2mXMzZgcMoFBmcDRcay8s2etkaSkSTzkgbyecMIJNc4X+Ygx2eF0Ay8pYbPyyMowDJj8srruj/SabrrpXNn4ty+EDypOH/m4IhypiDKiXflBMUAdcwQRfwhWIJw6gIk9CgIsSeJtFVllxZoDJQ3sUaYgKIhQDsST5aznuZZX3rzwXG9nGYiPvKIgYMtAqvAMCgIsc8ITQ3w8reaVgRVtb5dddnHvIcKWDlZ04+OouJfyTrX6jqSyUvjeJMCKINZb/hg0X4p29UlZVFLacdbzuiYCIvBfAnzPF1xwwSoOji9lEQKrSwRLALYRsaiD4MeJsQCKaMZ1fnzId5LJP1aOLALgc4fJf9aRhSwYoEzA1xE+TBhHYl2IFSoWSTg3LPO9rRZC/xEBERCBLiMwmNW01roO77IMtiM7aJD5AGB6jRIgdix14oknOt8DHPHGByOWRx991GAiivKhqIa4WZpxGnjbR4PNxwpngY1Wq1PCxunwG407zvsoa5bX/qxnWrlGE8Mygo8z/FmJDqUd+cGXA2kQd3xEZJm8Y1KIgohJMsqjFGlW3ry42lUGHHPSnjGJ7Kv6bUde2d7y448/mokmmqiQ9UrKO9XqO5JXR7redwToY1nB6wZpR5+UV46UdpwXh66LQK8SoG/GshNlc6eFxSB/vDXfd7aW4pMKBd4000xT6HvJOIPxEwoDxgehQ8NOl0fpiYAIiEBfERgQFgTN4GA6P+mkk+YG4/QAlAZ5E0Hv3Z+PS1FplmYcD56us46ui8PxOyVs1vMoH4o63Mt6PvUabONjxcI42pEfFCt5xzim5pfwrBCUlWblzYu3HWXA+gULEfwH9JVygPy3I6+pp0KkvFOtviN5daTrgwaBdvRJeaRS2nFeHLouAiKQToAFBLYCIPh4wtowVVhYyVpISo1H4UVABESgmwkMEgqCZhWAN1usB/AFgKkYygQmGCgEnnnmGbdVgQ/L6quv3iwq3ReBfiGAkz/MHfGhwOo+2yQkIiACIiACIiACIiACIiACIpBCQAoCS4vVVs6B52zs008/3e0t88LKNw79OB4rdcUzpSIUVgRaIYDlwGOPPeZMHtky08hio5V09KwIiIAIiIAIiIAIiIAIiMDAJSAFwf/qFs+1/LE/lL3y7EHF6U3etoOB2yRUsl4ksNNOOxn+JCIgAiIgAiIgAiIgAiIgAiJQloAUBBE59ocW8XhfFrieEwEREAEREAEREAEREAEREAEREIFuJDB4N2ZKeRIBERABERABERABERABERABERABEegsASkIOstbqYmACIiACIiACIiACIiACIiACIhAVxKQgqArq0WZEgEREAEREAEREAEREAEREAEREIHOEpCCoLO8lZoIiIAIiIAIiIAIiIAIiIAIiIAIdCUBKQi6slqUKREQAREQAREQAREQAREQAREQARHoLAEpCDrLW6mJgAiIgAiIgAiIgAiIgAiIgAiIQFcSkIKgK6tFmRIBERABERABERABERABERABERCBzhKQgqCzvJWaCIiACIiACIiACIiACIiACIiACHQlASkIurJalCkREAEREAEREAEREAEREAEREAER6CwBKQg6y1upiYAIiIAIiIAIiIAIiIAIiIAIiEBXEpCCoCurRZkSAREQAREQAREQAREQAREQAREQgc4SkIKgs7yVmgiIgAiIgAiIgAiIgAiIgAiIgAh0JQEpCLqyWpQpERABERABERABERABERABERABEegsASkIOstbqYmACIiACIiACIiACIiACIiACIhAVxKQgqArq0WZEgEREAEREAEREAEREAEREAEREIHOEpCCoLO8lZoIiIAIiIAIiIAIiIAIiIAIiIAIdCUBKQi6slqUKREQAREQAREQAREQAREQAREQARHoLAEpCDrLW6mJgAiIgAiIgAiIgAiIgAiIgAiIQFcSkIKgK6tFmRIBERABERABERABERABERABERCBzhKQgqCzvJWaCIiACIiACIiACIiACIiACIiACHQlASkIurJalCkREAEREAEREAEREAEREAEREAER6CwBKQg6y1upiYAIiIAIiIAIiIAIiIAIiIAIiEBXEpCCoCurRZkSAREQAREQAREQAREQAREQAREQgc4SkIKgs7yVmgiIgAiIgAiIgAiIgAiIgAiIgAh0JYEhuzJXUaZef/11c8EFF9Rldeihhzajjz66WXTRRc1UU01Vd39QvfDss8+aK6+80iyxxBJmwQUXHFQxlC63b28rrbSSmW222UrH0+kHL774YvPqq6+a/fbbr9NJD+j0fvzxR3PppZeahx9+2Hz99ddm/PHHN8stt5xZfPHFe6Lc119/vXn88cfNXnvtZYYZZpikPP/+++/mlFNOMSOOOKLZZJNNkp5VYBEQAREQAREQAREQgd4j0BMWBB999JFh8nPZZZeZq666qvqH0uCYY44xK6ywgtl77717j34f5fjtt992vF566aU+SqFYtH/88YfZY489zFlnnVXsgS4J5dvbG2+80SU5KpaN++67z1xyySXFAieG6tW6TCxmXfCffvrJbLTRRubwww83P//8s5lwwgkNCrhtttnG/PWvfzVw6XZBOUB/8OuvvyZl9bfffjM77bSTOfnkk82dd96Z9GwvB6a+55prrl4uQk3ey5Tniy++MG+++aZ58sknzV133WXoWyQiIALdTeCDDz5wyuDbb7+99PivTH/R3VSUOxEQgTIEesKCwBds4403dhNOL5VKxTAZPvDAA80VV1xhJptsMrP55puX4dDwmXvvvdetzK688spmjDHGaBi2G27OO++85uyzzzaTTjppv2aH+rn66qsNK/GS3iYwKNYlZd52222dQuDMM880Cy20kKtEVtVZjb/mmmvM5JNPbrbaaqvertyM3H/66adO6fr8889n3B3Yl1D69ILip2gtlCkPkwSUYyOPPLL5z3/+4yxIZI1WlLjCiUD/EGDR7OmnnzYff/yxG69OO+20yRkp018kJ6IHREAEup5AT1gQ5FEcbLDB3CT41FNPNcMOO6yzLMiTX375xTDgLyJMABgUISgeUDqcdNJJhlWVWOhMv/nmm/iy+52SJnn79ttvC+WxWdgxxxzTDeYmmGCCzHyl5o3wDBb7UlJYtZqP7777zrA62kkpWr5mdZuSZ9ox6RaRovkrEleZMKnpp4Yv034fffRR88ADDxgUk145QNmGGGIIs//++ztrAqxjijKOuaS2w6JloN6xdigjtL/zzz/fLL300m4F+aKLLioTTU8/s+SSS5o111yzp8sQZr5MeW644QZzxx13uG8qViQSERCB9hNI+Y41Gmv6nO25557OinCxxRYrndky/UXpxPSgCBQgwGIFFuSSzhLoaQWBR4VyYOKJJzaYhIcTPzrUM844w2lSZ5llFmc2uuWWW5pXXnklkzKWAquvvrqZccYZzayzzmpWW201Z17Lnu5nnnnGTD311G5vPyviDMLPOeccM/vss7tnvKSm+dxzz5nNNtvMzDDDDGaOOeZwabNq+dprr9XlsWhYzELJ42233VYTB4N/8rzKKqs4HnPOOadTfmAdEQoTBJ5nksH/5557bjPzzDObZZZZxpW/iCy77LJmkUUWcUFvvfVWN8HiL5zkFM1PXnrbbbedq6OsCZpngD8B5KmnnnJcZ5ppJldn008/vVl44YVd+yiiOPJMPvvss7rsHHTQQWattdaqu57SForWbV0iGRdIF6sa6ox2vM466xjadixF85dXl3Taa6+9dt1q61FHHeXM72PhXQq3AhVN38dTNHw72i9p+rYevt8+L8MNN5xZY401nHLwlltuiYua+7toOyxThu+//95N5nz/Rd089thjuXnJusE7f/DBBzvfG/hdoF8d1GTDDTfMbL+9ymGgladX60H5FgEIFB33NBtr9hVN9Rd9RVbxliXAvCF1i2TZtPTc/xPoqS0GeRXHwPjdd981rJwPOeR/i8QEnn3C99xzj6HDY2vCV199Zc4991w3qfnHP/7hJshe2GNLeCaORx55pMEBIqtnTNxQQHjBioC9/Qy8jzjiCGfChTNAJDVNFBrkbayxxjK77rqrmWiiiVx6pEseMc/nGpIS9ocffnB5xKGaFz5KO+ywg5vM/PnPf3b7qtlrf+GFF7rJbciDSTDPY0J9+umnuwkmziDJDxM8GDfbNsCqq59sTDHFFGbVVVd1WRlqqKHcvyn5qRYi+g/xogShjpdaaqmauzhmo/yYgN9///3ODBwFz8477+zqjDbDvmx8WDDZ22CDDfKScdc9E29ZEgZ+//3365ROKW0hpW4bZvJ/N4899lhXf4cccoizSqE9Uf6jjz7aOddDUvKXV5fULxY2mOCjcEKoV1YdYb/PPvs4E2UvDHhQ6KSmnxq+He2XNNl3zZaiKaecslqG8D/zzDOP+8ke7RVXXDEzTHgxpR2mloH2TF+C8hOlH/XxwgsvmO23396MPfbYTfPmAww++OCu/0OpitBOell4t7wCFGuzaaaZxnHBZN73rZQPxXKovMQ6bYQRRmhadPighORvnHHGcYoVnqUPRqGFEA/1g/zpT39y/SL7hAk76qijuuu8r/QjWH7lOZIkTuoX82HKQrv03zsXSSBlysO7+84777i88M0jfyONNFIctX6LQL8SoJ22430q2jeEheX7z7vO1lac1TKmyHtfsyCljHsajTWz4s67Rp6feOIJZwHLmIm/uN9I6S+Izy/KME72fRppMMaeZJJJ3DiafjBL6DOxTsNfAgr2cccd1y1k+LFh+AzphGMu+lIf74cffujGy+ONN55bYIv73aw+PC4naabUX1Z5+G7wjfFzEL69WBkyLvVzA55LLUucVkr/759NbeOp4UmnyDtRts3wDaXcKAfgjNVlLHzLQ2mFcxHGOK324yLfHmnLjCt4r2iLzOlCCccDnWqXMadSv22H1fViVz8rdjBUsY7C6vJq98pWrFWAu29XKKv3rTmKu2b34tc8YxtqxZpQVewEt+a6nThV7IC/YidU1eu2M6lwfb755qtesyvOLt7ll1++QhqhpKZ54oknurjsgKwmnkceeaRiTcRq4k8J63mF+bvppptcWgcccEBNWu+9917FWi64ctqX0d2zE0kX1q74V+xgtBrevqCVBRZYoGKVFzVx5P2AH/HstttudUFS8lP38P8u2A+1i98qPmqCkK71w1BtL1bx4+qQ/IdCW6CMdnJXcz2Ln2diB/F12aH92dX6muspbSGlbusSDy5QTnist956FduhVu9Qh9YKpDL//PNXYIOk5I/wWXVpJxMuveOOO66alt2z7q7xZ5U01et2YuOu2Q96qfRT8tuO9ms/MhV7MkrFKraqZYj/Q19BmayCLb6V+TulHaaWwSr4XF6sEq8mbXjbQay7F/ZtmRnMuOjrff3118+4295LtNt2if1gV+w2AfdeWuVfBfb0+/Rf9PNh2yTNG2+80YXlz1oZVayVUdOsWMVYxVrXVOzg1vWJ9jQd14/awW/FbtGoWEsOF99bb73l/rWKyYo9CaJiLdlc3kjDWpRUrCWUezftYNLl0Q6CatKmDqwPDBeeeCmPtc5yf9Y6KzOfqeUhj54X7Zly2IFuxSqQK1YJW7jPz8yMLopAQMAqPyvW0qk0k08++aSl9ym1b/AZpW/lPbWn17h3kHffToQrxx9/fPW72qxQKeOeRmPNZukwzuO7bCep7ttP37Luuuu6vod+ijFmKCn9xT//+U/H3ypb3fj62muvdX0TfYZdTHL3rFVsxU6i6rJJmRib0XfZRarKpptu6p6l32OMEMsJJ5xQ7Zf5hjGW+fLLLyt2oceVZeutt3Zju9NOO809ahXbFTtBc99u4oyFvJI/4iKctZaLgxT+zXjZLjJV7EKjKxN87QKI+75QrnDeQKSpZfEZKdP/p7bx1PA+b0XfibJtxn87aWvTTTddtS34bzX/xlKGcwpj/52kDdEX2YUw9620lqZuLkE+rQVtzXirk+0y5tHKb1b8ul78hI2Ojgrwf3R6dNB0BtZpWE0nzQTbroBkdtx+MG3N0F3ZaRw0wC222KKOhTUfd52Jnyj7Tnv33XevC5uSJg8feuihLm4GYM0kJWzWBJeOizJaDW9dUr6Mdr+1u+cnJ3Y7Ql3Yv/zlL+4FKCJZk0r/XEp+GqXFi8dA3GroqsEeeuihmskoN8L7YXxMHPjQhJLFL1VBkNIWUuq2EQuvILDWLXXBrDWBY2L3Fbt7KfkjfF5dWmsU91H2woeaD7O16HAf8fA6769XQqWmnxK+He0XRRC87Kp8tQzxfygL7xRKpqJStB2mloEBl119zhyUUYZBTUHAAJUPN+02FHtUpVOIxsrdMAyKr2YKArta5AYr1oqsgjLJy9133+0GCnb7UsWuqNWkjYKbQSOKTcRa2rj2w3tLHCj1eHfsHuKa5+gf6C/9c/4m/RTx5SkJfLhm5WHAzbvJd8BaN1TTthZmTvmOMr2oUrgm4/ohAhkEWlUQ+CjLvk9l+ga75ct901DohWItCZyyIGs8mFF09x4XHYc1GmtmxR1eQ0Fgt4RW7HbSmgUovlnWkaEbM6HMz5Jm/YV/hoUfvjmMx+3qaTUqvp0oWekLY7F+feoUAeSJPs5u2YuD1/yGGwoP0tx3330r1orE3Sc9a+1XDUt/Rv9tV/Uz4+MbwIQ+VsRmBm5wkfph7IhyJZTPP//ctQkUSXlStCw8X6b/T23jqeHJV5l3okybIS0UiiirU6Uo5zKMGVPxbbRbaivWqqCaNZQGKL9YVPHjXW52ql2mMmoUvqe2GGDuGO6JxUQek0jMpzHR94L5mV0Zd1sOcC4Yizc5xcwJ0ybMgTAXw0TIwqoxjcKUDHPL0UYbrSYa9mWHkpomz7Knn73GmAHjf4A/2+hcnjC7CiUlbFxeyoRPA8xSRxlllPi2MyUlH5iv2gFn9T579WPBpAxzH0xs4FZGyuYnKy1Muw877DB3DJu16nBBrJbetRNMfbyQb8x6H3zwQWfa5s2WXnzxxaq5Ylb8Za6ltoVW6jbOH+ZLmPfFgv+N8847z5n28f+U9yOOK/xtVyPciRmYxPO+4evArrI4s73LL7+82k4ww8cHBflL5ZMa3uevlfbrzdaKOAYsYoru85TaDouUAZM32jSOBdkiEEsjZ6Vx2IHyGzNgtjXFfRT+VOxgPrMfTCk7x17SnmNfG/g1sQOBmtN2wnjx/8K2J4TTZuhH6b8w00Xoi/nmeMEjOe+RHYTWfRPYjoC/CMpjLSNqtsJVIyjwH7Yk2YGU+dvf/lYTmi0T+A3B14ZEBLqRQOr7RBlS+wa2/tjVeMO2RcaJoTDOwEk2puS8q36rXRarsuOeeKyZFXfWNbYU4GyU77IXvr924uK2KeFol76lFaG/wudQuD0ARmzfpR+jPwwl3NYb5oltrpzA0Ex23HFH5xPMb4EjPOmF9cK2LbbQ2pVk13+Fgsk6Wy/Zapry3Y7zxbzDWo64uve+tnwYtuPCBEeRjJWztk4QtkhZyvb/qW08NXwr70Rqm4nZp/5uxrksY/KBTzOr9KjJEtsLmHcyHqPP8NtPO9EuU9k0C99TCgKrkasZeDEQY5DG4IkX3g+OGSx7yTumi+dC3wJ0mlaL5AZc1mzJDdjoPJnwsD89fsnj4w7LpMnHhMkVHQ0+DazZVzXfTLIYuPk9qilh40pnnxcTnbz9pH6fOB+NUGKlCPf8/q9WFARl8xOXi98oBfAFQRvg/+QLPwv4TfBCO8FBIY4LmSzZlT+3L5s6RilkNb5ZURe+xoc/lNS20ErdxpnkHQjbtb/v65JBQ2r+4jTC33wE8eTPfjs6RJzwsQeejy9tm3ZtLXyck0/2yCOp6aeGj8sc5rdo++VdoQxZJ5f4+PDvQHtjD2QRKdMOi7yD/r2N9+L5PMX7TYvktdfDMIBk4o1yCSUL77sfELbjhAL22xJ/ltAP4X8jS3z7456vL68c4BqDeb+/l998ExhUxwpjHzcKOvofFJ1ZyqSsPMTX7Iqa+35mCd89FARMNCQi0G0EUt8n8p/aN/ANY9++XRl0f1nCvnve1UYKgrLjnnismZV+1jW+x6FyIAyD412O7kW5jA+mssIEKR4bExcLUX6fdhg3x+fiB4yFGsZdww8/vFt8o2+Ox1FZebKWdYZ5QDOxJv4uHOP/cKGIMT1KY+8LqVk8efdZbEIpESsHfHi+N7fffnudr4cwviJlKdv/p7bx1PCtvBOpbSavDopeb8a5LGPSZ96YJXzbef/4tob+qfq6XWblpZVrPaUgiAtKx4LTNZznWXOm6tEuvkOlY8BLfRHhBcHDP1pMr8lkYM1EM/S87uOKB91l0iQuVuz54+OBcyi0WTfffLM7Xg3NFyv7XlLChmVmssMgNMvBB+FYTUdYMQol/PjW3GjxR9n8ZCXLBxBncShymLDhtAZHOd4ZH8/YrSPuQ8GAPv4woOUOV+yy0mh2jXRDKdMWytZtnDc+yjiECScdhPF1jHazTP7idPxvrF1QMKEgoF5pM9QHK+Vcx3IASx+us8qJpKafGt7nrdX2izNLPoQMamKnM6SBc0bEbrnxSTb8t0w7LFIGbxUUt0OfmdDJU8MMDqCbnOaANRYnMaBApO+jz0ZBiFKL+2WdU7EKxcA6bwWKAbNX7DZCmmXtEYfHaVQzCxDuE66MgoCysBoUr4yG+WiWfpxn/RaB/iBQ5H0iX6l9A9aXdi+0wWqokWQpc8PwZcc98VizUR7Ce0XeaSwJcbTYbsn6bsGQCRXKFKx+sWhFOYGigLEvY95mEk72G4VF8UAaWH6wUIHwDWAxjtXdom0lLw36W74vjSRPqeufKVKWsv1/ahtPDd+udyLkl9VmGvEteq8Z57KMSb/ZO8ZRwaH0dbssyqRouJ5WEFBIbmcF9wAAD1pJREFUVvdREDCpZ+CHYOLD5IRVlXjLAPdZFcSTdFi51sGImwRgMsSAmucmm2yyQgO9smkymWNQz2CS/DKx4o+jGDnFAM0WigPupYR1EAKhM6RTpoOmk4xXGv1EBy15X0isGW53ftDQoZFGY8vKHh2377xZfUZpwOA5Vg4wOKaNFBHPzE+0/TO0IzqYUFLbXyt1m5V3Bvy03VB8OTFvTs1fGE9cl2jjMSOkI+RjD2e/IoGVDls/8DaM1Ya3VElNPzV8FpMy11g5RUFA2UKLFB8XZeOjlnUMYpxeu9phHC+/GZgy+PTvcRwmbp/x/YH6GyWhVxTyjmFNgCkl5p8cTYqpaRmh/6J/wVomy2SWVcas41DLpMV7jOVTI+F999sWGoXLukdZOM2BbwPvaJYweJeIwEAikNI3MC5ibGj9lrSEoN3jnmaZafTe8r77d79ZPO26b/0TOWU6J2aFk0G2aTCZLtsf5+WPMT3WCnzD6adPOeUUd2Q3W3lbFfpb4u1raaX/T2njlCMlfLveiRR+1p9QSvDCYVth/PLLL+cq5tnOG4/DyVRftsvChS4YsH7DasEHuyUY2iH2tKB9pEK8oKlkoBbva2KgyHGGHIvnTZc5ko2BI6bQ7N8mPiY6RVaBQg4paTLRYu85jSVe4aPjRtPEKizm4ilh8+qFCQ77oawDrJogrI6iYOGFZ1tDO4XJIxMXBrCxtDM/1CWrgRzLaB12VX0RkKZf5cta7eOYQ1a3i4j3fRFuA+E5zOuZeMRStC20o27jtOM2jxKDowdRiPk6Lpo/H3ejukQxh+Lkuuuuq1oJ8BzX2avHRDrei5iafmr4mEmZ37yfWKiw1SfefsOWCVanKdeEE07YNPp2tcO8hFB+kUdYh4JlDVZJg5IwoUY5FZ6bTPtFQUW/jpkfisRWhH4b6zS2KIXCIIY9su1aDcHqhoFonI5PE2szVhiz/I4ULR/9p/Uy7Y56jAUFddyfxGH0WwR6hUCZvoFFG1baMRduVdo57mmWF8ZC+JXKEsYtjAWytiNmhW/HNfKCr4a4b2TsYJ2MtyOJmjgYP+Pfi+83VqJsL4h9xpRNlDbB5NA6xM6NItwamRuoyY0y/X9qG08NT5bb+U40QeBus+iUt72nyPONwpRh7OPDGiVeNOMei2J8m63T4bqk+7Jd1iXW4oWeVxBQfn+GfTiQYRDIqjlaSevR1ZlAM1i2R0q5AbM9Gq9qQYCJLhXJme5oF9m7hIMr9kwTDs1jo73Ivg5S0qSTZF88Sg1WKpmks9LN/nm2NKDwsB4ynal4Sti89sAEAu0t+3EwuWWiS4eJMxesCnBQ1arZVVbamKBTLntSg+ukvbKgnflh8sVklA84A9rQqQ+TApyBUfeYm7HVgPNK4YADG+odpVHe9gtfJtoE+8o4I56PK9YK7DNmYL3CCivUFb1oW2hH3YaJsyeZtkPemARRbnxqMFHHmZl32lY0f2HceXVJB0u8cMRxmhf+z3UmarGCIDX91PB1FVLiAh25N0/kPUEBxaoxSjbeXbTDrEYXkXa1w7y07PF5rn3uscce1VUT+i2ct9KPFBUGNTj5DP94lv4vvEa76lbBogJlCc6D4n6blX3rDdmtJIVC2w3/+OiHv7E2CoX+iz2GWC8dc8wxbjBAX8B1FMx8e+L4iYM/4g2FiXk4yAjDoACnbnmHY0UPfgFQRtCXxdslUsrDNxEfNbRpFMZecOaLPxFW3zyPmENNQfRDBDpEgPZd5n0q0zfgYwaHfrwnjJlCRRrvDUpZ3s8i21nbOe7JQu3fU/5l3EMfeP/991eDsjUKP1uMxxgXe0npL8K+wD/n42l0jz4XpTrKFi+Mx0IfX3F8vi/0fSbsw7xmTc5CLozj+QZglcs3vKi/oCy24TUWWxgzo4BgXBD26Xxj2M7K/CHc9lemLGX6/9Q2nhoeDqnvRKN20eieZ45vDxagwu8T40rGIWyPCK1lUjmXYezzxQIS/nvY1uyF+Y49FcLNSeJxrw/TV+0ybKNt+b+tnK4X2wjcMV0ca5MlHA/F+bQcOxUeXcL/OWqNMyp5nj9baXVnhVsLgord7+/OyLaT84pVCrhzXO2qpTtShee4ZwfPFX/0jG2QWVlx6RdJ0z/MEYfWqVU1f6TFkVOcYRsf0VU0rOcVH+VlV7pdOf05sBwBwjnv4RE15MsfscbxMbFwTAl5DI/2isOEvzmai+MoPX+e91I0P43i9/c4vo80ONYnFvuBcGeN+zzwL0fzWQ1wxU6i3HW7p6r6WB4/zunlrF8fD2eSc8487TLrPNaUtlC0buOyhb85Lo2jhag3jh7y+eSc3vgoHp5LyR/hG9Ulx/pw/q/tnGuyyHWOYouvl0m/aH7b2X7JJ3VMuwrbD/2D/VjVlLXZj5R2WKYMduDljoqye0pdXjmCyQ5eK/b0CvfbDlaaZdEdvReWM+//vAftlvXWW68tUXJ8l1VmuWMOYcC7zlGP9mPtjt+yk+qa4/xIlL4wr6xc51uQJfDdc889K9YLt+tb7VYnF4w+zx9zyBG5cdwc9cbRSP4652kjvt6t86tqcrw7VnntjubiXeJoJcrHd4Njw7IktTx8A+1g17UdjlqEFXngSDD6Jp9Pjk+TiEArBFo95rCV96lM3+DLyreVbz59CP0fx9jxnvGt5Qi2Iv0rcRUd9zQba2bVAWM+/64yhuSbzXGH9IPkmfxyDKvdYlDzeEp/YZXmdf2ZXXBy8flvTdjf+X7QKlMqVgnpnvV9DP0Z3xyOVPXPMOb2wnc27jvD34zVmgl5YvweHkXX7Jmi9+1CkSsLx63THzMPoW+mH4/TK1uW1P4/tY2nhg/ZFH0nyrYZnxZzIY4S5d3jfeM9tBN79y3kuMXw+OgynFMZky/aIUcXkj5HJ3PkN+3Z+q6qWF8XdfO3uE31ZbuM0yr7ezAebIumoYsjQaPECirmVKyyxSZOJ554ovM9gCY4S8NoB2HOuQqrcTg+KSLN0ozjwFELmkdM8nEW6Fd643D8Tgmb9TzaTlbzKWsnTMxoYpjcYEoGf78X3eetU/lBm0s+SL+ZA5ksbv4aWkw08ezdLWJ1kdIWWq3bMN9o6vGIzvaILE/DPmxK/prVZSNuefdS0ieO1PB56aZe5/1kNYK2E7fhlLja1Q7z0sSKhjZKvcfOKvOe6Ybr9LGs7rcqlN8fYUv7Z/sY9YYfEY7z6+s+j5UN9vNjVRAey9tquegn2WrAtiisV2Knsq3Gz/PeWS7fIVgV6d/aka7iGHQI8I3DshOLvk5LO/oGxhCMn/CNw/sdW+8ULVOnxj3kB6dymGjbSY0bg/WnYEUKP1aucZDYaKzbaj5hjANyLAiyLD1bjd8/T5vArwPWrFjqNhpvlU2zaP+f2sZTw2flv13vRFbc4TWfDt9y/EC0cgJHVlpFGfMsW9KZG2KBzjZe7+eL7X5YnzaSTrXLRnkocm+QUBA0A4FPAk5BwFwl61gYBmXsncLcsl17mJrlSfdFQAREYFAi0C4FQaeY8b3gyCZ/igTp8uHH5J/vCUevaoLdqdpQOr1CoD8VBL3CSPlsDwH8TLEFgG2B8cIgKcQ+uZqlyolKzAUkIhAqCFJpNGuXqfH1VfieP8WgHWDw3on1AL4AOCOb41foCNCs4YwMB2+sGBbxVt6O/CgOERABERCB7iWAZQKWZzjeYiWR1TCcBWKphnNbVkelHOje+lPOREAEBh4BTrMKrdBw8IrFH/4j8BkQWwjHTqebEcFySwqCZpQG9n38S3g/Gvj48Faa+B3IO2o4tV12C0EpCGxN2L1DznIAp3Wnn366MxfxgjMSuxfT2P2lmWehd0tFKh8iIAIiIAKdIYAJIU5t2U6AUoAtHZxGg3NCTrXoS7PZzpRQqYiACIhAbxGg72U87yX8f3y8N2H6Y5tLbxFVbmMCOOXGqXnYtgjTaNtyaruM0+yv31IQ/I88Hlb5Y38ze+UxFeWowb7YS9Rfla10RUAEREAE2keA7wNHxPInEQEREAER6D8CTMSKHDvcfzlUyr1OIDypq2hZerVdSkEQ1TBmoVmaxqINQeFEQAREQAREQAREQAREQAREQAREoBcJDN6LmVaeRUAEREAEREAEREAEREAEREAEREAE2ktACoL28lRsIiACIiACIiACIiACIiACIiACItCTBKQg6MlqU6ZFQAREQAREQAREQAREQAREQAREoL0EpCBoL0/FJgIiIAIiIAIiIAIiIAIiIAIiIAI9SUAKgp6sNmVaBERABERABERABERABERABERABNpLQAqC9vJUbCIgAiIgAiIgAiIgAiIgAiIgAiLQkwSkIOjJalOmRUAEREAEREAEREAEREAEREAERKC9BKQgaC9PxSYCIiACIiACIiACIiACIiACIiACPUlACoKerDZlWgREQAREQAREQAREQAREQAREQATaS0AKgvbyVGwiIAIiIAIiIAIiIAIiIAIiIAIi0JMEpCDoyWpTpkVABERABERABERABERABERABESgvQSGbG90tbH9+OOP5uGHH+7LJBS3CIiACIjAACDw8ccfmzvvvHMAlERFEAERyCPwzTffmPfee0/veh4gXRcBERCBNhKYffbZzcgjj5wcY58qCH799Vfz9ttvJ2dKD4iACIiACAxaBOaYYw59LwatKldpB0ECv/32m5l22mn1rg+Cda8ii4AIdJ7A9NNPX0pBMFjFSuezqxRFQAREQAREQAREQAREQAREQAREQAS6iYB8EHRTbSgvIiACIiACIiACIiACIiACIiACItBPBKQg6CfwSlYEREAEREAEREAEREAEREAEREAEuomAFATdVBvKiwiIgAiIgAiIgAiIgAiIgAiIgAj0EwEpCPoJvJIVAREQAREQAREQAREQAREQAREQgW4iIAVBN9WG8iICIiACIiACIiACIiACIiACIiAC/URACoJ+Aq9kRUAEREAEREAEREAEREAEREAERKCbCEhB0E21obyIgAiIgAiIgAiIgAiIgAiIgAiIQD8RkIKgn8ArWREQAREQAREQAREQAREQAREQARHoJgJSEHRTbSgvIiACIiACIiACIiACIiACIiACItBPBKQg6CfwSlYEREAEREAEREAEREAEREAEREAEuomAFATdVBvKiwiIgAiIgAiIgAiIgAiIgAiIgAj0EwEpCPoJvJIVAREQAREQAREQAREQAREQAREQgW4iIAVBN9WG8iICIiACIiACIiACIiACIiACIiAC/UTg/wAE4XGQEAPAxAAAAABJRU5ErkJggg==)"
      ]
    },
    {
      "cell_type": "markdown",
      "metadata": {
        "id": "b0iiMlgtnfkC"
      },
      "source": [
        "explanation number of parameters\n",
        "input layer\n",
        "(input_shape + 1) * units.\n",
        "initial input = dim of vocabulary"
      ]
    },
    {
      "cell_type": "code",
      "execution_count": 40,
      "metadata": {
        "colab": {
          "base_uri": "https://localhost:8080/"
        },
        "id": "5ZHewa2nH5WF",
        "outputId": "0523d5a8-30d6-4d25-d044-33a82a699e3b"
      },
      "outputs": [
        {
          "name": "stdout",
          "output_type": "stream",
          "text": [
            "Model: \"sequential_12\"\n",
            "_________________________________________________________________\n",
            " Layer (type)                Output Shape              Param #   \n",
            "=================================================================\n",
            " input_layer1 (Dense)        (None, 128)               128128    \n",
            "                                                                 \n",
            " hidden_layer_1 (Dense)      (None, 64)                8256      \n",
            "                                                                 \n",
            " hidden_layer_2 (Dense)      (None, 32)                2080      \n",
            "                                                                 \n",
            " output_layer (Dense)        (None, 3)                 99        \n",
            "                                                                 \n",
            "=================================================================\n",
            "Total params: 138563 (541.26 KB)\n",
            "Trainable params: 138563 (541.26 KB)\n",
            "Non-trainable params: 0 (0.00 Byte)\n",
            "_________________________________________________________________\n",
            "Epoch 1/10\n",
            "16/16 [==============================] - 1s 24ms/step - loss: 0.8184 - accuracy: 0.7146 - val_loss: 0.6868 - val_accuracy: 0.7756\n",
            "Epoch 2/10\n",
            "16/16 [==============================] - 0s 13ms/step - loss: 0.6262 - accuracy: 0.7741 - val_loss: 0.5617 - val_accuracy: 0.7756\n",
            "Epoch 3/10\n",
            "16/16 [==============================] - 0s 12ms/step - loss: 0.4982 - accuracy: 0.7855 - val_loss: 0.4691 - val_accuracy: 0.8008\n",
            "Epoch 4/10\n",
            "16/16 [==============================] - 0s 12ms/step - loss: 0.4112 - accuracy: 0.8342 - val_loss: 0.4377 - val_accuracy: 0.8185\n",
            "Epoch 5/10\n",
            "16/16 [==============================] - 0s 12ms/step - loss: 0.3556 - accuracy: 0.8606 - val_loss: 0.4298 - val_accuracy: 0.8184\n",
            "Epoch 6/10\n",
            "16/16 [==============================] - 0s 14ms/step - loss: 0.3089 - accuracy: 0.8815 - val_loss: 0.4390 - val_accuracy: 0.8226\n",
            "Epoch 7/10\n",
            "16/16 [==============================] - 0s 13ms/step - loss: 0.2669 - accuracy: 0.9006 - val_loss: 0.4546 - val_accuracy: 0.8209\n",
            "Epoch 8/10\n",
            "16/16 [==============================] - 0s 12ms/step - loss: 0.2230 - accuracy: 0.9234 - val_loss: 0.4849 - val_accuracy: 0.8200\n",
            "Epoch 9/10\n",
            "16/16 [==============================] - 0s 12ms/step - loss: 0.1778 - accuracy: 0.9459 - val_loss: 0.5244 - val_accuracy: 0.8221\n",
            "Epoch 10/10\n",
            "16/16 [==============================] - 0s 12ms/step - loss: 0.1337 - accuracy: 0.9645 - val_loss: 0.5595 - val_accuracy: 0.8115\n",
            "172/172 [==============================] - 0s 1ms/step - loss: 0.5925 - accuracy: 0.8044\n",
            "Test Loss: 0.5925, Test Accuracy: 0.8044\n"
          ]
        }
      ],
      "source": [
        "# Number of input features is the size of the vocabulary (vocab_size)\n",
        "input_shape = vocab_size\n",
        "\n",
        "# Number of classes (for output layer) is 3 (Negative, Neutral, Positive)\n",
        "num_classes = 3\n",
        "\n",
        "# Create a Sequential model\n",
        "model = Sequential()\n",
        "\n",
        "# 1. Input Layer (size of the vocabulary from the tokenizer)\n",
        "# Hidden Layer with appropriate number of units and ReLU activation\n",
        "model.add(Dense(units=128, activation='relu', input_shape=(input_shape,), name='input_layer1'))\n",
        "\n",
        "# 2. First Hidden Layer with 64 units and ReLU activation\n",
        "model.add(Dense(units=64, activation='relu', name='hidden_layer_1'))\n",
        "\n",
        "# 3. Second Hidden Layer with 32 units and ReLU activation (additional layer)\n",
        "model.add(Dense(units=32, activation='relu', name='hidden_layer_2'))\n",
        "\n",
        "# 4. Output Layer with 3 units (for the 3 classes) and softmax activation\n",
        "model.add(Dense(units=num_classes, activation='softmax', name='output_layer'))\n",
        "\n",
        "# Compile the model with categorical crossentropy loss and an optimizer\n",
        "model.compile(optimizer='adam', loss='categorical_crossentropy', metrics=['accuracy'])\n",
        "\n",
        "# Summary of the model\n",
        "model.summary()\n",
        "\n",
        "x_val = X_train_binary[:10000]  # The first 10,000 samples are used for validation\n",
        "partial_x_train = X_train_binary[10000:]  # The remaining data is used for training\n",
        "\n",
        "y_val = y_train_categorical[:10000]  # The labels corresponding to the validation data\n",
        "partial_y_train = y_train_categorical[10000:]  # The labels for training\n",
        "\n",
        "# Model training\n",
        "history = model.fit(\n",
        "    partial_x_train,  # Partial training data\n",
        "    partial_y_train,  # Corresponding labels\n",
        "    epochs=10,        # Number of epochs\n",
        "    batch_size=512,   # Batch size\n",
        "    validation_data=(x_val, y_val)  # Validation data\n",
        ")\n",
        "\n",
        "# Model evaluation on the test data\n",
        "loss, accuracy = model.evaluate(X_test_binary , y_test_categorical)\n",
        "print(f\"Test Loss: {loss:.4f}, Test Accuracy: {accuracy:.4f}\")\n",
        "\n"
      ]
    },
    {
      "cell_type": "markdown",
      "metadata": {
        "id": "rQ79TtBX2noD"
      },
      "source": [
        "**QUESTION 1: Does the validation accuracy grow with each epoch ?**\n",
        " It grows steadily for the first 5 epochs then stabilises around a value of 0.81"
      ]
    },
    {
      "cell_type": "markdown",
      "metadata": {
        "id": "Waunfn812pCt"
      },
      "source": [
        "**POINT 3**"
      ]
    },
    {
      "cell_type": "markdown",
      "metadata": {
        "id": "M9QmdMSF2u4X"
      },
      "source": [
        "**PERCEPTRON WITH A TEXTVECTORIZER LAYER**"
      ]
    },
    {
      "cell_type": "markdown",
      "metadata": {
        "id": "eaA53JNxKF0B"
      },
      "source": [
        "**SECOND MODEL ARCHITECTURE**"
      ]
    },
    {
      "cell_type": "markdown",
      "metadata": {
        "id": "qxwlLSe-IGSn"
      },
      "source": [
        "I had previously converted Y with one-hot encoding, but with sparse_categorical_crossentropy I cannot use one-hot encoded vectors so I have to revert to the original label assignments.\n",
        "‘Negative’ → 0\n",
        "‘Neutral’ → 1\n",
        "‘Positive’ → 2"
      ]
    },
    {
      "cell_type": "code",
      "execution_count": 41,
      "metadata": {
        "colab": {
          "base_uri": "https://localhost:8080/"
        },
        "id": "1iDSOeHZxvR6",
        "outputId": "cef50e8f-6876-4cd2-ed35-42975681ac39"
      },
      "outputs": [
        {
          "name": "stdout",
          "output_type": "stream",
          "text": [
            "y_train_mapped shape: (18000,)\n",
            "y_test_mapped shape: (5486,)\n",
            "Example y_train_mapped[0]: 2\n",
            "Example y_test_mapped[0]: 2\n",
            "Model: \"sequential_13\"\n",
            "_________________________________________________________________\n",
            " Layer (type)                Output Shape              Param #   \n",
            "=================================================================\n",
            " text_vectorization_14 (Tex  (None, 1000)              0         \n",
            " tVectorization)                                                 \n",
            "                                                                 \n",
            " dense_42 (Dense)            (None, 64)                64064     \n",
            "                                                                 \n",
            " dense_43 (Dense)            (None, 32)                2080      \n",
            "                                                                 \n",
            " dense_44 (Dense)            (None, 3)                 99        \n",
            "                                                                 \n",
            "=================================================================\n",
            "Total params: 66243 (258.76 KB)\n",
            "Trainable params: 66243 (258.76 KB)\n",
            "Non-trainable params: 0 (0.00 Byte)\n",
            "_________________________________________________________________\n",
            "Epoch 1/10\n",
            "16/16 [==============================] - 1s 32ms/step - loss: 0.8064 - accuracy: 0.7384 - val_loss: 0.6904 - val_accuracy: 0.7756\n",
            "Epoch 2/10\n",
            "16/16 [==============================] - 0s 20ms/step - loss: 0.6340 - accuracy: 0.7741 - val_loss: 0.5900 - val_accuracy: 0.7756\n",
            "Epoch 3/10\n",
            "16/16 [==============================] - 0s 20ms/step - loss: 0.5362 - accuracy: 0.7755 - val_loss: 0.5137 - val_accuracy: 0.7805\n",
            "Epoch 4/10\n",
            "16/16 [==============================] - 0s 21ms/step - loss: 0.4622 - accuracy: 0.8018 - val_loss: 0.4625 - val_accuracy: 0.8041\n",
            "Epoch 5/10\n",
            "16/16 [==============================] - 1s 33ms/step - loss: 0.4050 - accuracy: 0.8393 - val_loss: 0.4388 - val_accuracy: 0.8181\n",
            "Epoch 6/10\n",
            "16/16 [==============================] - 0s 31ms/step - loss: 0.3602 - accuracy: 0.8640 - val_loss: 0.4279 - val_accuracy: 0.8227\n",
            "Epoch 7/10\n",
            "16/16 [==============================] - 0s 20ms/step - loss: 0.3226 - accuracy: 0.8830 - val_loss: 0.4225 - val_accuracy: 0.8242\n",
            "Epoch 8/10\n",
            "16/16 [==============================] - 0s 21ms/step - loss: 0.2883 - accuracy: 0.8957 - val_loss: 0.4273 - val_accuracy: 0.8232\n",
            "Epoch 9/10\n",
            "16/16 [==============================] - 0s 21ms/step - loss: 0.2582 - accuracy: 0.9096 - val_loss: 0.4369 - val_accuracy: 0.8234\n",
            "Epoch 10/10\n",
            "16/16 [==============================] - 0s 21ms/step - loss: 0.2281 - accuracy: 0.9250 - val_loss: 0.4506 - val_accuracy: 0.8214\n",
            "172/172 [==============================] - 0s 2ms/step - loss: 0.4725 - accuracy: 0.8212\n",
            "Test Loss: 0.4725, Test Accuracy: 0.8212\n"
          ]
        }
      ],
      "source": [
        "# Create a mapping for the labels\n",
        "label_map = {\n",
        "    \"Negative\": 0,\n",
        "    \"Neutral\": 1,\n",
        "    \"Positive\": 2\n",
        "}\n",
        "\n",
        "# Map the string labels in y_train and y_test to integers\n",
        "# Use a list comprehension to perform the mapping\n",
        "y_train_mapped = np.array([label_map[label] for label in y_train])\n",
        "y_test_mapped = np.array([label_map[label] for label in y_test])\n",
        "\n",
        "# Verify the result\n",
        "print(\"y_train_mapped shape:\", y_train_mapped.shape)  # Display the shape of the training labels\n",
        "print(\"y_test_mapped shape:\", y_test_mapped.shape)    # Display the shape of the test labels\n",
        "print(\"Example y_train_mapped[0]:\", y_train_mapped[0])  # Display the first mapped training label\n",
        "print(\"Example y_test_mapped[0]:\", y_test_mapped[0])    # Display the first mapped test label\n",
        "\n",
        "# Define the vocabulary size and the fixed length for sequences\n",
        "vocab_size = 1000  # Maximum number of tokens\n",
        "output_sequence_length = 100  # Maximum length of the output sequences from the vectorizer\n",
        "\n",
        "# Create a separate TextVectorization layer\n",
        "vectorizer = TextVectorization(max_tokens=vocab_size, output_mode='multi_hot')\n",
        "\n",
        "# Adapt the TextVectorization layer to the training data\n",
        "vectorizer.adapt(X_train)  # X_train must be a list of strings\n",
        "\n",
        "# Create a sequential model\n",
        "model = Sequential()\n",
        "\n",
        "# Add an explicit input layer for strings\n",
        "model.add(Input(shape=(1,), dtype=tf.string))  # Input layer that accepts strings\n",
        "\n",
        "# Add the TextVectorization layer as the first layer of the model\n",
        "model.add(vectorizer)\n",
        "\n",
        "# Add the first hidden layer with 64 units and ReLU activation\n",
        "model.add(Dense(units=64, activation='relu'))\n",
        "\n",
        "# Add the second hidden layer with 32 units and ReLU activation\n",
        "model.add(Dense(units=32, activation='relu'))\n",
        "\n",
        "# Add the output layer with 3 units and softmax activation (for 3 classes)\n",
        "model.add(Dense(units=3, activation='softmax'))\n",
        "\n",
        "# Compile the model with sparse categorical crossentropy and Adam optimizer\n",
        "model.compile(optimizer='adam', loss='sparse_categorical_crossentropy', metrics=['accuracy'])\n",
        "\n",
        "# Display the model summary\n",
        "model.summary()\n",
        "\n",
        "x_val = X_train[:10000]  # The first 10,000 samples are used for validation\n",
        "partial_x_train = X_train[10000:]  # The remaining data is used for training\n",
        "\n",
        "y_val = y_train_mapped[:10000]  # The labels corresponding to the validation data\n",
        "partial_y_train = y_train_mapped[10000:]  # The labels for training\n",
        "\n",
        "# Train the model\n",
        "history = model.fit(\n",
        "    partial_x_train,  # Partial training data\n",
        "    partial_y_train,  # Corresponding labels\n",
        "    epochs=10,        # Number of epochs\n",
        "    batch_size=512,   # Batch size\n",
        "    validation_data=(x_val, y_val)  # Validation data\n",
        ")\n",
        "\n",
        "# Evaluate the model on the test data\n",
        "loss, accuracy = model.evaluate(X_test , y_test_mapped)\n",
        "print(f\"Test Loss: {loss:.4f}, Test Accuracy: {accuracy:.4f}\")\n",
        "\n",
        "\n"
      ]
    },
    {
      "cell_type": "markdown",
      "metadata": {
        "id": "qhsFUdKyTwSt"
      },
      "source": [
        "**QUESTION 2**\n",
        "Is the new model any better than the previous one ?\n",
        "The accuracy of the two models is more or less the same. However, the loss decreases significantly."
      ]
    },
    {
      "cell_type": "markdown",
      "metadata": {
        "id": "MPEhDQqJU4k2"
      },
      "source": [
        "**PUNTO 4**"
      ]
    },
    {
      "cell_type": "markdown",
      "metadata": {
        "id": "ULx3zmhUVhvX"
      },
      "source": [
        "**CNN con TextVectorizer layer and word embeddings**"
      ]
    },
    {
      "cell_type": "markdown",
      "metadata": {
        "id": "w3iMwFS7cG0e"
      },
      "source": [
        "**THIRD MODEL ARCHITECTURE**"
      ]
    },
    {
      "cell_type": "markdown",
      "metadata": {
        "id": "Gudn_aRTl7wM"
      },
      "source": [
        "**COMMENTS:**\n",
        "\n",
        "I modified the format of Y to be compatible with Categorical Crossentropy; in fact, the conversion of labels to one-hot encoded format is necessary."
      ]
    },
    {
      "cell_type": "code",
      "execution_count": 42,
      "metadata": {
        "colab": {
          "base_uri": "https://localhost:8080/"
        },
        "id": "MSCeYQVFwBp2",
        "outputId": "c39e2854-6b16-4747-f66e-7539b314944a"
      },
      "outputs": [
        {
          "name": "stdout",
          "output_type": "stream",
          "text": [
            "y_train_categorical shape: (18000, 3)\n",
            "y_test_categorical shape: (5486, 3)\n",
            "Example y_train_categorical[0]: [0. 0. 1.]\n",
            "Example y_test_categorical[0]: [0. 0. 1.]\n",
            "Epoch 1/10\n",
            "16/16 [==============================] - 8s 437ms/step - loss: 0.9146 - accuracy: 0.7290 - val_loss: 0.7469 - val_accuracy: 0.7756\n",
            "Epoch 2/10\n",
            "16/16 [==============================] - 7s 445ms/step - loss: 0.6976 - accuracy: 0.7741 - val_loss: 0.6739 - val_accuracy: 0.7756\n",
            "Epoch 3/10\n",
            "16/16 [==============================] - 7s 420ms/step - loss: 0.6518 - accuracy: 0.7741 - val_loss: 0.6232 - val_accuracy: 0.7756\n",
            "Epoch 4/10\n",
            "16/16 [==============================] - 6s 349ms/step - loss: 0.5882 - accuracy: 0.7741 - val_loss: 0.5758 - val_accuracy: 0.7756\n",
            "Epoch 5/10\n",
            "16/16 [==============================] - 7s 424ms/step - loss: 0.5295 - accuracy: 0.7741 - val_loss: 0.5603 - val_accuracy: 0.7756\n",
            "Epoch 6/10\n",
            "16/16 [==============================] - 7s 422ms/step - loss: 0.4874 - accuracy: 0.7741 - val_loss: 0.5625 - val_accuracy: 0.7756\n",
            "Epoch 7/10\n",
            "16/16 [==============================] - 7s 443ms/step - loss: 0.4517 - accuracy: 0.7741 - val_loss: 0.5785 - val_accuracy: 0.7762\n",
            "Epoch 8/10\n",
            "16/16 [==============================] - 5s 347ms/step - loss: 0.4083 - accuracy: 0.8169 - val_loss: 0.6074 - val_accuracy: 0.7903\n",
            "Epoch 9/10\n",
            "16/16 [==============================] - 7s 445ms/step - loss: 0.3463 - accuracy: 0.8491 - val_loss: 0.6781 - val_accuracy: 0.7815\n",
            "Epoch 10/10\n",
            "16/16 [==============================] - 5s 350ms/step - loss: 0.3007 - accuracy: 0.8655 - val_loss: 0.6905 - val_accuracy: 0.7824\n",
            "172/172 [==============================] - 1s 7ms/step - loss: 0.7244 - accuracy: 0.7803\n",
            "Test Loss: 0.7244\n",
            "Test Accuracy: 0.7803\n"
          ]
        }
      ],
      "source": [
        "# Create a mapping for the labels\n",
        "label_map = {\"Negative\": 0, \"Neutral\": 1, \"Positive\": 2}\n",
        "\n",
        "# Map the string labels in y_train and y_test to integers\n",
        "y_train_mapped = np.array([label_map[label] for label in y_train])\n",
        "y_test_mapped = np.array([label_map[label] for label in y_test])\n",
        "\n",
        "# Convert the integer labels to one-hot encoded vectors\n",
        "y_train_categorical = to_categorical(y_train_mapped, num_classes=3)\n",
        "y_test_categorical = to_categorical(y_test_mapped, num_classes=3)\n",
        "\n",
        "# Verify the result\n",
        "print(\"y_train_categorical shape:\", y_train_categorical.shape)\n",
        "print(\"y_test_categorical shape:\", y_test_categorical.shape)\n",
        "print(\"Example y_train_categorical[0]:\", y_train_categorical[0])\n",
        "print(\"Example y_test_categorical[0]:\", y_test_categorical[0])\n",
        "\n",
        "\n",
        "# Configuration parameters\n",
        "max_tokens = 10000  # Maximum vocabulary size\n",
        "output_sequence_length = 100  # Fixed length for sequences\n",
        "embedding_dim = 60  # Embedding dimension\n",
        "num_classes = 3  # Number of classes in the multi-class classifier\n",
        "\n",
        "# Define the input layer\n",
        "inputs = Input(shape=(1,), dtype=tf.string, name='text_input')\n",
        "\n",
        "# Define the TextVectorization layer\n",
        "vectorizer = TextVectorization(\n",
        "    max_tokens=max_tokens,\n",
        "    output_mode='int',\n",
        "    output_sequence_length=output_sequence_length\n",
        ")\n",
        "\n",
        "# Adapt the TextVectorization layer to the training data\n",
        "vectorizer.adapt(X_train)  # Adapt using the training data\n",
        "\n",
        "# Apply the TextVectorization layer to the input\n",
        "x = vectorizer(inputs)\n",
        "\n",
        "# Define the Embedding layer\n",
        "embedding_layer = Embedding(\n",
        "    input_dim=max_tokens,\n",
        "    output_dim=embedding_dim\n",
        ")\n",
        "\n",
        "# Apply the Embedding layer\n",
        "x = embedding_layer(x)\n",
        "\n",
        "# Add two Conv1D layers\n",
        "x = Conv1D(filters=64, kernel_size=5, activation='relu')(x)\n",
        "x = Conv1D(filters=128, kernel_size=5, activation='relu')(x)\n",
        "\n",
        "# Add a GlobalMaxPooling1D layer\n",
        "x = GlobalMaxPooling1D()(x)\n",
        "\n",
        "# Add two Dense layers\n",
        "x = Dense(128, activation='relu')(x)\n",
        "x = Dense(64, activation='relu')(x)\n",
        "\n",
        "# Define the output layer with softmax activation for multi-class classification\n",
        "outputs = tf.keras.layers.Dense(num_classes, activation='softmax')(x)\n",
        "\n",
        "# Build the final model using the functional API\n",
        "model = Model(inputs=inputs, outputs=outputs)\n",
        "\n",
        "# Compile the model with categorical_crossentropy for multi-class classification\n",
        "model.compile(optimizer='adam',\n",
        "              loss='categorical_crossentropy',\n",
        "              metrics=['accuracy'])\n",
        "\n",
        "# Training the model\n",
        "# Split the training data into partial training and validation sets\n",
        "x_val = X_train[:10000]  # First 10,000 samples for validation\n",
        "partial_x_train = X_train[10000:]  # Remaining data for training\n",
        "\n",
        "y_val = y_train_categorical[:10000]  # Corresponding labels for validation\n",
        "partial_y_train = y_train_categorical[10000:]  # Remaining labels for training\n",
        "\n",
        "history = model.fit(\n",
        "    partial_x_train,  # Partial training data\n",
        "    partial_y_train,  # Corresponding labels\n",
        "    epochs=10,        # Number of epochs\n",
        "    batch_size=512,   # Batch size\n",
        "    validation_data=(x_val, y_val)  # Validation data\n",
        ")\n",
        "\n",
        "# Evaluate the model on the test data\n",
        "test_loss, test_accuracy = model.evaluate(X_test, y_test_categorical)\n",
        "\n",
        "print(f\"Test Loss: {test_loss:.4f}\")\n",
        "print(f\"Test Accuracy: {test_accuracy:.4f}\")\n"
      ]
    },
    {
      "cell_type": "markdown",
      "metadata": {
        "id": "iZRHprBU-Z5q"
      },
      "source": [
        "**QUESTION 3: Does this model perform any better than the previous one?**\n",
        "The values of the performance metric are almost the same but if we enlarge the dimension of the embeddings or the one of the dictionary it improves."
      ]
    }
  ],
  "metadata": {
    "colab": {
      "provenance": []
    },
    "kernelspec": {
      "display_name": "Python 3",
      "name": "python3"
    },
    "language_info": {
      "name": "python"
    }
  },
  "nbformat": 4,
  "nbformat_minor": 0
}
